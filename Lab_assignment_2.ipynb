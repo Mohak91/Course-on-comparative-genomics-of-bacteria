{
  "nbformat": 4,
  "nbformat_minor": 0,
  "metadata": {
    "colab": {
      "provenance": [],
      "authorship_tag": "ABX9TyO4u6tRpcZAQuaybLcGdMol",
      "include_colab_link": true
    },
    "kernelspec": {
      "name": "python3",
      "display_name": "Python 3"
    },
    "language_info": {
      "name": "python"
    }
  },
  "cells": [
    {
      "cell_type": "markdown",
      "metadata": {
        "id": "view-in-github",
        "colab_type": "text"
      },
      "source": [
        "<a href=\"https://colab.research.google.com/github/Mohak91/Course-on-comparative-genomics-of-bacteria/blob/main/Lab_assignment_2.ipynb\" target=\"_parent\"><img src=\"https://colab.research.google.com/assets/colab-badge.svg\" alt=\"Open In Colab\"/></a>"
      ]
    },
    {
      "cell_type": "markdown",
      "source": [
        "#Question 1: Read the gene sequence from the file attached with this assignment notebook in a fasta format (\"gene_sequence.txt\"). Do the following:\n",
        "\n",
        "a. Transcribe the gene sequence into the corresponding mRNA sequence. Print it on the screen. (Hint: All T will be replaced with U)\n",
        "\n",
        "b. Translate the mRNA sequence into the protein sequence. (Hint: You will have to make a dictionary with all codons as keys and the amino acid they code for as the corresponding values. Remember, in a dictionary, keys have to be unique always, Values need not be. In other words, two keys can have the same value. But the same key can not have two different values in the same dictionary.)\n",
        "\n",
        "c. Write the protein sequence into a file called \"protein_sequence.txt\", in a fasta format. The info line will be the same as the info line of the \"gene_sequence.txt\". The protein sequence will be the one that you deciphered in the previous step."
      ],
      "metadata": {
        "id": "vWZo4T2FMXLl"
      }
    },
    {
      "cell_type": "code",
      "execution_count": null,
      "metadata": {
        "id": "7vNqGm7sMTn4"
      },
      "outputs": [],
      "source": []
    }
  ]
}