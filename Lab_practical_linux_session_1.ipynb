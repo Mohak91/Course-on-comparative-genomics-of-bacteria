{
  "nbformat": 4,
  "nbformat_minor": 0,
  "metadata": {
    "colab": {
      "name": "Lab_practical_linux_session_1.ipynb",
      "provenance": [],
      "authorship_tag": "ABX9TyN0nsDoUnNOlXEmaSY/ElJJ",
      "include_colab_link": true
    },
    "kernelspec": {
      "name": "python3",
      "display_name": "Python 3"
    },
    "language_info": {
      "name": "python"
    }
  },
  "cells": [
    {
      "cell_type": "markdown",
      "metadata": {
        "id": "view-in-github",
        "colab_type": "text"
      },
      "source": [
        "<a href=\"https://colab.research.google.com/github/Mohak91/Course-on-comparative-genomics-of-bacteria/blob/main/Lab_practical_linux_session_1.ipynb\" target=\"_parent\"><img src=\"https://colab.research.google.com/assets/colab-badge.svg\" alt=\"Open In Colab\"/></a>"
      ]
    },
    {
      "cell_type": "markdown",
      "source": [
        "#Welcome to your first practical session on basic linux for bioinformatics!\n",
        "\n",
        "We discussed in class, how bioinformaticians can use Linux to their advantage. While the debate between linux/ubuntu and non-linux/ubuntu OS is vast, for our purpose, the only point that is important enough to learn linux is the unavailability of softwares for non-linux based operating systems.\n",
        "\n",
        "Therefore, learning linux will help us make extensive and streamlined computational pipelines, that would be easy to execute, share, understand and most importantly reproduce. Reproducibility is key in research!\n",
        "\n",
        "Next, we discussed how these sessions as stand-alone are not going to be sufficient to turn you guys into pro-programmers, but allow you to use these languages as a tool to carry out bioinformatics analyses. \n",
        "\n",
        "Finally, the more you practice, the more you get good at it. There is no substitute. In addition to these sessions, if you know how to google ( it is a rare skill, trust me), you can master anything. \n",
        "\n",
        "###Google is a computational biologist's best friend!"
      ],
      "metadata": {
        "id": "np7ESQsgrdtH"
      }
    },
    {
      "cell_type": "code",
      "execution_count": 1,
      "metadata": {
        "colab": {
          "base_uri": "https://localhost:8080/"
        },
        "id": "Di4ab11Yj2v0",
        "outputId": "a3ae3385-bf41-4a88-f7d2-5bb2f3a720c8"
      },
      "outputs": [
        {
          "output_type": "stream",
          "name": "stdout",
          "text": [
            "Mounted at /content/drive/\n"
          ]
        }
      ],
      "source": [
        "#mounting our work space from google drive into the google colab memory. \n",
        "#We start from the root folder i.e \"content\", hence the \"/\" at the beginning and traversing to sub-folder \"drive\"\n",
        "\n",
        "from google.colab import drive\n",
        "drive.mount(\"/content/drive/\")"
      ]
    },
    {
      "cell_type": "code",
      "source": [
        "#just checking if automagic is on. Automagic will allow us to execute linux commands like we would on a terminal offline.\n",
        "%lsmagic"
      ],
      "metadata": {
        "colab": {
          "base_uri": "https://localhost:8080/",
          "height": 190
        },
        "id": "1jOx2UJZlix6",
        "outputId": "4348b300-58ec-4648-e0b1-5d61d13b864d"
      },
      "execution_count": null,
      "outputs": [
        {
          "output_type": "execute_result",
          "data": {
            "text/plain": [
              "Available line magics:\n",
              "%alias  %alias_magic  %autoawait  %autocall  %automagic  %autosave  %bookmark  %cat  %cd  %clear  %colors  %conda  %config  %connect_info  %cp  %debug  %dhist  %dirs  %doctest_mode  %ed  %edit  %env  %gui  %hist  %history  %killbgscripts  %ldir  %less  %lf  %lk  %ll  %load  %load_ext  %loadpy  %logoff  %logon  %logstart  %logstate  %logstop  %ls  %lsmagic  %lx  %macro  %magic  %man  %matplotlib  %mkdir  %more  %mv  %notebook  %page  %pastebin  %pdb  %pdef  %pdoc  %pfile  %pinfo  %pinfo2  %pip  %popd  %pprint  %precision  %prun  %psearch  %psource  %pushd  %pwd  %pycat  %pylab  %qtconsole  %quickref  %recall  %rehashx  %reload_ext  %rep  %rerun  %reset  %reset_selective  %rm  %rmdir  %run  %save  %sc  %set_env  %shell  %store  %sx  %system  %tb  %tensorflow_version  %time  %timeit  %unalias  %unload_ext  %who  %who_ls  %whos  %xdel  %xmode\n",
              "\n",
              "Available cell magics:\n",
              "%%!  %%HTML  %%SVG  %%bash  %%bigquery  %%capture  %%debug  %%file  %%html  %%javascript  %%js  %%latex  %%markdown  %%perl  %%prun  %%pypy  %%python  %%python2  %%python3  %%ruby  %%script  %%sh  %%shell  %%svg  %%sx  %%system  %%time  %%timeit  %%writefile\n",
              "\n",
              "Automagic is ON, % prefix IS NOT needed for line magics."
            ],
            "application/json": {
              "line": {
                "automagic": "AutoMagics",
                "autocall": "AutoMagics",
                "alias_magic": "BasicMagics",
                "lsmagic": "BasicMagics",
                "magic": "BasicMagics",
                "page": "BasicMagics",
                "pprint": "BasicMagics",
                "colors": "BasicMagics",
                "xmode": "BasicMagics",
                "quickref": "BasicMagics",
                "doctest_mode": "BasicMagics",
                "gui": "BasicMagics",
                "precision": "BasicMagics",
                "notebook": "BasicMagics",
                "save": "CodeMagics",
                "pastebin": "CodeMagics",
                "loadpy": "CodeMagics",
                "load": "CodeMagics",
                "edit": "KernelMagics",
                "config": "ConfigMagics",
                "prun": "ExecutionMagics",
                "pdb": "ExecutionMagics",
                "debug": "ExecutionMagics",
                "tb": "ExecutionMagics",
                "run": "ExecutionMagics",
                "timeit": "ExecutionMagics",
                "time": "ExecutionMagics",
                "macro": "ExecutionMagics",
                "load_ext": "ExtensionMagics",
                "unload_ext": "ExtensionMagics",
                "reload_ext": "ExtensionMagics",
                "history": "HistoryMagics",
                "recall": "HistoryMagics",
                "rerun": "HistoryMagics",
                "logstart": "LoggingMagics",
                "logstop": "LoggingMagics",
                "logoff": "LoggingMagics",
                "logon": "LoggingMagics",
                "logstate": "LoggingMagics",
                "pinfo": "NamespaceMagics",
                "pinfo2": "NamespaceMagics",
                "pdef": "NamespaceMagics",
                "pdoc": "NamespaceMagics",
                "psource": "NamespaceMagics",
                "pfile": "NamespaceMagics",
                "psearch": "NamespaceMagics",
                "who_ls": "NamespaceMagics",
                "who": "NamespaceMagics",
                "whos": "NamespaceMagics",
                "reset": "NamespaceMagics",
                "reset_selective": "NamespaceMagics",
                "xdel": "NamespaceMagics",
                "alias": "OSMagics",
                "unalias": "OSMagics",
                "rehashx": "OSMagics",
                "pwd": "OSMagics",
                "cd": "OSMagics",
                "env": "OSMagics",
                "set_env": "OSMagics",
                "pushd": "OSMagics",
                "popd": "OSMagics",
                "dirs": "OSMagics",
                "dhist": "OSMagics",
                "sc": "OSMagics",
                "sx": "OSMagics",
                "system": "OSMagics",
                "bookmark": "OSMagics",
                "pycat": "OSMagics",
                "pip": "Other",
                "conda": "PackagingMagics",
                "matplotlib": "PylabMagics",
                "pylab": "PylabMagics",
                "killbgscripts": "ScriptMagics",
                "autoawait": "AsyncMagics",
                "ed": "Other",
                "hist": "Other",
                "rep": "Other",
                "clear": "KernelMagics",
                "less": "KernelMagics",
                "more": "KernelMagics",
                "man": "KernelMagics",
                "connect_info": "KernelMagics",
                "qtconsole": "KernelMagics",
                "autosave": "KernelMagics",
                "mkdir": "Other",
                "rmdir": "Other",
                "mv": "Other",
                "rm": "Other",
                "cp": "Other",
                "cat": "Other",
                "ls": "Other",
                "ll": "Other",
                "lf": "Other",
                "lk": "Other",
                "ldir": "Other",
                "lx": "Other",
                "store": "StoreMagics",
                "shell": "Other",
                "tensorflow_version": "Other"
              },
              "cell": {
                "js": "DisplayMagics",
                "javascript": "DisplayMagics",
                "latex": "DisplayMagics",
                "svg": "DisplayMagics",
                "html": "DisplayMagics",
                "markdown": "DisplayMagics",
                "prun": "ExecutionMagics",
                "debug": "ExecutionMagics",
                "timeit": "ExecutionMagics",
                "time": "ExecutionMagics",
                "capture": "ExecutionMagics",
                "sx": "OSMagics",
                "system": "OSMagics",
                "!": "OSMagics",
                "writefile": "OSMagics",
                "script": "ScriptMagics",
                "sh": "Other",
                "bash": "Other",
                "perl": "Other",
                "ruby": "Other",
                "python": "Other",
                "python2": "Other",
                "python3": "Other",
                "pypy": "Other",
                "SVG": "Other",
                "HTML": "Other",
                "file": "Other",
                "bigquery": "Other",
                "shell": "Other"
              }
            }
          },
          "metadata": {},
          "execution_count": 2
        }
      ]
    },
    {
      "cell_type": "markdown",
      "source": [
        "The general structure of all linux commands is as follows:\n",
        "\n",
        "###command *options* file/subject"
      ],
      "metadata": {
        "id": "oK1wBmxKzGKK"
      }
    },
    {
      "cell_type": "code",
      "source": [
        "# A \"#\" is used to comment something about the code. It is not interpreted by the OS."
      ],
      "metadata": {
        "id": "0ONUgrXW5aI-"
      },
      "execution_count": null,
      "outputs": []
    },
    {
      "cell_type": "code",
      "source": [
        "#Change to our working directory. In my case it is \"comp_gen_bacteria_krea\".\n",
        "#cd: change directory\n",
        "\n",
        "%cd /content/drive/MyDrive/comp_gen_bacteria_krea"
      ],
      "metadata": {
        "colab": {
          "base_uri": "https://localhost:8080/"
        },
        "id": "PoxJU0iNmVyM",
        "outputId": "3ba1b161-31f7-4b0b-9464-c7b16859fc11"
      },
      "execution_count": 2,
      "outputs": [
        {
          "output_type": "stream",
          "name": "stdout",
          "text": [
            "/content/drive/MyDrive/comp_gen_bacteria_krea\n"
          ]
        }
      ]
    },
    {
      "cell_type": "code",
      "source": [
        "#Check if we are in the directory we intended to be in.\n",
        "#pwd: present working directory\n",
        "\n",
        "%pwd"
      ],
      "metadata": {
        "colab": {
          "base_uri": "https://localhost:8080/",
          "height": 34
        },
        "id": "52ivCp4wnV0E",
        "outputId": "f27b072d-ae21-4bdf-b366-23f976091170"
      },
      "execution_count": null,
      "outputs": [
        {
          "output_type": "execute_result",
          "data": {
            "text/plain": [
              "'/content/drive/MyDrive/comp_gen_bacteria_krea'"
            ],
            "application/vnd.google.colaboratory.intrinsic+json": {
              "type": "string"
            }
          },
          "metadata": {},
          "execution_count": 5
        }
      ]
    },
    {
      "cell_type": "code",
      "source": [
        "#List all the contents of the folder we are in\n",
        "\n",
        "%ls"
      ],
      "metadata": {
        "colab": {
          "base_uri": "https://localhost:8080/"
        },
        "id": "Kp61xsDXnlIE",
        "outputId": "a2f94740-f8d3-4919-841b-d1e29ce4b90d"
      },
      "execution_count": null,
      "outputs": [
        {
          "output_type": "stream",
          "name": "stdout",
          "text": [
            "Lab_practical_linux_session_1.ipynb  Linux_practice_session.ipynb\n"
          ]
        }
      ]
    },
    {
      "cell_type": "code",
      "source": [
        "#Create a new directory called \"practice_mkdir\" in our working directory \"comp_gen_bacteria_krea\"\n",
        "#mkdir: make directory\n",
        "\n",
        "%mkdir lab_session_1_linux_basics"
      ],
      "metadata": {
        "id": "iCCjtkaAn3QC"
      },
      "execution_count": null,
      "outputs": []
    },
    {
      "cell_type": "code",
      "source": [
        "#Check if the directory is made\n",
        "\n",
        "%ls"
      ],
      "metadata": {
        "colab": {
          "base_uri": "https://localhost:8080/"
        },
        "id": "qni3hvspoCIg",
        "outputId": "be3be001-11b1-46a8-c2ca-5cb1270ae366"
      },
      "execution_count": null,
      "outputs": [
        {
          "output_type": "stream",
          "name": "stdout",
          "text": [
            "Lab_practical_linux_session_1.ipynb  Linux_practice_session.ipynb\n",
            "\u001b[0m\u001b[01;34mlab_session_1_linux_basics\u001b[0m/\n"
          ]
        }
      ]
    },
    {
      "cell_type": "code",
      "source": [
        "%man ls"
      ],
      "metadata": {
        "id": "MCDVDEg1U76B"
      },
      "execution_count": 5,
      "outputs": []
    },
    {
      "cell_type": "markdown",
      "source": [
        "Let's create our first file.\n",
        "We will create a fasta file with the extension .fa\n",
        "\n",
        "Fasta file is the most common used file type in bioinformatics. It contains the information of the DNA/RNA/protein sequence along with the sequence itself.\n",
        "\n",
        "For example, a dummy DNA sequence for a gene X from the bacterium Escherichia coli would be written as follows in a fasta file.\n",
        "\n",
        "\\>Escherichia_coli_gene_X\n",
        "ATCGATCGAGTCATCGAGCTACGATCGACGTAGCATGCAGTCGTCAT"
      ],
      "metadata": {
        "id": "_Hl2N8Hy_C2O"
      }
    },
    {
      "cell_type": "code",
      "source": [
        "#let's create a fasta file using the command cat, short for concatenate\n",
        "\n",
        "%cat > dummy_ecoli_sequence.fa\n"
      ],
      "metadata": {
        "id": "NHBP11NM6D2f",
        "colab": {
          "base_uri": "https://localhost:8080/"
        },
        "outputId": "773d5f45-66e4-470b-853d-9afc297530ac"
      },
      "execution_count": null,
      "outputs": [
        {
          "metadata": {
            "tags": null
          },
          "name": "stdout",
          "output_type": "stream",
          "text": [
            ">Escherichia_coli_gene_X\n",
            "ATCGATCGAGTCATCGAGCTACGATCGACGTAGCATGCAGTCGTCAT\n",
            "\n"
          ]
        }
      ]
    },
    {
      "cell_type": "code",
      "source": [
        "%cat dummy_ecoli_sequence.fa"
      ],
      "metadata": {
        "id": "o8CcO7KqBXhs"
      },
      "execution_count": null,
      "outputs": []
    }
  ]
}