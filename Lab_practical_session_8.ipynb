{
  "nbformat": 4,
  "nbformat_minor": 0,
  "metadata": {
    "colab": {
      "provenance": [],
      "authorship_tag": "ABX9TyOHdvljciu6JzIkK/lpTn0b",
      "include_colab_link": true
    },
    "kernelspec": {
      "name": "python3",
      "display_name": "Python 3"
    },
    "language_info": {
      "name": "python"
    }
  },
  "cells": [
    {
      "cell_type": "markdown",
      "metadata": {
        "id": "view-in-github",
        "colab_type": "text"
      },
      "source": [
        "<a href=\"https://colab.research.google.com/github/Mohak91/Course-on-comparative-genomics-of-bacteria/blob/main/Lab_practical_session_8.ipynb\" target=\"_parent\"><img src=\"https://colab.research.google.com/assets/colab-badge.svg\" alt=\"Open In Colab\"/></a>"
      ]
    },
    {
      "cell_type": "markdown",
      "source": [
        "In bacteria, methylation occurs in the context of a motif. Methylation plays a role in providing innate immunity and gene regulation in bacteria.\n",
        "\n",
        "There are different kinds of methylations. One of the most common kinds is 5-methyl-cytosine methylation, where a methyl group is added to the 5th position on the cytosine structure. The proteins that can add methylation marks on cytosine are called cytosine methyltransferases.\n",
        "\n",
        "However, cytosine methylation has a mutational cost associated with it. A methylated cytosine can undergo hydrolytic deamination to convert into a Thymine (compare the structure of Cytosine and Thymine). This propensity is three times more than a non-methylated cytosine getting converted into a Uracil. Where, a Uracil in a DNA can be easily detected by repair machineries, it is relatively difficult to identify a me-C that has converted to a Thymine, to yield a T:G mismatch ( T on one strand and G on the other, where there was a C:G base pair before), especially in the stationary phase, where bacteria spend most of their life cycle in the wild and all the conventional repair proteins cease to be expressed like base excision, nucleotide excision and mismatch repair etc.\n",
        "\n",
        "If left unrepaired, the me-C:G that get's mutated to a T:G mismatch base pair, can give a T:A in the next round of replication i.e in one of the descendants, the C:G -> A:T mutation occurs.\n",
        "\n",
        "In organisms like E.coli, there is a repair protein called Vsr (very short patch repair) that is even active in the stationary phase, that can identify T:G mismatches and prevent the C:G -> A:T from happening in the daughter cells. In E.coli, the cytosine methyltransferase is called Dcm and it methylates the second cytosine in the motif CCWGG, where W is either an A or a T (two motif context possibilities)\n",
        "\n",
        "However, in organisms like V. cholerae, Vsr is absent, therefore the chances of C:G -> A:T are relatively higher, assuming no other demethylation mechanisms exist (since none have been reported so far). In V. cholerae, the cytosine methyltransferase is called VChM and it methylates the first cytosine in the motif RCCGGY, where R could be any purine and Y could be any pyrimidine (four motif context possibilities).\n",
        "\n",
        "There are many interesting questions that come out of this premise:\n",
        "\n",
        "a. How do organisms like V.cholerae cope with this situation?\n",
        "\n",
        "b. If there is a mutational cost associated with RCCGGY in Vibrio cholerae, does it use motif avoidance as a strategy to minimise the risk of potential mutations from occuring?\n",
        "\n",
        "c. Other than motif avoidance, what other strategies could be used?\n",
        "\n",
        "d. Of the loci in the genome which do have the RCCGGY, what could it mean to have those motifs still be present their? Why hasn't evolution not removed all RCCGGY motifs from the entire genome? (ofcourse think about if all motifs are removed, it could disallow methylation from occuring and might disrupt the role of methylation in regulation etc. So a complete removal of RCCGGY might not be a good option, isn't it?)\n",
        "\n",
        "e. What are the genes/non-coding regions that retained the motif? Could it be to any benefit to the organism, functionality wise? (are they present in synonymous or non-synonymous positions if present inside a protein coding gene)\n",
        "\n",
        "While all these are open questions to think about, one can start by easily testing question b. Could V. cholerae use motif avoidance ( or under-representation) as opposed to motif abundance ( or over-presentation) as a strategy to minimise the cost of cytosine methylation?\n",
        "\n",
        "A simple way of doing this is to count the ratio of observed number of RCCGGY motifs in V.cholerae genome to the expected number of RCCGGY motifs in the same genome. \n",
        "\n",
        "As an exercise, We discussed how to calculate for M. genitalium genome, the observed number of RCCGGY motifs, the expected number of RCCGGY motifs:\n",
        "1. Using first principles of counting.\n",
        "2. Using random shuffling of the genome that yields us the mean and the standard deviation.\n",
        "\n",
        "Do the following:\n",
        "\n",
        "1. Calculate the ratio of observed/expected for RCCGGY in the Vibrio cholerae genome ( it has two chromosomes. the number of these motifs should be counted separately for the two chromosomes and later added to give the final motif count, both observed and expected)\n",
        "\n",
        "2. Calculate the ratio of observed/expected for CCWGG in the Escherichia coli genome.\n",
        "\n",
        "3. Calculate the ratio of observed/expected for RCCGGY in E.coli and CCWGG in V.cholerae\n",
        "\n",
        "What does your analysis tell you? What are the observations and the inferences that your analysis suggests?"
      ],
      "metadata": {
        "id": "LO59y6o5PH4a"
      }
    },
    {
      "cell_type": "code",
      "source": [],
      "metadata": {
        "id": "ptPcu3ZRPG4u"
      },
      "execution_count": null,
      "outputs": []
    }
  ]
}