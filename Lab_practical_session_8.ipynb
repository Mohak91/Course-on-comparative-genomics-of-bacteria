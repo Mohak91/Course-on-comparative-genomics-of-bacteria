{
  "nbformat": 4,
  "nbformat_minor": 0,
  "metadata": {
    "colab": {
      "provenance": [],
      "authorship_tag": "ABX9TyOpxOBivdymqtGzSoxDUljk",
      "include_colab_link": true
    },
    "kernelspec": {
      "name": "python3",
      "display_name": "Python 3"
    },
    "language_info": {
      "name": "python"
    }
  },
  "cells": [
    {
      "cell_type": "markdown",
      "metadata": {
        "id": "view-in-github",
        "colab_type": "text"
      },
      "source": [
        "<a href=\"https://colab.research.google.com/github/Mohak91/Course-on-comparative-genomics-of-bacteria/blob/main/Lab_practical_session_8.ipynb\" target=\"_parent\"><img src=\"https://colab.research.google.com/assets/colab-badge.svg\" alt=\"Open In Colab\"/></a>"
      ]
    },
    {
      "cell_type": "markdown",
      "source": [
        "In bacteria, methylation occurs in the context of a motif. Methylation plays a role in providing innate immunity and gene regulation in bacteria.\n",
        "\n",
        "There are different kinds of methylations. One of the most common kinds is 5-methyl-cytosine methylation, where a methyl group is added to the 5th position on the cytosine structure. The proteins that can add methylation marks on cytosine are called cytosine methyltransferases.\n",
        "\n",
        "However, cytosine methylation has a mutational cost associated with it. A methylated cytosine can undergo hydrolytic deamination to convert into a Thymine (compare the structure of Cytosine and Thymine). This propensity is three times more than a non-methylated cytosine getting converted into a Uracil. Where, a Uracil in a DNA can be easily detected by repair machineries, it is relatively difficult to identify a me-C that has converted to a Thymine, to yield a T:G mismatch ( T on one strand and G on the other, where there was a C:G base pair before), especially in the stationary phase, where bacteria spend most of their life cycle in the wild and all the conventional repair proteins cease to be expressed like base excision, nucleotide excision and mismatch repair etc.\n",
        "\n",
        "If left unrepaired, the me-C:G that get's mutated to a T:G mismatch base pair, can give a T:A in the next round of replication i.e in one of the descendants, the C:G -> A:T mutation occurs.\n",
        "\n",
        "In organisms like E.coli, there is a repair protein called Vsr (very short patch repair) that is even active in the stationary phase, that can identify T:G mismatches and prevent the C:G -> A:T from happening in the daughter cells. In E.coli, the cytosine methyltransferase is called Dcm and it methylates the second cytosine in the motif CCWGG, where W is either an A or a T (two motif context possibilities)\n",
        "\n",
        "However, in organisms like V. cholerae, Vsr is absent, therefore the chances of C:G -> A:T are relatively higher, assuming no other demethylation mechanisms exist (since none have been reported so far). In V. cholerae, the cytosine methyltransferase is called VChM and it methylates the first cytosine in the motif RCCGGY, where R could be any purine and Y could be any pyrimidine (four motif context possibilities).\n",
        "\n",
        "There are many interesting questions that come out of this premise:\n",
        "\n",
        "a. How do organisms like V.cholerae cope with this situation?\n",
        "\n",
        "b. If there is a mutational cost associated with RCCGGY in Vibrio cholerae, does it use motif avoidance as a strategy to minimise the risk of potential mutations from occuring?\n",
        "\n",
        "c. Other than motif avoidance, what other strategies could be used?\n",
        "\n",
        "d. Of the loci in the genome which do have the RCCGGY, what could it mean to have those motifs still be present their? Why hasn't evolution not removed all RCCGGY motifs from the entire genome? (ofcourse think about if all motifs are removed, it could disallow methylation from occuring and might disrupt the role of methylation in regulation etc. So a complete removal of RCCGGY might not be a good option, isn't it?)\n",
        "\n",
        "e. What are the genes/non-coding regions that retained the motif? Could it be to any benefit to the organism, functionality wise? (are they present in synonymous or non-synonymous positions if present inside a protein coding gene)\n",
        "\n",
        "While all these are open questions to think about, one can start by easily testing question b. Could V. cholerae use motif avoidance ( or under-representation) as opposed to motif abundance ( or over-presentation) as a strategy to minimise the cost of cytosine methylation?\n",
        "\n",
        "A simple way of doing this is to count the ratio of observed number of RCCGGY motifs in V.cholerae genome to the expected number of RCCGGY motifs in the same genome. \n",
        "\n",
        "As an exercise, We discussed how to calculate for M. genitalium genome, the observed number of RCCGGY motifs, the expected number of RCCGGY motifs:\n",
        "1. Using first principles of counting.\n",
        "2. Using random shuffling of the genome that yields us the mean and the standard deviation.\n",
        "\n",
        "Do the following:\n",
        "\n",
        "1. Calculate the ratio of observed/expected for RCCGGY in the Vibrio cholerae genome ( it has two chromosomes. the number of these motifs should be counted separately for the two chromosomes and later added to give the final motif count, both observed and expected)\n",
        "\n",
        "2. Calculate the ratio of observed/expected for CCWGG in the Escherichia coli genome.\n",
        "\n",
        "3. Calculate the ratio of observed/expected for RCCGGY in E.coli and CCWGG in V.cholerae\n",
        "\n",
        "What does your analysis tell you? What are the observations and the inferences that your analysis suggests?"
      ],
      "metadata": {
        "id": "LO59y6o5PH4a"
      }
    },
    {
      "cell_type": "code",
      "source": [
        "from google.colab import files\n",
        "from IPython.display import Image"
      ],
      "metadata": {
        "id": "ptPcu3ZRPG4u"
      },
      "execution_count": 14,
      "outputs": []
    },
    {
      "cell_type": "code",
      "source": [
        "uploaded = files.upload()"
      ],
      "metadata": {
        "colab": {
          "base_uri": "https://localhost:8080/",
          "height": 73
        },
        "id": "YNS0hVtDb6_s",
        "outputId": "dae5ed45-a123-4d8c-e17b-440a03dcbd5f"
      },
      "execution_count": 20,
      "outputs": [
        {
          "output_type": "display_data",
          "data": {
            "text/plain": [
              "<IPython.core.display.HTML object>"
            ],
            "text/html": [
              "\n",
              "     <input type=\"file\" id=\"files-8cc9bb33-ea7f-4678-aab2-3fa3c83559d4\" name=\"files[]\" multiple disabled\n",
              "        style=\"border:none\" />\n",
              "     <output id=\"result-8cc9bb33-ea7f-4678-aab2-3fa3c83559d4\">\n",
              "      Upload widget is only available when the cell has been executed in the\n",
              "      current browser session. Please rerun this cell to enable.\n",
              "      </output>\n",
              "      <script>// Copyright 2017 Google LLC\n",
              "//\n",
              "// Licensed under the Apache License, Version 2.0 (the \"License\");\n",
              "// you may not use this file except in compliance with the License.\n",
              "// You may obtain a copy of the License at\n",
              "//\n",
              "//      http://www.apache.org/licenses/LICENSE-2.0\n",
              "//\n",
              "// Unless required by applicable law or agreed to in writing, software\n",
              "// distributed under the License is distributed on an \"AS IS\" BASIS,\n",
              "// WITHOUT WARRANTIES OR CONDITIONS OF ANY KIND, either express or implied.\n",
              "// See the License for the specific language governing permissions and\n",
              "// limitations under the License.\n",
              "\n",
              "/**\n",
              " * @fileoverview Helpers for google.colab Python module.\n",
              " */\n",
              "(function(scope) {\n",
              "function span(text, styleAttributes = {}) {\n",
              "  const element = document.createElement('span');\n",
              "  element.textContent = text;\n",
              "  for (const key of Object.keys(styleAttributes)) {\n",
              "    element.style[key] = styleAttributes[key];\n",
              "  }\n",
              "  return element;\n",
              "}\n",
              "\n",
              "// Max number of bytes which will be uploaded at a time.\n",
              "const MAX_PAYLOAD_SIZE = 100 * 1024;\n",
              "\n",
              "function _uploadFiles(inputId, outputId) {\n",
              "  const steps = uploadFilesStep(inputId, outputId);\n",
              "  const outputElement = document.getElementById(outputId);\n",
              "  // Cache steps on the outputElement to make it available for the next call\n",
              "  // to uploadFilesContinue from Python.\n",
              "  outputElement.steps = steps;\n",
              "\n",
              "  return _uploadFilesContinue(outputId);\n",
              "}\n",
              "\n",
              "// This is roughly an async generator (not supported in the browser yet),\n",
              "// where there are multiple asynchronous steps and the Python side is going\n",
              "// to poll for completion of each step.\n",
              "// This uses a Promise to block the python side on completion of each step,\n",
              "// then passes the result of the previous step as the input to the next step.\n",
              "function _uploadFilesContinue(outputId) {\n",
              "  const outputElement = document.getElementById(outputId);\n",
              "  const steps = outputElement.steps;\n",
              "\n",
              "  const next = steps.next(outputElement.lastPromiseValue);\n",
              "  return Promise.resolve(next.value.promise).then((value) => {\n",
              "    // Cache the last promise value to make it available to the next\n",
              "    // step of the generator.\n",
              "    outputElement.lastPromiseValue = value;\n",
              "    return next.value.response;\n",
              "  });\n",
              "}\n",
              "\n",
              "/**\n",
              " * Generator function which is called between each async step of the upload\n",
              " * process.\n",
              " * @param {string} inputId Element ID of the input file picker element.\n",
              " * @param {string} outputId Element ID of the output display.\n",
              " * @return {!Iterable<!Object>} Iterable of next steps.\n",
              " */\n",
              "function* uploadFilesStep(inputId, outputId) {\n",
              "  const inputElement = document.getElementById(inputId);\n",
              "  inputElement.disabled = false;\n",
              "\n",
              "  const outputElement = document.getElementById(outputId);\n",
              "  outputElement.innerHTML = '';\n",
              "\n",
              "  const pickedPromise = new Promise((resolve) => {\n",
              "    inputElement.addEventListener('change', (e) => {\n",
              "      resolve(e.target.files);\n",
              "    });\n",
              "  });\n",
              "\n",
              "  const cancel = document.createElement('button');\n",
              "  inputElement.parentElement.appendChild(cancel);\n",
              "  cancel.textContent = 'Cancel upload';\n",
              "  const cancelPromise = new Promise((resolve) => {\n",
              "    cancel.onclick = () => {\n",
              "      resolve(null);\n",
              "    };\n",
              "  });\n",
              "\n",
              "  // Wait for the user to pick the files.\n",
              "  const files = yield {\n",
              "    promise: Promise.race([pickedPromise, cancelPromise]),\n",
              "    response: {\n",
              "      action: 'starting',\n",
              "    }\n",
              "  };\n",
              "\n",
              "  cancel.remove();\n",
              "\n",
              "  // Disable the input element since further picks are not allowed.\n",
              "  inputElement.disabled = true;\n",
              "\n",
              "  if (!files) {\n",
              "    return {\n",
              "      response: {\n",
              "        action: 'complete',\n",
              "      }\n",
              "    };\n",
              "  }\n",
              "\n",
              "  for (const file of files) {\n",
              "    const li = document.createElement('li');\n",
              "    li.append(span(file.name, {fontWeight: 'bold'}));\n",
              "    li.append(span(\n",
              "        `(${file.type || 'n/a'}) - ${file.size} bytes, ` +\n",
              "        `last modified: ${\n",
              "            file.lastModifiedDate ? file.lastModifiedDate.toLocaleDateString() :\n",
              "                                    'n/a'} - `));\n",
              "    const percent = span('0% done');\n",
              "    li.appendChild(percent);\n",
              "\n",
              "    outputElement.appendChild(li);\n",
              "\n",
              "    const fileDataPromise = new Promise((resolve) => {\n",
              "      const reader = new FileReader();\n",
              "      reader.onload = (e) => {\n",
              "        resolve(e.target.result);\n",
              "      };\n",
              "      reader.readAsArrayBuffer(file);\n",
              "    });\n",
              "    // Wait for the data to be ready.\n",
              "    let fileData = yield {\n",
              "      promise: fileDataPromise,\n",
              "      response: {\n",
              "        action: 'continue',\n",
              "      }\n",
              "    };\n",
              "\n",
              "    // Use a chunked sending to avoid message size limits. See b/62115660.\n",
              "    let position = 0;\n",
              "    do {\n",
              "      const length = Math.min(fileData.byteLength - position, MAX_PAYLOAD_SIZE);\n",
              "      const chunk = new Uint8Array(fileData, position, length);\n",
              "      position += length;\n",
              "\n",
              "      const base64 = btoa(String.fromCharCode.apply(null, chunk));\n",
              "      yield {\n",
              "        response: {\n",
              "          action: 'append',\n",
              "          file: file.name,\n",
              "          data: base64,\n",
              "        },\n",
              "      };\n",
              "\n",
              "      let percentDone = fileData.byteLength === 0 ?\n",
              "          100 :\n",
              "          Math.round((position / fileData.byteLength) * 100);\n",
              "      percent.textContent = `${percentDone}% done`;\n",
              "\n",
              "    } while (position < fileData.byteLength);\n",
              "  }\n",
              "\n",
              "  // All done.\n",
              "  yield {\n",
              "    response: {\n",
              "      action: 'complete',\n",
              "    }\n",
              "  };\n",
              "}\n",
              "\n",
              "scope.google = scope.google || {};\n",
              "scope.google.colab = scope.google.colab || {};\n",
              "scope.google.colab._files = {\n",
              "  _uploadFiles,\n",
              "  _uploadFilesContinue,\n",
              "};\n",
              "})(self);\n",
              "</script> "
            ]
          },
          "metadata": {}
        },
        {
          "output_type": "stream",
          "name": "stdout",
          "text": [
            "Saving methylation.jpg to methylation (1).jpg\n"
          ]
        }
      ]
    },
    {
      "cell_type": "code",
      "source": [
        "#adopted from https://bioone.org/journals/the-arabidopsis-book/volume-2008/issue-6/tab.0102/DNA-Methylation-and-Demethylation-in-Arabidopsis/10.1199/tab.0102.full\n",
        "\n",
        "Image('methylation (1).jpg')"
      ],
      "metadata": {
        "colab": {
          "base_uri": "https://localhost:8080/",
          "height": 505
        },
        "id": "e1KCUr0JcKNc",
        "outputId": "aad573ab-e319-490f-8355-32ae8f4ec933"
      },
      "execution_count": 22,
      "outputs": [
        {
          "output_type": "execute_result",
          "data": {
            "image/jpeg": "[encoded data removed]",
            "text/plain": [
              "<IPython.core.display.Image object>"
            ]
          },
          "metadata": {},
          "execution_count": 22
        }
      ]
    }
  ]
}