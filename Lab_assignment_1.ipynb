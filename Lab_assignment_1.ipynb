{
  "nbformat": 4,
  "nbformat_minor": 0,
  "metadata": {
    "colab": {
      "name": "Lab_assignment_1.ipynb",
      "provenance": [],
      "include_colab_link": true
    },
    "kernelspec": {
      "name": "python3",
      "display_name": "Python 3"
    },
    "language_info": {
      "name": "python"
    }
  },
  "cells": [
    {
      "cell_type": "markdown",
      "metadata": {
        "id": "view-in-github",
        "colab_type": "text"
      },
      "source": [
        "<a href=\"https://colab.research.google.com/github/Mohak91/Course-on-comparative-genomics-of-bacteria/blob/main/Lab_assignment_1.ipynb\" target=\"_parent\"><img src=\"https://colab.research.google.com/assets/colab-badge.svg\" alt=\"Open In Colab\"/></a>"
      ]
    },
    {
      "cell_type": "markdown",
      "source": [
        "Question 1: Write a python program that takes a DNA sequence as a string and extracts all codons and stores them into a list. Finally it prints the length of the DNA sequence, the DNA sequence itself and the list of codons on the screen."
      ],
      "metadata": {
        "id": "-c137omEzPWO"
      }
    },
    {
      "cell_type": "code",
      "execution_count": null,
      "metadata": {
        "id": "xGcfczPnzMvj"
      },
      "outputs": [],
      "source": []
    },
    {
      "cell_type": "markdown",
      "source": [
        "Question 2: Write a python program that takes in the DNA sequence \"ATGCCCCTAGGATCA\" and mutate the sixth position with a G and deletes the fourth last nucleotide."
      ],
      "metadata": {
        "id": "uab9_KNr9SEq"
      }
    },
    {
      "cell_type": "code",
      "source": [],
      "metadata": {
        "id": "310fwyq3AgZp"
      },
      "execution_count": null,
      "outputs": []
    },
    {
      "cell_type": "markdown",
      "source": [
        "Question 3: Suppose you have a DNA sequence \"TCGATCAGTCGCTATATAAATCGCGATCGACCCCTATAG\". Write a program to:\n",
        "1) find the number of times the motif \"CTAT\" occurs in the sequence and,\n",
        "2) all locations of the beginning of each motif in the DNA sequence (for example the motif \"TCG\" occurs at the 1st position in the DNA). Print out the locations in the form of a list.\n",
        "3) print the last location of the \"TATA\" repeat in the sequence."
      ],
      "metadata": {
        "id": "zuWyWfNWAh4d"
      }
    },
    {
      "cell_type": "code",
      "source": [],
      "metadata": {
        "id": "UJZr0odXCR3a"
      },
      "execution_count": null,
      "outputs": []
    }
  ]
}