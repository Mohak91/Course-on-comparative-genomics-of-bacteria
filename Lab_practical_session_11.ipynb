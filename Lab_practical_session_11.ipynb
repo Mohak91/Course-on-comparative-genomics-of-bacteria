{
  "nbformat": 4,
  "nbformat_minor": 0,
  "metadata": {
    "colab": {
      "provenance": [],
      "authorship_tag": "ABX9TyOACdiMolTVKuzNVFcMRybS",
      "include_colab_link": true
    },
    "kernelspec": {
      "name": "python3",
      "display_name": "Python 3"
    },
    "language_info": {
      "name": "python"
    }
  },
  "cells": [
    {
      "cell_type": "markdown",
      "metadata": {
        "id": "view-in-github",
        "colab_type": "text"
      },
      "source": [
        "<a href=\"https://colab.research.google.com/github/Mohak91/Course-on-comparative-genomics-of-bacteria/blob/main/Lab_practical_session_11.ipynb\" target=\"_parent\"><img src=\"https://colab.research.google.com/assets/colab-badge.svg\" alt=\"Open In Colab\"/></a>"
      ]
    },
    {
      "cell_type": "markdown",
      "source": [
        "We discussed the following:\n",
        "\n",
        "a. Comparing two nucleotide/protein sequences through alignment.\n",
        "\n",
        "b. Two types of alignments: Global and local. When would one carry out a local alignment and when would one carry out global alignment?\n",
        "\n",
        "c. Motif search exercise that we have previously done in the class is a subset of local alignment. However, those are exact match searches. What if there are mismatches, or insertions/deletions (also called gaps in the alignment lingo), between two sequences carrying out the same function but belonging to two different organisms? These changes could be a result of various processes like stochastic processes (including errors due to replication process).\n",
        "\n",
        "d. Dynamic programming (DP) algorithms present a way to incorporate matches, mismatches, insertions and deletions when comparing (via alignment) two sequences (nucleotide or protein). They break the problem into a series of smaller problems, solve them separately and in the end use the solutions to find the final solution of the problem we set out to solve in the first place.\n",
        "\n",
        "e. Needleman-Wunsch is a class of DP algorithms that is used to carry out a global alignment. It works on a scoring system. Matches and mismatches (also called substitutions) are given a different score. A gap (representing insertions/deletions) is given a different penalty.\n",
        "\n",
        "f. We first did an exercise where all matches were given a score of +1, mismatches a score of -1 and a gap a penalty of -1. And we solved the global alignment between two sequences: 1. GCATGCG 2. GATTACA\n",
        "\n",
        "\n",
        "\n",
        "g. In the above example, we saw there are two optimal alignments possible with the same final (total) score of zero (0). Remember, optimal alignments are a product of the scoring system that we choose. It is still possible that the alignment we get (so called optimal alignment) was never the true chain of events that happened in reality in the evolutionary history.\n",
        "\n",
        "h. We learnt how to write the alignment from the Needleman-Wunsch (NW) algorithm matrix that we solved. We discussed how to place insertion/deletions and matches/mismatches in the final representation based on the NW solution matrix. Could you solve for the other possible optimal alignment(s)?\n",
        "\n",
        "i. Finally we looked how it is not okay to use the same score for all matches and mismatches. To circumvent this problem, PAM and BLOSUM substitution matrices are used. Higher BLOSUM matrix, like BLOSUM90 is used if two sequences being aligned are from evolutionarily close species. PAM works the opposite way. Higher PAM matrix, for example PAM400, for scoring would be used for evolutionarily distant species. Recall how PAM, BLOSUM substitution scoring matrices are constructed in the first place?"
      ],
      "metadata": {
        "id": "rMUCRTo5wPX8"
      }
    },
    {
      "cell_type": "code",
      "execution_count": 1,
      "metadata": {
        "id": "iB8ijiT4v9zi"
      },
      "outputs": [],
      "source": [
        "from google.colab import files\n",
        "from IPython.display import Image"
      ]
    },
    {
      "cell_type": "code",
      "source": [
        "uploaded = files.upload()"
      ],
      "metadata": {
        "colab": {
          "base_uri": "https://localhost:8080/",
          "height": 73
        },
        "id": "NnY8-xj2ww-3",
        "outputId": "c6b8e664-68a4-46c6-b636-5e6835dc7ee6"
      },
      "execution_count": 2,
      "outputs": [
        {
          "output_type": "display_data",
          "data": {
            "text/plain": [
              "<IPython.core.display.HTML object>"
            ],
            "text/html": [
              "\n",
              "     <input type=\"file\" id=\"files-b7d7aa39-8c05-4548-b930-4b763cacfb06\" name=\"files[]\" multiple disabled\n",
              "        style=\"border:none\" />\n",
              "     <output id=\"result-b7d7aa39-8c05-4548-b930-4b763cacfb06\">\n",
              "      Upload widget is only available when the cell has been executed in the\n",
              "      current browser session. Please rerun this cell to enable.\n",
              "      </output>\n",
              "      <script>// Copyright 2017 Google LLC\n",
              "//\n",
              "// Licensed under the Apache License, Version 2.0 (the \"License\");\n",
              "// you may not use this file except in compliance with the License.\n",
              "// You may obtain a copy of the License at\n",
              "//\n",
              "//      http://www.apache.org/licenses/LICENSE-2.0\n",
              "//\n",
              "// Unless required by applicable law or agreed to in writing, software\n",
              "// distributed under the License is distributed on an \"AS IS\" BASIS,\n",
              "// WITHOUT WARRANTIES OR CONDITIONS OF ANY KIND, either express or implied.\n",
              "// See the License for the specific language governing permissions and\n",
              "// limitations under the License.\n",
              "\n",
              "/**\n",
              " * @fileoverview Helpers for google.colab Python module.\n",
              " */\n",
              "(function(scope) {\n",
              "function span(text, styleAttributes = {}) {\n",
              "  const element = document.createElement('span');\n",
              "  element.textContent = text;\n",
              "  for (const key of Object.keys(styleAttributes)) {\n",
              "    element.style[key] = styleAttributes[key];\n",
              "  }\n",
              "  return element;\n",
              "}\n",
              "\n",
              "// Max number of bytes which will be uploaded at a time.\n",
              "const MAX_PAYLOAD_SIZE = 100 * 1024;\n",
              "\n",
              "function _uploadFiles(inputId, outputId) {\n",
              "  const steps = uploadFilesStep(inputId, outputId);\n",
              "  const outputElement = document.getElementById(outputId);\n",
              "  // Cache steps on the outputElement to make it available for the next call\n",
              "  // to uploadFilesContinue from Python.\n",
              "  outputElement.steps = steps;\n",
              "\n",
              "  return _uploadFilesContinue(outputId);\n",
              "}\n",
              "\n",
              "// This is roughly an async generator (not supported in the browser yet),\n",
              "// where there are multiple asynchronous steps and the Python side is going\n",
              "// to poll for completion of each step.\n",
              "// This uses a Promise to block the python side on completion of each step,\n",
              "// then passes the result of the previous step as the input to the next step.\n",
              "function _uploadFilesContinue(outputId) {\n",
              "  const outputElement = document.getElementById(outputId);\n",
              "  const steps = outputElement.steps;\n",
              "\n",
              "  const next = steps.next(outputElement.lastPromiseValue);\n",
              "  return Promise.resolve(next.value.promise).then((value) => {\n",
              "    // Cache the last promise value to make it available to the next\n",
              "    // step of the generator.\n",
              "    outputElement.lastPromiseValue = value;\n",
              "    return next.value.response;\n",
              "  });\n",
              "}\n",
              "\n",
              "/**\n",
              " * Generator function which is called between each async step of the upload\n",
              " * process.\n",
              " * @param {string} inputId Element ID of the input file picker element.\n",
              " * @param {string} outputId Element ID of the output display.\n",
              " * @return {!Iterable<!Object>} Iterable of next steps.\n",
              " */\n",
              "function* uploadFilesStep(inputId, outputId) {\n",
              "  const inputElement = document.getElementById(inputId);\n",
              "  inputElement.disabled = false;\n",
              "\n",
              "  const outputElement = document.getElementById(outputId);\n",
              "  outputElement.innerHTML = '';\n",
              "\n",
              "  const pickedPromise = new Promise((resolve) => {\n",
              "    inputElement.addEventListener('change', (e) => {\n",
              "      resolve(e.target.files);\n",
              "    });\n",
              "  });\n",
              "\n",
              "  const cancel = document.createElement('button');\n",
              "  inputElement.parentElement.appendChild(cancel);\n",
              "  cancel.textContent = 'Cancel upload';\n",
              "  const cancelPromise = new Promise((resolve) => {\n",
              "    cancel.onclick = () => {\n",
              "      resolve(null);\n",
              "    };\n",
              "  });\n",
              "\n",
              "  // Wait for the user to pick the files.\n",
              "  const files = yield {\n",
              "    promise: Promise.race([pickedPromise, cancelPromise]),\n",
              "    response: {\n",
              "      action: 'starting',\n",
              "    }\n",
              "  };\n",
              "\n",
              "  cancel.remove();\n",
              "\n",
              "  // Disable the input element since further picks are not allowed.\n",
              "  inputElement.disabled = true;\n",
              "\n",
              "  if (!files) {\n",
              "    return {\n",
              "      response: {\n",
              "        action: 'complete',\n",
              "      }\n",
              "    };\n",
              "  }\n",
              "\n",
              "  for (const file of files) {\n",
              "    const li = document.createElement('li');\n",
              "    li.append(span(file.name, {fontWeight: 'bold'}));\n",
              "    li.append(span(\n",
              "        `(${file.type || 'n/a'}) - ${file.size} bytes, ` +\n",
              "        `last modified: ${\n",
              "            file.lastModifiedDate ? file.lastModifiedDate.toLocaleDateString() :\n",
              "                                    'n/a'} - `));\n",
              "    const percent = span('0% done');\n",
              "    li.appendChild(percent);\n",
              "\n",
              "    outputElement.appendChild(li);\n",
              "\n",
              "    const fileDataPromise = new Promise((resolve) => {\n",
              "      const reader = new FileReader();\n",
              "      reader.onload = (e) => {\n",
              "        resolve(e.target.result);\n",
              "      };\n",
              "      reader.readAsArrayBuffer(file);\n",
              "    });\n",
              "    // Wait for the data to be ready.\n",
              "    let fileData = yield {\n",
              "      promise: fileDataPromise,\n",
              "      response: {\n",
              "        action: 'continue',\n",
              "      }\n",
              "    };\n",
              "\n",
              "    // Use a chunked sending to avoid message size limits. See b/62115660.\n",
              "    let position = 0;\n",
              "    do {\n",
              "      const length = Math.min(fileData.byteLength - position, MAX_PAYLOAD_SIZE);\n",
              "      const chunk = new Uint8Array(fileData, position, length);\n",
              "      position += length;\n",
              "\n",
              "      const base64 = btoa(String.fromCharCode.apply(null, chunk));\n",
              "      yield {\n",
              "        response: {\n",
              "          action: 'append',\n",
              "          file: file.name,\n",
              "          data: base64,\n",
              "        },\n",
              "      };\n",
              "\n",
              "      let percentDone = fileData.byteLength === 0 ?\n",
              "          100 :\n",
              "          Math.round((position / fileData.byteLength) * 100);\n",
              "      percent.textContent = `${percentDone}% done`;\n",
              "\n",
              "    } while (position < fileData.byteLength);\n",
              "  }\n",
              "\n",
              "  // All done.\n",
              "  yield {\n",
              "    response: {\n",
              "      action: 'complete',\n",
              "    }\n",
              "  };\n",
              "}\n",
              "\n",
              "scope.google = scope.google || {};\n",
              "scope.google.colab = scope.google.colab || {};\n",
              "scope.google.colab._files = {\n",
              "  _uploadFiles,\n",
              "  _uploadFilesContinue,\n",
              "};\n",
              "})(self);\n",
              "</script> "
            ]
          },
          "metadata": {}
        },
        {
          "output_type": "stream",
          "name": "stdout",
          "text": [
            "Saving Needleman-Wunsch_pairwise_sequence_alignment.png to Needleman-Wunsch_pairwise_sequence_alignment.png\n"
          ]
        }
      ]
    },
    {
      "cell_type": "markdown",
      "source": [
        "We solved the following in the class by hand."
      ],
      "metadata": {
        "id": "5NKkS6GyxKsl"
      }
    },
    {
      "cell_type": "code",
      "source": [
        "#taken from wikipedia page of Needleman-Wunsch algorithm\n",
        "Image('Needleman-Wunsch_pairwise_sequence_alignment.png')"
      ],
      "metadata": {
        "colab": {
          "base_uri": "https://localhost:8080/",
          "height": 497
        },
        "id": "ZY08lBxaw_lP",
        "outputId": "60d2a7b8-3cea-4feb-fee5-95ba2de3a9eb"
      },
      "execution_count": 3,
      "outputs": [
        {
          "output_type": "execute_result",
          "data": {
            "image/png": "[encoded data removed]",
            "text/plain": [
              "<IPython.core.display.Image object>"
            ]
          },
          "metadata": {},
          "execution_count": 3
        }
      ]
    },
    {
      "cell_type": "markdown",
      "source": [
        "#Towards practicals:\n",
        "\n",
        "##Even though one can write a python code to solve the above matrix and then trace back the optimal global alignment(s), now that we understand the logic/algorithm manually, we will not code for it in the practical, but explore websites and packages that will readily solve this for us, and give us the result directly. \n",
        "\n",
        "###Makes our lives easier (relatively). \n",
        "\n",
        "###Remember though, the scoring systems and the gap penalties are something that we need to set. The results will change accordingly, ofcourse!"
      ],
      "metadata": {
        "id": "S0f6tzf_xSC-"
      }
    },
    {
      "cell_type": "markdown",
      "source": [
        "#Additional reading: Finally, I have also uploaded an introductory bioinformatics textbook by David Mount. Do read on the chapters on pairwise sequence alignment for details!"
      ],
      "metadata": {
        "id": "zyBm-ncZyIls"
      }
    }
  ]
}