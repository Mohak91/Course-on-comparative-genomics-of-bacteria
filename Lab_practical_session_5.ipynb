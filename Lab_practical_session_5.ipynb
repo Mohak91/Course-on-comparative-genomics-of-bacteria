{
  "nbformat": 4,
  "nbformat_minor": 0,
  "metadata": {
    "colab": {
      "provenance": [],
      "authorship_tag": "ABX9TyOMY+x8rvNoxuQr1PwTl4hj",
      "include_colab_link": true
    },
    "kernelspec": {
      "name": "python3",
      "display_name": "Python 3"
    },
    "language_info": {
      "name": "python"
    }
  },
  "cells": [
    {
      "cell_type": "markdown",
      "metadata": {
        "id": "view-in-github",
        "colab_type": "text"
      },
      "source": [
        "<a href=\"https://colab.research.google.com/github/Mohak91/Course-on-comparative-genomics-of-bacteria/blob/main/Lab_practical_session_5.ipynb\" target=\"_parent\"><img src=\"https://colab.research.google.com/assets/colab-badge.svg\" alt=\"Open In Colab\"/></a>"
      ]
    },
    {
      "cell_type": "code",
      "execution_count": 3,
      "metadata": {
        "colab": {
          "base_uri": "https://localhost:8080/"
        },
        "id": "U16fbViDRbf7",
        "outputId": "812c72a3-4baf-44a4-d991-08ebfa0e6679"
      },
      "outputs": [
        {
          "output_type": "stream",
          "name": "stdout",
          "text": [
            "Drive already mounted at /content/drive/; to attempt to forcibly remount, call drive.mount(\"/content/drive/\", force_remount=True).\n"
          ]
        }
      ],
      "source": [
        "from google.colab import drive\n",
        "drive.mount(\"/content/drive/\")"
      ]
    },
    {
      "cell_type": "code",
      "source": [
        "%cd /content/drive/MyDrive/comp_gen_bacteria_krea"
      ],
      "metadata": {
        "colab": {
          "base_uri": "https://localhost:8080/"
        },
        "id": "bq_i2QXXUviZ",
        "outputId": "9d20612d-0ec9-487c-c5e5-41fb5cd8ddab"
      },
      "execution_count": 4,
      "outputs": [
        {
          "output_type": "stream",
          "name": "stdout",
          "text": [
            "/content/drive/MyDrive/comp_gen_bacteria_krea\n"
          ]
        }
      ]
    },
    {
      "cell_type": "code",
      "source": [
        "%ls"
      ],
      "metadata": {
        "colab": {
          "base_uri": "https://localhost:8080/"
        },
        "id": "xSjTImLvi86Q",
        "outputId": "46aec94e-f84a-47aa-c5a0-e16e6902e5cd"
      },
      "execution_count": 5,
      "outputs": [
        {
          "output_type": "stream",
          "name": "stdout",
          "text": [
            "dummy_ecoli_sequence.fa                 GCF_000027325.1_ASM2732v1_protein.faa\n",
            "GCF_000027325.1_ASM2732v1_genomic.fna   Lab_practical_linux_session_1.ipynb\n",
            "GCF_000027325.1_ASM2732v1_genomic.gbff  \u001b[0m\u001b[01;34mlab_session_1_linux_basics\u001b[0m/\n",
            "GCF_000027325.1_ASM2732v1_genomic.gff   Linux_practice_session.ipynb\n"
          ]
        }
      ]
    },
    {
      "cell_type": "markdown",
      "source": [
        "#Let us write to our first file.\n",
        "#The advantage of using \"with-open-as\" clause is that you do not need to explicitly close the file once done processing. This is important for something called a garbage collector that clears the extra space that a file takes when being read or written."
      ],
      "metadata": {
        "id": "DIiOJzkQHphN"
      }
    },
    {
      "cell_type": "code",
      "source": [
        "#file handling \n",
        "#three modes: write, read, append\n",
        "#\\n newline\n",
        "#\\t tab\n",
        "#\\s space\n",
        "#n\n",
        "#substitutes using %\n",
        "#%s substitute a string\n",
        "#%d substitute a digit\n",
        "#%f substitute a float\n",
        "\n",
        "FILENAME = \"my_first_file.txt\" \n",
        "\n",
        "dna_sequence=\"ATAGCATCGATCACGTCGCTGACTAGTGCTAGCTGTGCGACTCGATAGTACGTACG\"\n",
        "\n",
        "with open(FILENAME,\"w\") as file_handle:\n",
        "  file_handle.write(\">Mycoplasma_genetalium_genome_sequence\\n\")\n",
        "  file_handle.write(\"%s\\n\"%dna_sequence)"
      ],
      "metadata": {
        "id": "nxepAE2Ni323"
      },
      "execution_count": 11,
      "outputs": []
    },
    {
      "cell_type": "code",
      "source": [
        "%ls #my_first_file.txt gets created"
      ],
      "metadata": {
        "colab": {
          "base_uri": "https://localhost:8080/"
        },
        "id": "m_KWktnQlxaV",
        "outputId": "695aac26-d3f2-4822-a625-024f2958f835"
      },
      "execution_count": 12,
      "outputs": [
        {
          "output_type": "stream",
          "name": "stdout",
          "text": [
            "dummy_ecoli_sequence.fa                 Lab_practical_linux_session_1.ipynb\n",
            "GCF_000027325.1_ASM2732v1_genomic.fna   \u001b[0m\u001b[01;34mlab_session_1_linux_basics\u001b[0m/\n",
            "GCF_000027325.1_ASM2732v1_genomic.gbff  Linux_practice_session.ipynb\n",
            "GCF_000027325.1_ASM2732v1_genomic.gff   my_first_file.txt\n",
            "GCF_000027325.1_ASM2732v1_protein.faa\n"
          ]
        }
      ]
    },
    {
      "cell_type": "markdown",
      "source": [
        "Let's read the contents of the file in different ways using three different file methods: readline(), readlines() and read().\n",
        "\n",
        "Also let's use a for loop to read the contents.\n",
        "\n",
        "Which method you use is up to you, depending on what you want to do downstream. The intuition comes with practice."
      ],
      "metadata": {
        "id": "QfzbPCMQIPMW"
      }
    },
    {
      "cell_type": "code",
      "source": [
        "#read the file\n",
        "\n",
        "with open(FILENAME,\"r\") as read_handle:\n",
        "  print(read_handle.readline())"
      ],
      "metadata": {
        "colab": {
          "base_uri": "https://localhost:8080/"
        },
        "id": "Y5DUhd9InI1h",
        "outputId": "fc0f6cb5-5d38-4725-85ba-4aea6f175d73"
      },
      "execution_count": 16,
      "outputs": [
        {
          "output_type": "stream",
          "name": "stdout",
          "text": [
            ">Mycoplasma_genetalium_genome_sequence\n",
            "\n"
          ]
        }
      ]
    },
    {
      "cell_type": "code",
      "source": [
        "with open(FILENAME,\"r\") as read_handle:\n",
        "  print(read_handle.readline())\n",
        "  print(read_handle.readline())"
      ],
      "metadata": {
        "colab": {
          "base_uri": "https://localhost:8080/"
        },
        "id": "D7QrCTXnn7Oi",
        "outputId": "c41eb49e-9b6b-4195-803c-9c833b108132"
      },
      "execution_count": 25,
      "outputs": [
        {
          "output_type": "stream",
          "name": "stdout",
          "text": [
            ">Mycoplasma_genetalium_genome_sequence\n",
            "\n",
            "ATAGCATCGATCACGTCGCTGACTAGTGCTAGCTGTGCGACTCGATAGTACGTACG\n",
            "\n"
          ]
        }
      ]
    },
    {
      "cell_type": "code",
      "source": [
        "with open(FILENAME,\"r\") as read_handle:\n",
        "  for every_line in read_handle:\n",
        "    print(every_line)"
      ],
      "metadata": {
        "colab": {
          "base_uri": "https://localhost:8080/"
        },
        "id": "z6rw3WJsoGR_",
        "outputId": "7d88faea-2354-44b0-8d9d-1b58019dbbea"
      },
      "execution_count": 24,
      "outputs": [
        {
          "output_type": "stream",
          "name": "stdout",
          "text": [
            ">Mycoplasma_genetalium_genome_sequence\n",
            "\n",
            "ATAGCATCGATCACGTCGCTGACTAGTGCTAGCTGTGCGACTCGATAGTACGTACG\n",
            "\n"
          ]
        }
      ]
    },
    {
      "cell_type": "code",
      "source": [
        "with open(FILENAME,\"r\") as read_handle:\n",
        "  print(type(read_handle.read()))"
      ],
      "metadata": {
        "colab": {
          "base_uri": "https://localhost:8080/"
        },
        "id": "x3eutcZxoia1",
        "outputId": "940df0e4-bd66-4b50-fbc2-01f5ab3cf7db"
      },
      "execution_count": 22,
      "outputs": [
        {
          "output_type": "stream",
          "name": "stdout",
          "text": [
            "<class 'str'>\n"
          ]
        }
      ]
    },
    {
      "cell_type": "code",
      "source": [
        "with open(FILENAME,\"r\") as read_handle:\n",
        "  print(read_handle.readlines())"
      ],
      "metadata": {
        "colab": {
          "base_uri": "https://localhost:8080/"
        },
        "id": "zkfQNPPRosEV",
        "outputId": "3957d13d-5af5-4d84-a370-18aab2e15390"
      },
      "execution_count": 20,
      "outputs": [
        {
          "output_type": "stream",
          "name": "stdout",
          "text": [
            "['>Mycoplasma_genetalium_genome_sequence\\n', 'ATAGCATCGATCACGTCGCTGACTAGTGCTAGCTGTGCGACTCGATAGTACGTACG\\n']\n"
          ]
        }
      ]
    },
    {
      "cell_type": "markdown",
      "source": [
        "Let's use a for loop to read the file and append it to a list."
      ],
      "metadata": {
        "id": "8trlkiv2Inmk"
      }
    },
    {
      "cell_type": "code",
      "source": [
        "file_list=[]\n",
        "with open(FILENAME,\"r\") as read_handle:\n",
        "  for every_line in read_handle:\n",
        "    file_list.append(every_line.rstrip()) #if you do not include rstrip() method, the special character \\n will get written into the list. We do not want that!!"
      ],
      "metadata": {
        "id": "eRqxZy-ypIf0"
      },
      "execution_count": 28,
      "outputs": []
    },
    {
      "cell_type": "code",
      "source": [
        "file_list"
      ],
      "metadata": {
        "colab": {
          "base_uri": "https://localhost:8080/"
        },
        "id": "L4InN3NQpk8m",
        "outputId": "8cfb5d18-b1bc-44da-88c0-5bbb4563278f"
      },
      "execution_count": 29,
      "outputs": [
        {
          "output_type": "execute_result",
          "data": {
            "text/plain": [
              "['>Mycoplasma_genetalium_genome_sequence',\n",
              " 'ATAGCATCGATCACGTCGCTGACTAGTGCTAGCTGTGCGACTCGATAGTACGTACG']"
            ]
          },
          "metadata": {},
          "execution_count": 29
        }
      ]
    },
    {
      "cell_type": "markdown",
      "source": [
        "Can we remove the greater than symbol from the beginning of the first element of the list?\n",
        "\n",
        "Can we infact write both the lines into different lists with one element each?\n",
        "\n",
        "Yes!\n",
        "\n",
        "and\n",
        "\n",
        "Yes!\n",
        "\n",
        "Use string slicing and if-else conditions to do both respectively."
      ],
      "metadata": {
        "id": "SFJHKgTLI6hr"
      }
    },
    {
      "cell_type": "code",
      "source": [
        "info=[]\n",
        "sequence=[]\n",
        "\n",
        "with open(FILENAME,\"r\") as read_handle:\n",
        "  for every_line in read_handle:\n",
        "    if every_line.startswith(\">\"):\n",
        "      info.append(every_line.rstrip()[1:])\n",
        "    else:\n",
        "      sequence.append(every_line.rstrip())"
      ],
      "metadata": {
        "id": "OhvWje_wqJ03"
      },
      "execution_count": 34,
      "outputs": []
    },
    {
      "cell_type": "code",
      "source": [
        "print(info)\n",
        "print(sequence) #Voila!"
      ],
      "metadata": {
        "colab": {
          "base_uri": "https://localhost:8080/"
        },
        "id": "Ym_c8q0xrJ9z",
        "outputId": "5e02e3b6-7010-4ff0-95cc-60b15cf262ef"
      },
      "execution_count": 35,
      "outputs": [
        {
          "output_type": "stream",
          "name": "stdout",
          "text": [
            "['Mycoplasma_genetalium_genome_sequence']\n",
            "['ATAGCATCGATCACGTCGCTGACTAGTGCTAGCTGTGCGACTCGATAGTACGTACG']\n"
          ]
        }
      ]
    },
    {
      "cell_type": "code",
      "source": [
        "len(sequence)"
      ],
      "metadata": {
        "colab": {
          "base_uri": "https://localhost:8080/"
        },
        "id": "gaNivz68rqm8",
        "outputId": "6d61b7cd-b173-4f10-b10e-b9088dbae925"
      },
      "execution_count": 36,
      "outputs": [
        {
          "output_type": "execute_result",
          "data": {
            "text/plain": [
              "1"
            ]
          },
          "metadata": {},
          "execution_count": 36
        }
      ]
    },
    {
      "cell_type": "code",
      "source": [
        "len(sequence[0])"
      ],
      "metadata": {
        "colab": {
          "base_uri": "https://localhost:8080/"
        },
        "id": "i9cSMWo6rtv3",
        "outputId": "47727474-d3e9-421c-bee3-47356c2d45bc"
      },
      "execution_count": 37,
      "outputs": [
        {
          "output_type": "execute_result",
          "data": {
            "text/plain": [
              "56"
            ]
          },
          "metadata": {},
          "execution_count": 37
        }
      ]
    },
    {
      "cell_type": "markdown",
      "source": [
        "#Sometimes we want to do some operations on our data/ variables etc but by default those methods/functions are not loaded in the memory when you run python.\n",
        "\n",
        "One option is to write your own code as below.\n",
        "\n",
        "Let's say you want to calculate mean."
      ],
      "metadata": {
        "id": "hGBEKINWJR1A"
      }
    },
    {
      "cell_type": "code",
      "source": [
        "#packages\n",
        "number_list=[1,2,3,4,5,6,6,6,6]\n",
        "\n",
        "length=len(number_list)\n",
        "sum_num = sum(number_list)\n",
        "\n",
        "mean=sum_num/length"
      ],
      "metadata": {
        "id": "UsMkOUORtDGv"
      },
      "execution_count": 43,
      "outputs": []
    },
    {
      "cell_type": "code",
      "source": [
        "mean"
      ],
      "metadata": {
        "colab": {
          "base_uri": "https://localhost:8080/"
        },
        "id": "imAhkVDytbNV",
        "outputId": "de647cf5-f46a-47c6-ebe8-f5c30b4e4263"
      },
      "execution_count": 45,
      "outputs": [
        {
          "output_type": "execute_result",
          "data": {
            "text/plain": [
              "4.333333333333333"
            ]
          },
          "metadata": {},
          "execution_count": 45
        }
      ]
    },
    {
      "cell_type": "markdown",
      "source": [
        "This was easy. Sometimes writing your own piece of code may take time and sometimes it might not be your cup of tea, because you lack an immediate algorithm thinking to write that code. In that case, one can look out for any modules or packages that come handy and help us bypass writing our own code.\n",
        "\n",
        "Imagine aligning two sequences using an alignment algorithm. You can not code for the alignment algorithm from scratch, before spending hours understanding how it aligns two DNA/protein sequences!!! It is not impossible but it is not easy either. \n",
        "\n",
        "We will see how we can use the module biopython to align two sequences.\n",
        "\n",
        "Anyway, back to calculating mean.\n",
        "\n",
        "One can use the method mean() from a module called statistics.\n"
      ],
      "metadata": {
        "id": "bKShCTECJjHP"
      }
    },
    {
      "cell_type": "code",
      "source": [
        "import statistics\n",
        "\n",
        "statistics_mean = statistics.mean(number_list)\n",
        "statistics_mean"
      ],
      "metadata": {
        "colab": {
          "base_uri": "https://localhost:8080/"
        },
        "id": "q6VFVaKyt6_R",
        "outputId": "b8682fb1-539e-4042-b4d5-a3f295fa6567"
      },
      "execution_count": 46,
      "outputs": [
        {
          "output_type": "execute_result",
          "data": {
            "text/plain": [
              "4.333333333333333"
            ]
          },
          "metadata": {},
          "execution_count": 46
        }
      ]
    },
    {
      "cell_type": "markdown",
      "source": [
        "And median of the all the elements in the list? (here all elements of the list are of the data type integers, hence no inverted commas. Be careful with the inverted commas!"
      ],
      "metadata": {
        "id": "3fXMdorgKopJ"
      }
    },
    {
      "cell_type": "code",
      "source": [
        "statistics.median(number_list)"
      ],
      "metadata": {
        "colab": {
          "base_uri": "https://localhost:8080/"
        },
        "id": "0bOQW-_QuGLG",
        "outputId": "6789b09f-40a1-48f5-f21c-f992b630f431"
      },
      "execution_count": 47,
      "outputs": [
        {
          "output_type": "execute_result",
          "data": {
            "text/plain": [
              "5"
            ]
          },
          "metadata": {},
          "execution_count": 47
        }
      ]
    },
    {
      "cell_type": "markdown",
      "source": [
        "And mode?"
      ],
      "metadata": {
        "id": "UsplikdmK2Kg"
      }
    },
    {
      "cell_type": "code",
      "source": [
        "statistics.mode(number_list)"
      ],
      "metadata": {
        "colab": {
          "base_uri": "https://localhost:8080/"
        },
        "id": "JA0QP3ozuJV7",
        "outputId": "d836e750-59c1-4184-db16-db0f51cd08c4"
      },
      "execution_count": 44,
      "outputs": [
        {
          "output_type": "execute_result",
          "data": {
            "text/plain": [
              "6"
            ]
          },
          "metadata": {},
          "execution_count": 44
        }
      ]
    },
    {
      "cell_type": "markdown",
      "source": [
        "#Next class we will start looking at different genome, protein and annotation files of the smallest genome size bacterium known to us - Mycoplasma genitalium."
      ],
      "metadata": {
        "id": "G5ReshT_K44s"
      }
    },
    {
      "cell_type": "markdown",
      "source": [
        "#ncbi \n",
        "#genome\n",
        "#mycoplasma genitalium\n",
        "#hyperlinks\n",
        "#fasta sequences: genome,protein,\n",
        "#annotation files: gff\n",
        "#sequence + annotation file: genbank"
      ],
      "metadata": {
        "id": "o-_jpPMmtD3R"
      }
    }
  ]
}