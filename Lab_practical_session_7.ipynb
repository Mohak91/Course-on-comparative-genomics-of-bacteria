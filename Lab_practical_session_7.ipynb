{
  "nbformat": 4,
  "nbformat_minor": 0,
  "metadata": {
    "colab": {
      "provenance": [],
      "authorship_tag": "ABX9TyO3miVuvgE3hmBm9AAWARFP",
      "include_colab_link": true
    },
    "kernelspec": {
      "name": "python3",
      "display_name": "Python 3"
    },
    "language_info": {
      "name": "python"
    }
  },
  "cells": [
    {
      "cell_type": "markdown",
      "metadata": {
        "id": "view-in-github",
        "colab_type": "text"
      },
      "source": [
        "<a href=\"https://colab.research.google.com/github/Mohak91/Course-on-comparative-genomics-of-bacteria/blob/main/Lab_practical_session_7.ipynb\" target=\"_parent\"><img src=\"https://colab.research.google.com/assets/colab-badge.svg\" alt=\"Open In Colab\"/></a>"
      ]
    },
    {
      "cell_type": "code",
      "execution_count": 1,
      "metadata": {
        "colab": {
          "base_uri": "https://localhost:8080/"
        },
        "id": "v4WabqSaYjG6",
        "outputId": "c0b70a29-86bc-4a74-f29e-3937a66a3164"
      },
      "outputs": [
        {
          "output_type": "stream",
          "name": "stdout",
          "text": [
            "Mounted at /content/drive/\n"
          ]
        }
      ],
      "source": [
        "from google.colab import drive\n",
        "drive.mount(\"/content/drive/\")"
      ]
    },
    {
      "cell_type": "code",
      "source": [
        "%cd /content/drive/MyDrive/comp_gen_bacteria_krea"
      ],
      "metadata": {
        "colab": {
          "base_uri": "https://localhost:8080/"
        },
        "id": "4d9K5m7dZOi6",
        "outputId": "e4082476-43d2-4147-8ddb-19dc9f1c84f4"
      },
      "execution_count": 2,
      "outputs": [
        {
          "output_type": "stream",
          "name": "stdout",
          "text": [
            "/content/drive/MyDrive/comp_gen_bacteria_krea\n"
          ]
        }
      ]
    },
    {
      "cell_type": "markdown",
      "source": [
        "#Stop codon distribution\n",
        "\n",
        "If there are three stop codons, how many genes end in UAA, UGA and UAG?"
      ],
      "metadata": {
        "id": "MCEyswJqaKCI"
      }
    },
    {
      "cell_type": "markdown",
      "source": [
        "####Storing the coordinates of all genes in M. genitalium in a data structure. Here we choose the data structure to be a dictionary."
      ],
      "metadata": {
        "id": "Tsd0GFDXK3Jg"
      }
    },
    {
      "cell_type": "code",
      "source": [
        "GFF=\"/content/drive/MyDrive/comp_gen_bacteria_krea/GCF_000027325.1_ASM2732v1_genomic.gff\""
      ],
      "metadata": {
        "id": "ms1jeOnsknRN"
      },
      "execution_count": 3,
      "outputs": []
    },
    {
      "cell_type": "code",
      "source": [
        "#function definition\n",
        "def read_gff_dictionary(gff_file):\n",
        "  cds_coordinate_dictionary={} #data structure\n",
        "  count=0 #key \n",
        "  with open(gff_file) as file_handle:\n",
        "    for line in file_handle:\n",
        "      if not line.startswith(\"#\"):\n",
        "        line_list=line.strip().split(\"\\t\")\n",
        "        is_gene = line_list[2]\n",
        "        if is_gene==\"gene\":\n",
        "          count=count+1\n",
        "          start_pos=int(line_list[3]) #fourth column\n",
        "          stop_pos=int(line_list[4]) #fifth column\n",
        "          #cds_coordinate_dictionary.append([start_pos,stop_pos])\n",
        "          cds_coordinate_dictionary[count]=[start_pos,stop_pos]\n",
        "        else:\n",
        "          pass\n",
        "  return cds_coordinate_dictionary"
      ],
      "metadata": {
        "id": "UwGDOoDZka8b"
      },
      "execution_count": 4,
      "outputs": []
    },
    {
      "cell_type": "code",
      "source": [
        "#function call\n",
        "cds_coordinate_dictionary=read_gff_dictionary(GFF) #dictionary"
      ],
      "metadata": {
        "id": "-y7YXmAanmoj"
      },
      "execution_count": 5,
      "outputs": []
    },
    {
      "cell_type": "markdown",
      "source": [
        "####Storing the entire genome sequence of M. genitalium in a string variable."
      ],
      "metadata": {
        "id": "Q04kZ8ilLIYQ"
      }
    },
    {
      "cell_type": "code",
      "source": [
        "FNA=\"/content/drive/MyDrive/comp_gen_bacteria_krea/GCF_000027325.1_ASM2732v1_genomic.fna\""
      ],
      "metadata": {
        "id": "fM7QVfFLo5D4"
      },
      "execution_count": 6,
      "outputs": []
    },
    {
      "cell_type": "code",
      "source": [
        "#function definition\n",
        "def read_genome_sequence(fna_file):\n",
        "  sequence=\"\"\n",
        "  with open(fna_file) as file_handle:\n",
        "    for line in file_handle:\n",
        "      if not line.startswith(\">\"):\n",
        "        sequence=sequence+line.strip()\n",
        "  return sequence"
      ],
      "metadata": {
        "id": "7jnbHtDApahd"
      },
      "execution_count": 7,
      "outputs": []
    },
    {
      "cell_type": "code",
      "source": [
        "#function call\n",
        "sequence_string=read_genome_sequence(FNA)"
      ],
      "metadata": {
        "id": "5Ft013qgqQoD"
      },
      "execution_count": 8,
      "outputs": []
    },
    {
      "cell_type": "markdown",
      "source": [
        "####Using the above two pieces of information, let's fetch gene sequences for all the genes, one at a time. And in each iteration, note down that is the stop codon of that gene. Counting the stop codon this way will save us the space of storing all the coding sequences in a data structure."
      ],
      "metadata": {
        "id": "_KSrAQAgLVLx"
      }
    },
    {
      "cell_type": "code",
      "source": [
        "#function definition\n",
        "def count_stop_codons_across_genes(cds_coordinate_dictionary,sequence_string):\n",
        "  taa=0\n",
        "  tag=0\n",
        "  tga=0\n",
        "  others=0\n",
        "  for key,value_list in cds_coordinate_dictionary.items():\n",
        "    start_pos=value_list[0]-1 #making it zero based\n",
        "    stop_pos=value_list[1]\n",
        "    cds_seq=sequence_string[start_pos:stop_pos] #positive strand\n",
        "    stop_codon=cds_seq[-3:] #starting from the third last position uptil the end of the string\n",
        "    if stop_codon==\"TAA\":\n",
        "      #taa=taa+1\n",
        "      taa+=1\n",
        "    elif stop_codon==\"TAG\":\n",
        "      tag+=1\n",
        "    elif stop_codon==\"TGA\":\n",
        "      tga+=1\n",
        "    else:\n",
        "      others+=1\n",
        "  return taa,tag,tga,others"
      ],
      "metadata": {
        "id": "bncDHxFzq1z6"
      },
      "execution_count": 9,
      "outputs": []
    },
    {
      "cell_type": "code",
      "source": [
        "#function call\n",
        "taa,tag,tga,others = count_stop_codons_across_genes(cds_coordinate_dictionary,sequence_string)\n",
        "print(\"Number of genes ending in TAA: %d \\nNumber of genes ending in TAG: %d \\nNumber of genes ending in TGA: %d \\nNumber of genes ending in neither of the standard stop codons: %d\\n\"%(taa,tag,tga,others))"
      ],
      "metadata": {
        "colab": {
          "base_uri": "https://localhost:8080/"
        },
        "id": "zqSXYqtQucRB",
        "outputId": "f1bb6555-439f-4b1b-88e0-98118803d705"
      },
      "execution_count": 10,
      "outputs": [
        {
          "output_type": "stream",
          "name": "stdout",
          "text": [
            "Number of genes ending in TAA: 212 \n",
            "Number of genes ending in TAG: 84 \n",
            "Number of genes ending in TGA: 0 \n",
            "Number of genes ending in neither of the standard stop codons: 249\n",
            "\n"
          ]
        }
      ]
    },
    {
      "cell_type": "markdown",
      "source": [
        "Why are there still genes ending in stop codons other than the three standard stop codons?\n",
        "\n",
        "- We discussed how we have only taken the positive strand information yet. What about the negative strand? Modify the code to incorporate that information.\n",
        "- Are we still left with genes that end in nucleotide sequences other than the three stop codons after we incorporate the negative strand? If yes, why?\n",
        "- Try to plot the final values as bar plots, once you are satisfied with the results.\n",
        "- Try taking bacterial genomes of other bacteria with different GC contents and see how the stop codon distribution changes for those genomes. (Reconcile the results with their translation table type. For example, Mycoplasma genitalium has translation table = 4 as seen in the gbff file)"
      ],
      "metadata": {
        "id": "k1J_gCWCIqjS"
      }
    },
    {
      "cell_type": "markdown",
      "source": [
        "##Let's make changes in the code to include strand information."
      ],
      "metadata": {
        "id": "oTlVoHTfB-eR"
      }
    },
    {
      "cell_type": "code",
      "source": [
        "GFF=\"/content/drive/MyDrive/comp_gen_bacteria_krea/GCF_000027325.1_ASM2732v1_genomic.gff\"\n",
        "\n",
        "#function definition\n",
        "def read_gff_dictionary(gff_file):\n",
        "  cds_coordinate_dictionary={} #data structure\n",
        "  count=0 #key \n",
        "  with open(gff_file) as file_handle:\n",
        "    for line in file_handle:\n",
        "      if not line.startswith(\"#\"):\n",
        "        line_list=line.strip().split(\"\\t\")\n",
        "        is_gene = line_list[2]\n",
        "        if is_gene==\"gene\":\n",
        "          count=count+1\n",
        "          start_pos=int(line_list[3]) #fourth column\n",
        "          stop_pos=int(line_list[4]) #fifth column\n",
        "          strand=line_list[6] #including strand information, seventh column\n",
        "          #cds_coordinate_dictionary.append([start_pos,stop_pos])\n",
        "          cds_coordinate_dictionary[count]=[start_pos,stop_pos,strand]\n",
        "        else:\n",
        "          pass\n",
        "  return cds_coordinate_dictionary\n",
        "\n",
        "#function call\n",
        "cds_coordinate_dictionary=read_gff_dictionary(GFF) #dictionary"
      ],
      "metadata": {
        "id": "nMg0ObvOB-Jr"
      },
      "execution_count": 19,
      "outputs": []
    },
    {
      "cell_type": "code",
      "source": [
        "cds_coordinate_dictionary"
      ],
      "metadata": {
        "id": "YXn_0xZqKr_B"
      },
      "execution_count": null,
      "outputs": []
    },
    {
      "cell_type": "code",
      "source": [
        "FNA=\"/content/drive/MyDrive/comp_gen_bacteria_krea/GCF_000027325.1_ASM2732v1_genomic.fna\"\n",
        "\n",
        "#function definition\n",
        "def read_genome_sequence(fna_file):\n",
        "  sequence=\"\"\n",
        "  with open(fna_file) as file_handle:\n",
        "    for line in file_handle:\n",
        "      if not line.startswith(\">\"):\n",
        "        sequence=sequence+line.strip()\n",
        "  return sequence\n",
        "\n",
        "#function call\n",
        "sequence_string=read_genome_sequence(FNA)"
      ],
      "metadata": {
        "id": "SmR-uamSCe2x"
      },
      "execution_count": 20,
      "outputs": []
    },
    {
      "cell_type": "code",
      "source": [
        "#function definition\n",
        "\n",
        "def reverse_complement(sequence_string,start_pos,stop_pos):\n",
        "  extracted_sequence=sequence_string[start_pos:stop_pos]\n",
        "  reverse_sequence=extracted_sequence[::-1]\n",
        "  complement_dictionary={\"A\":\"T\",\"T\":\"A\",\"G\":\"C\",\"C\":\"G\"}\n",
        "  complement_sequence=\"\"\n",
        "  for nucleotide in reverse_sequence:\n",
        "    complement_sequence=complement_sequence+complement_dictionary[nucleotide]\n",
        "  return complement_sequence\n",
        "\n",
        "def count_stop_codons_across_genes(cds_coordinate_dictionary,sequence_string):\n",
        "  taa=0\n",
        "  tag=0\n",
        "  tga=0\n",
        "  others=0\n",
        "  for key,value_list in cds_coordinate_dictionary.items():\n",
        "    start_pos=value_list[0]-1 #making it zero based\n",
        "    stop_pos=value_list[1]\n",
        "    strand=value_list[2]\n",
        "    if strand==\"+\":\n",
        "      cds_seq=sequence_string[start_pos:stop_pos] #positive strand\n",
        "    elif strand==\"-\":\n",
        "      cds_seq=reverse_complement(sequence_string,start_pos,stop_pos)\n",
        "    stop_codon=cds_seq[-3:] #starting from the third last position uptil the end of the string\n",
        "    if stop_codon==\"TAA\":\n",
        "      #taa=taa+1\n",
        "      taa+=1\n",
        "    elif stop_codon==\"TAG\":\n",
        "      tag+=1\n",
        "    elif stop_codon==\"TGA\":\n",
        "      tga+=1\n",
        "    else:\n",
        "      others+=1\n",
        "  return taa,tag,tga,others"
      ],
      "metadata": {
        "id": "9sADcPLtCqF7"
      },
      "execution_count": 23,
      "outputs": []
    },
    {
      "cell_type": "code",
      "source": [
        "#function call\n",
        "taa,tag,tga,others = count_stop_codons_across_genes(cds_coordinate_dictionary,sequence_string)\n",
        "print(\"Number of genes ending in TAA: %d \\nNumber of genes ending in TAG: %d \\nNumber of genes ending in TGA: %d \\nNumber of genes ending in neither of the standard stop codons: %d\\n\"%(taa,tag,tga,others))"
      ],
      "metadata": {
        "colab": {
          "base_uri": "https://localhost:8080/"
        },
        "id": "LMBNlAfpCt5y",
        "outputId": "a2e39b67-7308-44ff-e4d2-3d812fa3c1f0"
      },
      "execution_count": 24,
      "outputs": [
        {
          "output_type": "stream",
          "name": "stdout",
          "text": [
            "Number of genes ending in TAA: 367 \n",
            "Number of genes ending in TAG: 136 \n",
            "Number of genes ending in TGA: 0 \n",
            "Number of genes ending in neither of the standard stop codons: 42\n",
            "\n"
          ]
        }
      ]
    },
    {
      "cell_type": "markdown",
      "source": [
        "####There are still 42 genes left with the last three nucleotides ending in nucleotide sequence other than TAA or TAG. These genes are most likely the non-coding genes like rRNA, tRNA etc. that do not get to the translation stage once their transcripts are made. Hence no concept of stop codons for these genes."
      ],
      "metadata": {
        "id": "Huz5As-LLXnz"
      }
    },
    {
      "cell_type": "code",
      "source": [
        "taa+tag #potential protein coding gene numbers"
      ],
      "metadata": {
        "colab": {
          "base_uri": "https://localhost:8080/"
        },
        "id": "ch1p3gT4MLGe",
        "outputId": "f5b1675c-0191-4731-d3f4-16be74fb871d"
      },
      "execution_count": 25,
      "outputs": [
        {
          "output_type": "execute_result",
          "data": {
            "text/plain": [
              "503"
            ]
          },
          "metadata": {},
          "execution_count": 25
        }
      ]
    },
    {
      "cell_type": "code",
      "source": [
        "both = taa+tag"
      ],
      "metadata": {
        "id": "T6Z_2322Ns1k"
      },
      "execution_count": 30,
      "outputs": []
    },
    {
      "cell_type": "markdown",
      "source": [
        "####Let's check this using the protein faa file downloaded from NCBI for M. genitalium"
      ],
      "metadata": {
        "id": "h74ooIDUMTgq"
      }
    },
    {
      "cell_type": "code",
      "source": [
        "FAA=\"/content/drive/MyDrive/comp_gen_bacteria_krea/GCF_000027325.1_ASM2732v1_protein.faa\""
      ],
      "metadata": {
        "id": "YoWYYa0hMSyg"
      },
      "execution_count": 26,
      "outputs": []
    },
    {
      "cell_type": "code",
      "source": [
        "!head /content/drive/MyDrive/comp_gen_bacteria_krea/GCF_000027325.1_ASM2732v1_protein.faa"
      ],
      "metadata": {
        "colab": {
          "base_uri": "https://localhost:8080/"
        },
        "id": "pAmviwecMkJf",
        "outputId": "37380261-8f95-494c-92a8-1fa313a90e4d"
      },
      "execution_count": 27,
      "outputs": [
        {
          "output_type": "stream",
          "name": "stdout",
          "text": [
            ">WP_009885556.1 DNA polymerase III subunit delta' [Mycoplasma genitalium]\n",
            "MLTTTHALLIIQRKGSFLKPFLDNYLTSIVCENKNGCKKCINCLEILNNKYNSLYWFDQINPFKRENALQLARIFNRERT\n",
            "SVNNKNIYLIEEIEKLSSNSINSLLRLVEDSPINSYGIFTTKNESLILSTFLSRVQKVVLKKASKVPFKVSKNDQEIITS\n",
            "FFTVDEQIEAIENGSFNRFKIILDACLNKKTGTEQIYHAWQIFRDFSNSEIAQLITLIINKTENIDKKSILFNCLKVLPY\n",
            "NPPKSTLFANLVSW\n",
            ">WP_009885557.1 dTMP kinase [Mycoplasma genitalium]\n",
            "MNKGVFVVIEGVDGAGKTALIEGFKKLYPTKFLNYQLTYTREPGGTLLAEKIRQLLLNETMEPLTEAYLFAAARTEHISK\n",
            "LIKPAIEKEQLVISDRFVFSSFAYQGLSKKIGIDTVKQINHHALRNMMPNFTFILDCNFKEALQRMQKRGNDNLLDEFIK\n",
            "GKNDFDTVRSYYLSLVDKKNCFLINGDNKQEHLEKFIELLTRCLQQPTHY\n",
            ">WP_009885559.1 DNA topoisomerase (ATP-hydrolyzing) subunit A [Mycoplasma genitalium]\n"
          ]
        }
      ]
    },
    {
      "cell_type": "code",
      "source": [
        "!grep \"^>\" /content/drive/MyDrive/comp_gen_bacteria_krea/GCF_000027325.1_ASM2732v1_protein.faa | wc -l"
      ],
      "metadata": {
        "colab": {
          "base_uri": "https://localhost:8080/"
        },
        "id": "bAeDY4E0Mk51",
        "outputId": "1a6a9784-f1ed-428d-ea3e-c3b4c90d4dca"
      },
      "execution_count": 28,
      "outputs": [
        {
          "output_type": "stream",
          "name": "stdout",
          "text": [
            "503\n"
          ]
        }
      ]
    },
    {
      "cell_type": "code",
      "source": [
        "!grep \"^>\" -c /content/drive/MyDrive/comp_gen_bacteria_krea/GCF_000027325.1_ASM2732v1_protein.faa"
      ],
      "metadata": {
        "colab": {
          "base_uri": "https://localhost:8080/"
        },
        "id": "B1InjB-ZMndY",
        "outputId": "2e90a9f7-8f00-481c-dc73-1087792b7cac"
      },
      "execution_count": 29,
      "outputs": [
        {
          "output_type": "stream",
          "name": "stdout",
          "text": [
            "503\n"
          ]
        }
      ]
    },
    {
      "cell_type": "markdown",
      "source": [
        "The number in the 25th cell reconciles with the numbers in the 28th/29th cell above."
      ],
      "metadata": {
        "id": "MVh0L6xdMswN"
      }
    },
    {
      "cell_type": "code",
      "source": [
        "import matplotlib.pyplot as plt\n",
        "fig = plt.figure()\n",
        "ax = fig.add_axes([0,0,1,1])\n",
        "codon_type = ['TAA', 'TAG', 'TAA+TAG', 'TGA', 'Non-coding\\ngenes', 'Number of\\nproteins']\n",
        "gene_count = [taa,tag,both,tga,others,503]\n",
        "ax.bar(codon_type,gene_count)\n",
        "plt.show()"
      ],
      "metadata": {
        "colab": {
          "base_uri": "https://localhost:8080/",
          "height": 348
        },
        "id": "is8SanUjMr_c",
        "outputId": "4d083cbf-f1ea-408e-d385-ab6ff3233193"
      },
      "execution_count": 32,
      "outputs": [
        {
          "output_type": "display_data",
          "data": {
            "text/plain": [
              "<Figure size 432x288 with 1 Axes>"
            ],
            "image/png": "[encoded data removed]"
          },
          "metadata": {
            "needs_background": "light"
          }
        }
      ]
    }
  ]
}