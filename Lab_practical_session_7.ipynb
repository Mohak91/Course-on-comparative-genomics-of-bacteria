{
  "nbformat": 4,
  "nbformat_minor": 0,
  "metadata": {
    "colab": {
      "provenance": [],
      "authorship_tag": "ABX9TyPCwd1jGwtbNtbvqdunfOfh",
      "include_colab_link": true
    },
    "kernelspec": {
      "name": "python3",
      "display_name": "Python 3"
    },
    "language_info": {
      "name": "python"
    }
  },
  "cells": [
    {
      "cell_type": "markdown",
      "metadata": {
        "id": "view-in-github",
        "colab_type": "text"
      },
      "source": [
        "<a href=\"https://colab.research.google.com/github/Mohak91/Course-on-comparative-genomics-of-bacteria/blob/main/Lab_practical_session_7.ipynb\" target=\"_parent\"><img src=\"https://colab.research.google.com/assets/colab-badge.svg\" alt=\"Open In Colab\"/></a>"
      ]
    },
    {
      "cell_type": "code",
      "execution_count": 1,
      "metadata": {
        "colab": {
          "base_uri": "https://localhost:8080/"
        },
        "id": "v4WabqSaYjG6",
        "outputId": "1466ff7e-2d60-4e16-81e0-fa3a668fb056"
      },
      "outputs": [
        {
          "output_type": "stream",
          "name": "stdout",
          "text": [
            "Mounted at /content/drive/\n"
          ]
        }
      ],
      "source": [
        "from google.colab import drive\n",
        "drive.mount(\"/content/drive/\")"
      ]
    },
    {
      "cell_type": "code",
      "source": [
        "%cd /content/drive/MyDrive/comp_gen_bacteria_krea"
      ],
      "metadata": {
        "colab": {
          "base_uri": "https://localhost:8080/"
        },
        "id": "4d9K5m7dZOi6",
        "outputId": "dc29b808-31d3-46c6-c10f-9c45bcdfe09f"
      },
      "execution_count": 2,
      "outputs": [
        {
          "output_type": "stream",
          "name": "stdout",
          "text": [
            "/content/drive/MyDrive/comp_gen_bacteria_krea\n"
          ]
        }
      ]
    },
    {
      "cell_type": "markdown",
      "source": [
        "#Stop codon distribution\n",
        "\n",
        "If there are three stop codons, how many genes end in UAA, UGA and UAG?"
      ],
      "metadata": {
        "id": "MCEyswJqaKCI"
      }
    },
    {
      "cell_type": "markdown",
      "source": [
        "####Storing the coordinates of all genes in M. genitalium in a data structure. Here we choose the data structure to be a dictionary."
      ],
      "metadata": {
        "id": "Tsd0GFDXK3Jg"
      }
    },
    {
      "cell_type": "code",
      "source": [
        "GFF=\"/content/drive/MyDrive/comp_gen_bacteria_krea/GCF_000027325.1_ASM2732v1_genomic.gff\""
      ],
      "metadata": {
        "id": "ms1jeOnsknRN"
      },
      "execution_count": 5,
      "outputs": []
    },
    {
      "cell_type": "code",
      "source": [
        "#function definition\n",
        "def read_gff_dictionary(gff_file):\n",
        "  cds_coordinate_dictionary={} #data structure\n",
        "  count=0 #key \n",
        "  with open(gff_file) as file_handle:\n",
        "    for line in file_handle:\n",
        "      if not line.startswith(\"#\"):\n",
        "        line_list=line.strip().split(\"\\t\")\n",
        "        is_gene = line_list[2]\n",
        "        if is_gene==\"gene\":\n",
        "          count=count+1\n",
        "          start_pos=int(line_list[3]) #fourth column\n",
        "          stop_pos=int(line_list[4]) #fifth column\n",
        "          #cds_coordinate_dictionary.append([start_pos,stop_pos])\n",
        "          cds_coordinate_dictionary[count]=[start_pos,stop_pos]\n",
        "        else:\n",
        "          pass\n",
        "  return cds_coordinate_dictionary"
      ],
      "metadata": {
        "id": "UwGDOoDZka8b"
      },
      "execution_count": 15,
      "outputs": []
    },
    {
      "cell_type": "code",
      "source": [
        "#function call\n",
        "cds_coordinate_dictionary=read_gff_dictionary(GFF) #dictionary"
      ],
      "metadata": {
        "id": "-y7YXmAanmoj"
      },
      "execution_count": 22,
      "outputs": []
    },
    {
      "cell_type": "markdown",
      "source": [
        "####Storing the entire genome sequence of M. genitalium in a string variable."
      ],
      "metadata": {
        "id": "Q04kZ8ilLIYQ"
      }
    },
    {
      "cell_type": "code",
      "source": [
        "FNA=\"/content/drive/MyDrive/comp_gen_bacteria_krea/GCF_000027325.1_ASM2732v1_genomic.fna\""
      ],
      "metadata": {
        "id": "fM7QVfFLo5D4"
      },
      "execution_count": 18,
      "outputs": []
    },
    {
      "cell_type": "code",
      "source": [
        "#function definition\n",
        "def read_genome_sequence(fna_file):\n",
        "  sequence=\"\"\n",
        "  with open(fna_file) as file_handle:\n",
        "    for line in file_handle:\n",
        "      if not line.startswith(\">\"):\n",
        "        sequence=sequence+line.strip()\n",
        "  return sequence"
      ],
      "metadata": {
        "id": "7jnbHtDApahd"
      },
      "execution_count": 20,
      "outputs": []
    },
    {
      "cell_type": "code",
      "source": [
        "#function call\n",
        "sequence_string=read_genome_sequence(FNA)"
      ],
      "metadata": {
        "id": "5Ft013qgqQoD"
      },
      "execution_count": 23,
      "outputs": []
    },
    {
      "cell_type": "markdown",
      "source": [
        "####Using the above two pieces of information, let's fetch gene sequences for all the genes, one at a time. And in each iteration, note down that is the stop codon of that gene. Counting the stop codon this way will save us the space of storing all the coding sequences in a data structure."
      ],
      "metadata": {
        "id": "_KSrAQAgLVLx"
      }
    },
    {
      "cell_type": "code",
      "source": [
        "#function definition\n",
        "def count_stop_codons_across_genes(cds_coordinate_dictionary,sequence_string):\n",
        "  taa=0\n",
        "  tag=0\n",
        "  tga=0\n",
        "  others=0\n",
        "  for key,value_list in cds_coordinate_dictionary.items():\n",
        "    start_pos=value_list[0]-1 #making it zero based\n",
        "    stop_pos=value_list[1]\n",
        "    cds_seq=sequence_string[start_pos:stop_pos] #positive strand\n",
        "    stop_codon=cds_seq[-3:] #starting from the third last position uptil the end of the string\n",
        "    if stop_codon==\"TAA\":\n",
        "      #taa=taa+1\n",
        "      taa+=1\n",
        "    elif stop_codon==\"TAG\":\n",
        "      tag+=1\n",
        "    elif stop_codon==\"TGA\":\n",
        "      tga+=1\n",
        "    else:\n",
        "      others+=1\n",
        "  return taa,tag,tga,others"
      ],
      "metadata": {
        "id": "bncDHxFzq1z6"
      },
      "execution_count": 34,
      "outputs": []
    },
    {
      "cell_type": "code",
      "source": [
        "#function call\n",
        "taa,tag,tga,others = count_stop_codons_across_genes(cds_coordinate_dictionary,sequence_string)\n",
        "print(\"Number of genes ending in TAA: %d \\nNumber of genes ending in TAG: %d \\nNumber of genes ending in TGA: %d \\nNumber of genes ending in neither of the standard stop codons: %d\\n\"%(taa,tag,tga,others))"
      ],
      "metadata": {
        "colab": {
          "base_uri": "https://localhost:8080/"
        },
        "id": "zqSXYqtQucRB",
        "outputId": "13d66f85-e8db-4e0a-b858-bd23cad370b8"
      },
      "execution_count": 36,
      "outputs": [
        {
          "output_type": "stream",
          "name": "stdout",
          "text": [
            "Number of genes ending in TAA: 212 \n",
            "Number of genes ending in TAG: 84 \n",
            "Number of genes ending in TGA: 0 \n",
            "Number of genes ending in neither of the standard stop codons: 249\n",
            "\n"
          ]
        }
      ]
    },
    {
      "cell_type": "markdown",
      "source": [
        "Why are there still genes ending in stop codons other than the three standard stop codons?\n",
        "\n",
        "- We discussed how we have only taken the positive strand information yet. What about the negative strand? Modify the code to incorporate that information.\n",
        "- Are we still left with genes that end in nucleotide sequences other than the three stop codons after we incorporate the negative strand? If yes, why?\n",
        "- Try to plot the final values as bar plots, once you are satisfied with the results.\n",
        "- Try taking bacterial genomes of other bacteria with different GC contents and see how the stop codon distribution changes for those genomes. (Reconcile the results with their translation table type. For example, Mycoplasma genitalium has translation table = 4 as seen in the gbff file)"
      ],
      "metadata": {
        "id": "k1J_gCWCIqjS"
      }
    }
  ]
}