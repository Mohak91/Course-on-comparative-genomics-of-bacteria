{
  "cells": [
    {
      "cell_type": "markdown",
      "metadata": {
        "id": "view-in-github",
        "colab_type": "text"
      },
      "source": [
        "<a href=\"https://colab.research.google.com/github/Mohak91/Course-on-comparative-genomics-of-bacteria/blob/main/Lab_practical_session_6.ipynb\" target=\"_parent\"><img src=\"https://colab.research.google.com/assets/colab-badge.svg\" alt=\"Open In Colab\"/></a>"
      ]
    },
    {
      "cell_type": "code",
      "execution_count": 1,
      "metadata": {
        "colab": {
          "base_uri": "https://localhost:8080/"
        },
        "id": "Gkqv6ymOdK7v",
        "outputId": "aad025c3-1ab5-4397-f2e0-cba879f3acb3"
      },
      "outputs": [
        {
          "output_type": "stream",
          "name": "stdout",
          "text": [
            "Mounted at /content/drive/\n"
          ]
        }
      ],
      "source": [
        "from google.colab import drive\n",
        "drive.mount(\"/content/drive/\")"
      ]
    },
    {
      "cell_type": "code",
      "execution_count": 2,
      "metadata": {
        "colab": {
          "base_uri": "https://localhost:8080/"
        },
        "id": "LQ3Hg_hpdMA6",
        "outputId": "d8b77ad6-b76c-4c1f-d415-1ed20c9fd5d3"
      },
      "outputs": [
        {
          "output_type": "stream",
          "name": "stdout",
          "text": [
            "/content/drive/MyDrive/comp_gen_bacteria_krea\n"
          ]
        }
      ],
      "source": [
        "%cd /content/drive/MyDrive/comp_gen_bacteria_krea"
      ]
    },
    {
      "cell_type": "code",
      "execution_count": 5,
      "metadata": {
        "colab": {
          "base_uri": "https://localhost:8080/"
        },
        "id": "FkqKcifIdIIN",
        "outputId": "eca0bbe0-7fa3-411e-9eb6-e3df55de2e5c"
      },
      "outputs": [
        {
          "output_type": "stream",
          "name": "stdout",
          "text": [
            ">NC_000908.2 Mycoplasma genitalium G37, complete sequence\n",
            "TAAGTTATTATTTAGTTAATACTTTTAACAATATTATTAAGGTATTTAAAAAATACTATTATAGTATTTAACATAGTTAA\n",
            "ATACCTTCCTTAATACTGTTAAATTATATTCAATCAATACATATATAATATTATTAAAATACTTGATAAGTATTATTTAG\n",
            "ATATTAGACAAATACTAATTTTATATTGCTTTAATACTTAATAAATACTACTTATGTATTAAGTAAATATTACTGTAATA\n",
            "CTAATAACAATATTATTACAATATGCTAGAATAATATTGCTAGTATCAATAATTACTAATATAGTATTAGGAAAATACCA\n",
            "TAATAATATTTCTACATAATACTAAGTTAATACTATGTGTAGAATAATAAATAATCAGATTAAAAAAATTTTATTTATCT\n",
            "GAAACATATTTAATCAATTGAACTGATTATTTTCAGCAGTAATAATTACATATGTACATAGTACATATGTAAAATATCAT\n",
            "TAATTTCTGTTATATATAATAGTATCTATTTTAGAGAGTATTAATTATTACTATAATTAAGCATTTATGCTTAATTATAA\n",
            "GCTTTTTATGAACAAAATTATAGACATTTTAGTTCTTATAATAAATAATAGATATTAAAGAAAATAAAAAAATAGAAATA\n",
            "AATATCATAACCCTTGATAACCCAGAAATTAATACTTAATCAAAAATGAAAATATTAATTAATAAAAGTGAATTGAATAA\n"
          ]
        }
      ],
      "source": [
        "!head /content/drive/MyDrive/comp_gen_bacteria_krea/GCF_000027325.1_ASM2732v1_genomic.fna"
      ]
    },
    {
      "cell_type": "markdown",
      "source": [
        "^ Caret symbol. Special character. the start of the line\n",
        "\n",
        "$ Dollar. Special character. the end of the line"
      ],
      "metadata": {
        "id": "lCZNE7iIbIem"
      }
    },
    {
      "cell_type": "code",
      "execution_count": 6,
      "metadata": {
        "id": "ISYaYxqOdJoG",
        "colab": {
          "base_uri": "https://localhost:8080/"
        },
        "outputId": "95f4b617-e9ed-4bba-c0d8-c1c09de9a328"
      },
      "outputs": [
        {
          "output_type": "stream",
          "name": "stdout",
          "text": [
            ">NC_000908.2 Mycoplasma genitalium G37, complete sequence\n"
          ]
        }
      ],
      "source": [
        "!grep \"^>\" /content/drive/MyDrive/comp_gen_bacteria_krea/GCF_000027325.1_ASM2732v1_genomic.fna"
      ]
    },
    {
      "cell_type": "markdown",
      "source": [
        "###There is only one chromosome in this organism as there is just one info line."
      ],
      "metadata": {
        "id": "O2hjeFQYF7Zi"
      }
    },
    {
      "cell_type": "markdown",
      "source": [
        "##1. Gene length distribution\n",
        "\n",
        "Gene annotation files: gff, gtf, gbff\n",
        "\n",
        "We will make use of gff file. Each file has a format that can be exploited as per our use case."
      ],
      "metadata": {
        "id": "6H1oCXb8bZi3"
      }
    },
    {
      "cell_type": "code",
      "source": [
        "!head -15 /content/drive/MyDrive/comp_gen_bacteria_krea/GCF_000027325.1_ASM2732v1_genomic.gff"
      ],
      "metadata": {
        "colab": {
          "base_uri": "https://localhost:8080/"
        },
        "id": "s8OGAeb5bYgQ",
        "outputId": "2e534e24-739c-4515-9d01-bb42a5d2e9b3"
      },
      "execution_count": 7,
      "outputs": [
        {
          "output_type": "stream",
          "name": "stdout",
          "text": [
            "##gff-version 3\n",
            "#!gff-spec-version 1.21\n",
            "#!processor NCBI annotwriter\n",
            "#!genome-build ASM2732v1\n",
            "#!genome-build-accession NCBI_Assembly:GCF_000027325.1\n",
            "#!annotation-date 04/11/2022 13:19:11\n",
            "#!annotation-source NCBI RefSeq \n",
            "##sequence-region NC_000908.2 1 580076\n",
            "##species https://www.ncbi.nlm.nih.gov/Taxonomy/Browser/wwwtax.cgi?id=243273\n",
            "NC_000908.2\tRefSeq\tregion\t1\t580076\t.\t+\t.\tID=NC_000908.2:1..580076;Dbxref=ATCC:33530,taxon:243273;Is_circular=true;Name=ANONYMOUS;gbkey=Src;genome=chromosome;mol_type=genomic DNA;note=strain coidentity: G37 %3D ATCC 33530;old-name=Mycoplasma genitalium G-37;strain=G-37;type-material=type strain of Mycoplasma genitalium\n",
            "NC_000908.2\tRefSeq\tgene\t686\t1828\t.\t+\t.\tID=gene-MG_RS00005;Name=dnaN;gbkey=Gene;gene=dnaN;gene_biotype=protein_coding;locus_tag=MG_RS00005;old_locus_tag=MG_001\n",
            "NC_000908.2\tProtein Homology\tCDS\t686\t1828\t.\t+\t0\tID=cds-WP_009885562.1;Parent=gene-MG_RS00005;Dbxref=Genbank:WP_009885562.1;Name=WP_009885562.1;Ontology_term=GO:0006260,GO:0003887,GO:0009360;gbkey=CDS;gene=dnaN;go_component=DNA polymerase III complex|0009360||IEA;go_function=DNA-directed DNA polymerase activity|0003887||IEA;go_process=DNA replication|0006260||IEA;inference=COORDINATES: similar to AA sequence:RefSeq:WP_010874358.1;locus_tag=MG_RS00005;product=DNA polymerase III subunit beta;protein_id=WP_009885562.1;transl_table=4\n",
            "NC_000908.2\tRefSeq\tgene\t1828\t2760\t.\t+\t.\tID=gene-MG_RS00010;Name=MG_RS00010;gbkey=Gene;gene_biotype=protein_coding;locus_tag=MG_RS00010;old_locus_tag=MG_002\n",
            "NC_000908.2\tProtein Homology\tCDS\t1828\t2760\t.\t+\t0\tID=cds-WP_009885561.1;Parent=gene-MG_RS00010;Dbxref=Genbank:WP_009885561.1;Name=WP_009885561.1;gbkey=CDS;inference=COORDINATES: similar to AA sequence:RefSeq:WP_009885561.1;locus_tag=MG_RS00010;product=J domain-containing protein;protein_id=WP_009885561.1;transl_table=4\n",
            "NC_000908.2\tRefSeq\tgene\t2845\t4797\t.\t+\t.\tID=gene-MG_RS00015;Name=gyrB;gbkey=Gene;gene=gyrB;gene_biotype=protein_coding;locus_tag=MG_RS00015;old_locus_tag=MG_003\n"
          ]
        }
      ]
    },
    {
      "cell_type": "markdown",
      "source": [
        "Algorithm to find gene length distribution:\n",
        "1. Read in a gff file.\n",
        "2. Note, lines starting with # are general information lines. For gene length calculation, we don't need them.\n",
        "3. For all other non-# lines, they are spread across multiple columns. Each column is separated by the other using a tab (\\t). That is the general format of any given gff file.\n",
        "4. Note, all lines with third column as \"gene\" gives the information about a given gene.\n",
        "5. Fourth and fifth column for any given row will give us the start and stop position of that gene in the entire genome. We can use these to calculate gene length.\n",
        "6. 580076-1+1\n",
        "\n",
        "(1828-686)+1\n",
        "\n",
        "1828-685 = (1828-686)+1\n",
        "7. We have to repeat the calculation in step 6 for all rows till the end of the file wherever the third column has the keyword \"gene\".\n",
        "8. Save it in either a file as output or some data structure like lists. The latter will be useful if one wants to do some additional analysis on the list of gene lengths."
      ],
      "metadata": {
        "id": "otMgCtfCdeuU"
      }
    },
    {
      "cell_type": "code",
      "source": [
        "#making a global variable storing the name of the annotation file in gff format along with the entire path\n",
        "GFF=\"/content/drive/MyDrive/comp_gen_bacteria_krea/GCF_000027325.1_ASM2732v1_genomic.gff\""
      ],
      "metadata": {
        "id": "peaysOASez-E"
      },
      "execution_count": 10,
      "outputs": []
    },
    {
      "cell_type": "code",
      "source": [
        "#importing libraries that we would need in our code below\n",
        "import statistics\n",
        "import matplotlib.pyplot as plt"
      ],
      "metadata": {
        "id": "cXVnojsZjN6U"
      },
      "execution_count": 22,
      "outputs": []
    },
    {
      "cell_type": "code",
      "source": [
        "#function definitions\n",
        "def read_gff_list(gff_file):\n",
        "  \"\"\"This line reads in gff file.\n",
        "  Only reads lines not starting with the hash.\n",
        "  Splits each line on the basis of a tab-delimiter.\n",
        "  Then only for those lines where the third column has the keyword \"gene\",\n",
        "  it subtracts the start position from the stop position of each gene,\n",
        "  to get the gene length. Since gff is one based, we add one again in the end,\n",
        "  to get the actual length of the gene. \n",
        "  Finally you append all gene lengths into a list and return that list.\n",
        "  \"\"\"\n",
        "  gene_length_list=[]\n",
        "  with open(gff_file) as file_handle:\n",
        "    for line in file_handle:\n",
        "      if not line.startswith(\"#\"):\n",
        "        line_list=line.strip().split(\"\\t\")\n",
        "        is_gene = line_list[2]\n",
        "        if is_gene==\"gene\":\n",
        "          #print(line_list)\n",
        "          gene_length=int(line_list[4]) - int(line_list[3]) + 1\n",
        "          gene_length_list.append(gene_length)\n",
        "        else:\n",
        "          pass\n",
        "  return gene_length_list\n",
        "\n",
        "def calculate_gene_length_summary(gene_length_list):\n",
        "  \"\"\"Takes in a list as an argument and using the library statistics,\n",
        "  it calculates mean, median and mode. And returns all three values\"\"\"\n",
        "  mean=statistics.mean(gene_length_list)\n",
        "  median=statistics.median(gene_length_list)\n",
        "  mode=statistics.mode(gene_length_list)\n",
        "  return mean, median, mode\n",
        "\n",
        "def plot_histogram(gene_length_list):\n",
        "  #takes in a list of values and plots a histogram\n",
        "  plt.hist(gene_length_list) #histogram method of the package/module/library matplotlib.pyplot\n",
        "  plt.show()"
      ],
      "metadata": {
        "id": "sWXKih-geYV2"
      },
      "execution_count": 23,
      "outputs": []
    },
    {
      "cell_type": "code",
      "source": [
        "#function calls\n",
        "\n",
        "gene_length_list = read_gff_list(GFF)\n",
        "print(gene_length_list)\n",
        "\n",
        "mean, median, mode = calculate_gene_length_summary(gene_length_list)\n",
        "print(\"Mean: %f\\nMedian: %f\\nMode: %f\\n\"%(mean,median,mode))\n",
        "\n"
      ],
      "metadata": {
        "colab": {
          "base_uri": "https://localhost:8080/"
        },
        "id": "xQKRXL9Ijus-",
        "outputId": "f2c881cf-37d7-4375-9d34-f46aab178fce"
      },
      "execution_count": 21,
      "outputs": [
        {
          "output_type": "stream",
          "name": "stdout",
          "text": [
            "[1143, 933, 1953, 2511, 1254, 633, 765, 1329, 789, 657, 864, 864, 822, 76, 77, 1872, 1770, 3096, 1170, 927, 1539, 438, 867, 1104, 897, 573, 456, 606, 561, 621, 4356, 2001, 777, 642, 1245, 1671, 1350, 1527, 1155, 1776, 267, 1680, 858, 855, 1452, 948, 1152, 258, 1341, 717, 672, 1266, 393, 1653, 951, 372, 147, 384, 834, 537, 999, 438, 894, 1704, 89, 2043, 912, 204, 3996, 1401, 1947, 1551, 1425, 327, 1005, 273, 2727, 855, 2625, 2421, 1971, 414, 3075, 417, 1179, 1131, 1209, 2547, 414, 681, 570, 873, 936, 1149, 420, 468, 2067, 627, 483, 315, 453, 1407, 1197, 1953, 732, 1434, 1434, 1434, 669, 948, 843, 234, 2178, 603, 651, 630, 783, 1164, 837, 1296, 630, 1371, 666, 474, 756, 645, 1023, 1695, 1563, 921, 2130, 1416, 309, 858, 1044, 438, 780, 354, 1455, 282, 426, 795, 303, 843, 1473, 1197, 1797, 1710, 405, 501, 1518, 2916, 109, 3342, 1596, 273, 1860, 339, 840, 810, 1275, 1128, 1230, 846, 465, 321, 774, 636, 321, 858, 264, 435, 807, 417, 603, 258, 369, 327, 543, 186, 426, 555, 348, 636, 453, 1428, 645, 747, 213, 114, 375, 366, 987, 372, 825, 915, 1263, 735, 1824, 954, 2106, 753, 1758, 990, 957, 159, 957, 4335, 3153, 168, 276, 1026, 2421, 546, 180, 375, 708, 1380, 654, 369, 74, 1902, 2346, 1032, 1794, 492, 591, 927, 546, 660, 189, 444, 345, 807, 1416, 624, 972, 1527, 77, 77, 77, 77, 92, 77, 74, 76, 1119, 5418, 1041, 414, 282, 77, 426, 930, 1236, 1110, 1470, 1479, 165, 291, 864, 483, 1023, 462, 2166, 303, 300, 315, 876, 423, 885, 1335, 2388, 1053, 1863, 1893, 681, 2112, 498, 846, 720, 657, 1494, 1824, 1341, 729, 1311, 1977, 74, 1098, 75, 74, 771, 294, 1080, 1371, 2298, 405, 513, 77, 231, 2625, 876, 855, 876, 597, 837, 2379, 348, 687, 96, 1023, 387, 1011, 1374, 1155, 981, 1077, 1437, 543, 2913, 2163, 657, 747, 1671, 74, 86, 75, 75, 87, 486, 1452, 399, 1044, 591, 255, 75, 1245, 384, 1107, 738, 1632, 417, 2703, 735, 1419, 1098, 390, 1041, 2949, 963, 1236, 1014, 954, 1074, 813, 1788, 1182, 3534, 1233, 3678, 807, 618, 3420, 864, 1332, 894, 1110, 1800, 843, 537, 861, 91, 89, 2805, 85, 76, 76, 76, 75, 77, 75, 1698, 684, 341, 388, 810, 1065, 162, 888, 807, 2271, 1347, 654, 639, 720, 594, 2514, 576, 222, 1026, 1227, 417, 3813, 1023, 504, 486, 3879, 4173, 507, 1041, 822, 2688, 501, 633, 76, 969, 88, 1173, 936, 82, 675, 555, 501, 330, 414, 2145, 843, 1182, 210, 426, 618, 924, 1236, 489, 369, 174, 267, 675, 936, 2004, 987, 1674, 972, 975, 1158, 846, 825, 1695, 315, 582, 1614, 1839, 579, 657, 76, 642, 747, 1302, 618, 711, 4851, 873, 465, 384, 1983, 1344, 1632, 333, 1221, 1575, 282, 459, 1701, 402, 1428, 840, 1557, 531, 627, 309, 879, 477, 1377, 474, 678, 990, 1965, 1134, 3111, 1995, 399, 441, 1794, 2859, 2508, 1686, 261, 1350, 195, 426, 516, 1719, 1524, 735, 1197, 897, 732, 552, 1194, 1152, 819, 777, 411, 768, 1188, 360, 696, 270, 1644, 453, 873, 1185, 756, 879, 423, 1191, 1005, 582, 2109, 528, 510, 939, 1278, 1455, 780, 1158, 366, 147, 936, 5352, 855, 1314, 654, 810]\n",
            "Mean: 1003.794495\n",
            "Median: 840.000000\n",
            "Mode: 77.000000\n",
            "\n"
          ]
        }
      ]
    },
    {
      "cell_type": "code",
      "source": [
        "plot_histogram(gene_length_list)"
      ],
      "metadata": {
        "colab": {
          "base_uri": "https://localhost:8080/",
          "height": 265
        },
        "id": "me_EJzfBk8kq",
        "outputId": "250040b1-3d65-4367-ed47-1994a51941d0"
      },
      "execution_count": 24,
      "outputs": [
        {
          "output_type": "display_data",
          "data": {
            "text/plain": [
              "<Figure size 432x288 with 1 Axes>"
            ],
            "image/png": "[encoded data removed]"
          },
          "metadata": {
            "needs_background": "light"
          }
        }
      ]
    },
    {
      "cell_type": "markdown",
      "source": [
        "Does this reconcile with what we discussed in the class?\n",
        "\n",
        "From NCBI, download 5 or more gff files from other bacteria (pathogenic, non-pathogenic, free living, obligate symbionts etc.) and try to see how much the mean, median, mode and distribution changes for gene lengths in each of those organisms (same as above). For example, gff file of Escherichia coli, Mycobacterium tuberculosis etc.\n",
        "\n",
        "Maybe plot a distribution of mean gene lengths across all these organisms that you choose to take? (Hint: You just need to pass a list of mean gene lengths across all organisms that you wish to include in your analysis into the plot_histogram function that we created above.)"
      ],
      "metadata": {
        "id": "bmSiD1A9GVxo"
      }
    }
  ],
  "metadata": {
    "colab": {
      "provenance": [],
      "authorship_tag": "ABX9TyMnOTQl8gQWgqyMv3po9vFx",
      "include_colab_link": true
    },
    "kernelspec": {
      "display_name": "Python 3",
      "name": "python3"
    },
    "language_info": {
      "name": "python"
    }
  },
  "nbformat": 4,
  "nbformat_minor": 0
}