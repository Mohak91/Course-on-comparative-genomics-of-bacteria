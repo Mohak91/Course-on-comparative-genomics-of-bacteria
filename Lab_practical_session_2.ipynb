{
  "nbformat": 4,
  "nbformat_minor": 0,
  "metadata": {
    "colab": {
      "name": "Lab_practical_session_2.ipynb",
      "provenance": [],
      "authorship_tag": "ABX9TyPXkjBFzC4f7aBvnD/W9bDl",
      "include_colab_link": true
    },
    "kernelspec": {
      "name": "python3",
      "display_name": "Python 3"
    },
    "language_info": {
      "name": "python"
    }
  },
  "cells": [
    {
      "cell_type": "markdown",
      "metadata": {
        "id": "view-in-github",
        "colab_type": "text"
      },
      "source": [
        "<a href=\"https://colab.research.google.com/github/Mohak91/Course-on-comparative-genomics-of-bacteria/blob/main/Lab_practical_session_2.ipynb\" target=\"_parent\"><img src=\"https://colab.research.google.com/assets/colab-badge.svg\" alt=\"Open In Colab\"/></a>"
      ]
    },
    {
      "cell_type": "code",
      "source": [
        "from google.colab import drive\n",
        "drive.mount(\"/content/drive/\")"
      ],
      "metadata": {
        "colab": {
          "base_uri": "https://localhost:8080/"
        },
        "id": "kCcGtKXFptjX",
        "outputId": "8c55b224-397d-43f0-d993-2616fbf729fc"
      },
      "execution_count": 1,
      "outputs": [
        {
          "output_type": "stream",
          "name": "stdout",
          "text": [
            "Mounted at /content/drive/\n"
          ]
        }
      ]
    },
    {
      "cell_type": "code",
      "execution_count": 2,
      "metadata": {
        "id": "KwqU6TI3peQn",
        "colab": {
          "base_uri": "https://localhost:8080/"
        },
        "outputId": "b06726e4-36d3-476c-f303-635960780864"
      },
      "outputs": [
        {
          "output_type": "stream",
          "name": "stdout",
          "text": [
            "/content/drive/MyDrive/comp_gen_bacteria_krea\n"
          ]
        }
      ],
      "source": [
        "%cd /content/drive/MyDrive/comp_gen_bacteria_krea"
      ]
    },
    {
      "cell_type": "code",
      "source": [
        "%ls"
      ],
      "metadata": {
        "colab": {
          "base_uri": "https://localhost:8080/"
        },
        "id": "xGqU0PNoBNM9",
        "outputId": "a6faa147-b087-468e-8fc2-810be03255e5"
      },
      "execution_count": 3,
      "outputs": [
        {
          "output_type": "stream",
          "name": "stdout",
          "text": [
            "dummy_ecoli_sequence.fa              \u001b[0m\u001b[01;34mlab_session_1_linux_basics\u001b[0m/\n",
            "Lab_practical_linux_session_1.ipynb  Linux_practice_session.ipynb\n"
          ]
        }
      ]
    },
    {
      "cell_type": "code",
      "source": [
        "%cat dummy_ecoli_sequence.fa"
      ],
      "metadata": {
        "colab": {
          "base_uri": "https://localhost:8080/"
        },
        "id": "2wJZ25RtBPGL",
        "outputId": "66de0f42-71e7-4235-fd30-7092c1121bc9"
      },
      "execution_count": 4,
      "outputs": [
        {
          "output_type": "stream",
          "name": "stdout",
          "text": [
            ">Escherichia_coli_gene_X\n",
            "ATCGATCGAGTCATCGAGCTACGATCGACGTAGCATGCAGTCGTCAT\n",
            "\n"
          ]
        }
      ]
    },
    {
      "cell_type": "code",
      "source": [
        "%ls -l"
      ],
      "metadata": {
        "colab": {
          "base_uri": "https://localhost:8080/"
        },
        "id": "KRCx6v-0QQrk",
        "outputId": "ae8e329f-67d9-4f1f-8350-f6136901b291"
      },
      "execution_count": 6,
      "outputs": [
        {
          "output_type": "stream",
          "name": "stdout",
          "text": [
            "total 24\n",
            "-rw------- 1 root root    74 Aug 26 07:22 dummy_ecoli_sequence.fa\n",
            "-rw------- 1 root root 11379 Aug 28 07:23 Lab_practical_linux_session_1.ipynb\n",
            "drwx------ 2 root root  4096 Aug 26 07:10 \u001b[0m\u001b[01;34mlab_session_1_linux_basics\u001b[0m/\n",
            "-rw------- 1 root root  7697 Aug 24 20:52 Linux_practice_session.ipynb\n"
          ]
        }
      ]
    },
    {
      "cell_type": "code",
      "source": [
        "%ls -lr"
      ],
      "metadata": {
        "colab": {
          "base_uri": "https://localhost:8080/"
        },
        "id": "p9YpVw-mRchb",
        "outputId": "bc281cd7-958b-4056-e3b2-3dee596ff172"
      },
      "execution_count": 7,
      "outputs": [
        {
          "output_type": "stream",
          "name": "stdout",
          "text": [
            "total 24\n",
            "-rw------- 1 root root  7697 Aug 24 20:52 Linux_practice_session.ipynb\n",
            "drwx------ 2 root root  4096 Aug 26 07:10 \u001b[0m\u001b[01;34mlab_session_1_linux_basics\u001b[0m/\n",
            "-rw------- 1 root root 11379 Aug 28 07:23 Lab_practical_linux_session_1.ipynb\n",
            "-rw------- 1 root root    74 Aug 26 07:22 dummy_ecoli_sequence.fa\n"
          ]
        }
      ]
    },
    {
      "cell_type": "code",
      "source": [
        "#fasta format\n",
        "%cat dummy_ecoli_sequence.fa"
      ],
      "metadata": {
        "colab": {
          "base_uri": "https://localhost:8080/"
        },
        "id": "FjSxCOpKR3iq",
        "outputId": "d093347c-75eb-4081-8464-c78077b63b1c"
      },
      "execution_count": 8,
      "outputs": [
        {
          "output_type": "stream",
          "name": "stdout",
          "text": [
            ">Escherichia_coli_gene_X\n",
            "ATCGATCGAGTCATCGAGCTACGATCGACGTAGCATGCAGTCGTCAT\n",
            "\n"
          ]
        }
      ]
    },
    {
      "cell_type": "code",
      "source": [
        "!grep \">\" dummy_ecoli_sequence.fa"
      ],
      "metadata": {
        "colab": {
          "base_uri": "https://localhost:8080/"
        },
        "id": "wM3ZY_7sSB2z",
        "outputId": "5ca01f61-f16c-4584-8072-34d07b810466"
      },
      "execution_count": 9,
      "outputs": [
        {
          "output_type": "stream",
          "name": "stdout",
          "text": [
            ">Escherichia_coli_gene_X\n"
          ]
        }
      ]
    },
    {
      "cell_type": "code",
      "source": [
        "my_dna_string = \"\""
      ],
      "metadata": {
        "id": "jbrL90CZSo_6"
      },
      "execution_count": 10,
      "outputs": []
    },
    {
      "cell_type": "code",
      "source": [
        "my_dna_string"
      ],
      "metadata": {
        "colab": {
          "base_uri": "https://localhost:8080/",
          "height": 35
        },
        "id": "XrCYZvcQTYal",
        "outputId": "78037a8c-76d9-4915-967e-e8f49517d2a7"
      },
      "execution_count": 11,
      "outputs": [
        {
          "output_type": "execute_result",
          "data": {
            "text/plain": [
              "''"
            ],
            "application/vnd.google.colaboratory.intrinsic+json": {
              "type": "string"
            }
          },
          "metadata": {},
          "execution_count": 11
        }
      ]
    },
    {
      "cell_type": "code",
      "source": [
        "my_dna_string = \"ATGGCCATTTAT\" #string datatype"
      ],
      "metadata": {
        "id": "uJ4pf4vbTb8Q"
      },
      "execution_count": 12,
      "outputs": []
    },
    {
      "cell_type": "code",
      "source": [
        "my_dna_string #variable"
      ],
      "metadata": {
        "colab": {
          "base_uri": "https://localhost:8080/",
          "height": 35
        },
        "id": "g8yyYUA1Tyxh",
        "outputId": "0a879bf8-c966-41d0-f1bd-bc3d0b5ad4d5"
      },
      "execution_count": 13,
      "outputs": [
        {
          "output_type": "execute_result",
          "data": {
            "text/plain": [
              "'ATGGCCATTTAT'"
            ],
            "application/vnd.google.colaboratory.intrinsic+json": {
              "type": "string"
            }
          },
          "metadata": {},
          "execution_count": 13
        }
      ]
    },
    {
      "cell_type": "code",
      "source": [
        "length_dna_string = len(my_dna_string)\n",
        "length_dna_string"
      ],
      "metadata": {
        "colab": {
          "base_uri": "https://localhost:8080/"
        },
        "id": "3kG6hnyvT2Rj",
        "outputId": "63e9c2ff-fdfb-45db-aad3-c4f809393a66"
      },
      "execution_count": 15,
      "outputs": [
        {
          "output_type": "execute_result",
          "data": {
            "text/plain": [
              "12"
            ]
          },
          "metadata": {},
          "execution_count": 15
        }
      ]
    },
    {
      "cell_type": "code",
      "source": [
        "#indexing\n",
        "my_dna_string[0]"
      ],
      "metadata": {
        "colab": {
          "base_uri": "https://localhost:8080/",
          "height": 35
        },
        "id": "2vEWY2KVUDJ-",
        "outputId": "8f006b49-a6e1-4337-f238-955fd90f86cb"
      },
      "execution_count": 16,
      "outputs": [
        {
          "output_type": "execute_result",
          "data": {
            "text/plain": [
              "'A'"
            ],
            "application/vnd.google.colaboratory.intrinsic+json": {
              "type": "string"
            }
          },
          "metadata": {},
          "execution_count": 16
        }
      ]
    },
    {
      "cell_type": "code",
      "source": [
        "#slicing\n",
        "my_dna_string[0:3]"
      ],
      "metadata": {
        "colab": {
          "base_uri": "https://localhost:8080/",
          "height": 35
        },
        "id": "or0gzcG-UbyA",
        "outputId": "981f40c8-9288-4d31-cc87-4fd11859234b"
      },
      "execution_count": 17,
      "outputs": [
        {
          "output_type": "execute_result",
          "data": {
            "text/plain": [
              "'ATG'"
            ],
            "application/vnd.google.colaboratory.intrinsic+json": {
              "type": "string"
            }
          },
          "metadata": {},
          "execution_count": 17
        }
      ]
    },
    {
      "cell_type": "code",
      "source": [
        "#reverse of the sequence\n",
        "my_dna_string[::-1]"
      ],
      "metadata": {
        "colab": {
          "base_uri": "https://localhost:8080/",
          "height": 35
        },
        "id": "yb6jmDAFUqLN",
        "outputId": "eee694bd-94a1-4dab-c79d-d5caf8c824ed"
      },
      "execution_count": 22,
      "outputs": [
        {
          "output_type": "execute_result",
          "data": {
            "text/plain": [
              "'TATTTACCGGTA'"
            ],
            "application/vnd.google.colaboratory.intrinsic+json": {
              "type": "string"
            }
          },
          "metadata": {},
          "execution_count": 22
        }
      ]
    },
    {
      "cell_type": "code",
      "source": [
        "#methods or functions\n",
        "my_dna_string.count(\"A\")"
      ],
      "metadata": {
        "colab": {
          "base_uri": "https://localhost:8080/"
        },
        "id": "_k4p6770VZVY",
        "outputId": "98472fbb-96ee-43d5-e819-32364a7db26e"
      },
      "execution_count": 23,
      "outputs": [
        {
          "output_type": "execute_result",
          "data": {
            "text/plain": [
              "3"
            ]
          },
          "metadata": {},
          "execution_count": 23
        }
      ]
    },
    {
      "cell_type": "code",
      "source": [
        "#calculate GC content\n",
        "\n",
        "g_count = my_dna_string.count(\"G\")\n",
        "c_count = my_dna_string.count(\"C\")\n",
        "\n",
        "gc_count = g_count + c_count\n",
        "\n",
        "gc_percentage = (gc_count / length_dna_string) * 100\n",
        "gc_percentage"
      ],
      "metadata": {
        "colab": {
          "base_uri": "https://localhost:8080/"
        },
        "id": "ShZ-CLBRWt4_",
        "outputId": "032d9d42-0a2d-4061-f27c-fdaba6a10c06"
      },
      "execution_count": 26,
      "outputs": [
        {
          "output_type": "execute_result",
          "data": {
            "text/plain": [
              "33.33333333333333"
            ]
          },
          "metadata": {},
          "execution_count": 26
        }
      ]
    },
    {
      "cell_type": "code",
      "source": [
        "type(gc_percentage)"
      ],
      "metadata": {
        "colab": {
          "base_uri": "https://localhost:8080/"
        },
        "id": "uJm70f76YSNZ",
        "outputId": "5468ee64-250c-49c3-a970-829d249f571a"
      },
      "execution_count": 27,
      "outputs": [
        {
          "output_type": "execute_result",
          "data": {
            "text/plain": [
              "float"
            ]
          },
          "metadata": {},
          "execution_count": 27
        }
      ]
    },
    {
      "cell_type": "code",
      "source": [
        "#type conversion\n",
        "\n",
        "dna_integer = int(gc_percentage)\n",
        "dna_integer"
      ],
      "metadata": {
        "colab": {
          "base_uri": "https://localhost:8080/"
        },
        "id": "HGwZ672lYDEK",
        "outputId": "19c561eb-0c07-411e-cdad-fda51ad21715"
      },
      "execution_count": 29,
      "outputs": [
        {
          "output_type": "execute_result",
          "data": {
            "text/plain": [
              "33"
            ]
          },
          "metadata": {},
          "execution_count": 29
        }
      ]
    },
    {
      "cell_type": "code",
      "source": [
        "type(dna_integer)"
      ],
      "metadata": {
        "colab": {
          "base_uri": "https://localhost:8080/"
        },
        "id": "d9lSwwBCYrIx",
        "outputId": "aba7b891-b88c-4090-dc92-de4bf2b3bc2d"
      },
      "execution_count": 30,
      "outputs": [
        {
          "output_type": "execute_result",
          "data": {
            "text/plain": [
              "int"
            ]
          },
          "metadata": {},
          "execution_count": 30
        }
      ]
    },
    {
      "cell_type": "code",
      "source": [
        "#list\n",
        "\n",
        "my_dna_list = []"
      ],
      "metadata": {
        "id": "nZv8od-sY3i8"
      },
      "execution_count": 31,
      "outputs": []
    },
    {
      "cell_type": "code",
      "source": [
        "my_dna_list"
      ],
      "metadata": {
        "colab": {
          "base_uri": "https://localhost:8080/"
        },
        "id": "pzUmY6aDZOKD",
        "outputId": "b5c08dd0-8e3d-49e3-ba6f-1cae53cd765b"
      },
      "execution_count": 32,
      "outputs": [
        {
          "output_type": "execute_result",
          "data": {
            "text/plain": [
              "[]"
            ]
          },
          "metadata": {},
          "execution_count": 32
        }
      ]
    },
    {
      "cell_type": "code",
      "source": [
        "my_dna_list=[\"ATG\",\"GCC\",\"ATT\",\"TAT\"]\n",
        "my_dna_string_back = \",\".join(my_dna_list)\n",
        "my_dna_string_back"
      ],
      "metadata": {
        "colab": {
          "base_uri": "https://localhost:8080/",
          "height": 35
        },
        "id": "fqXYKcvIZPnl",
        "outputId": "08bda10b-3b50-4d72-f7b4-05203d3adf20"
      },
      "execution_count": 41,
      "outputs": [
        {
          "output_type": "execute_result",
          "data": {
            "text/plain": [
              "'ATG,GCC,ATT,TAT'"
            ],
            "application/vnd.google.colaboratory.intrinsic+json": {
              "type": "string"
            }
          },
          "metadata": {},
          "execution_count": 41
        }
      ]
    },
    {
      "cell_type": "code",
      "source": [
        "my_dna_string_back.split(\",\")"
      ],
      "metadata": {
        "colab": {
          "base_uri": "https://localhost:8080/"
        },
        "id": "rEfOTrINZio8",
        "outputId": "4bd39774-ae1f-4ac6-982a-72b0d870c1ae"
      },
      "execution_count": 42,
      "outputs": [
        {
          "output_type": "execute_result",
          "data": {
            "text/plain": [
              "['ATG', 'GCC', 'ATT', 'TAT']"
            ]
          },
          "metadata": {},
          "execution_count": 42
        }
      ]
    },
    {
      "cell_type": "code",
      "source": [
        "my_dna_list[0:2]"
      ],
      "metadata": {
        "colab": {
          "base_uri": "https://localhost:8080/"
        },
        "id": "jWML5TQuaQT2",
        "outputId": "c8d94516-a521-409a-be4e-10cd35091219"
      },
      "execution_count": 45,
      "outputs": [
        {
          "output_type": "execute_result",
          "data": {
            "text/plain": [
              "['ATG', 'GCC']"
            ]
          },
          "metadata": {},
          "execution_count": 45
        }
      ]
    },
    {
      "cell_type": "code",
      "source": [
        " my_dna_list[2:4]"
      ],
      "metadata": {
        "colab": {
          "base_uri": "https://localhost:8080/"
        },
        "id": "5_Myq4CqamKn",
        "outputId": "10ed6c62-5a49-4c5f-c1c6-6e119fba5199"
      },
      "execution_count": 49,
      "outputs": [
        {
          "output_type": "execute_result",
          "data": {
            "text/plain": [
              "['ATT', 'TAT']"
            ]
          },
          "metadata": {},
          "execution_count": 49
        }
      ]
    },
    {
      "cell_type": "code",
      "source": [
        "my_dna_list[0:2] + my_dna_list[2:4]"
      ],
      "metadata": {
        "colab": {
          "base_uri": "https://localhost:8080/"
        },
        "id": "VT9p57U5baZ1",
        "outputId": "9883cf5f-0679-45b2-e182-e11cc311be7d"
      },
      "execution_count": 50,
      "outputs": [
        {
          "output_type": "execute_result",
          "data": {
            "text/plain": [
              "['ATG', 'GCC', 'ATT', 'TAT']"
            ]
          },
          "metadata": {},
          "execution_count": 50
        }
      ]
    },
    {
      "cell_type": "code",
      "source": [
        "my_dna_list.append(\"GTC\")"
      ],
      "metadata": {
        "id": "hAEdVZ0obiHj"
      },
      "execution_count": 51,
      "outputs": []
    },
    {
      "cell_type": "code",
      "source": [
        "my_dna_list"
      ],
      "metadata": {
        "colab": {
          "base_uri": "https://localhost:8080/"
        },
        "id": "8Z6NmFg4bugO",
        "outputId": "10c6a06b-366f-4d6d-cc47-97b3e94ee5dd"
      },
      "execution_count": 52,
      "outputs": [
        {
          "output_type": "execute_result",
          "data": {
            "text/plain": [
              "['ATG', 'GCC', 'ATT', 'TAT', 'GTC']"
            ]
          },
          "metadata": {},
          "execution_count": 52
        }
      ]
    },
    {
      "cell_type": "code",
      "source": [
        "len(my_dna_list)"
      ],
      "metadata": {
        "colab": {
          "base_uri": "https://localhost:8080/"
        },
        "id": "ZDBuIHlgbwwn",
        "outputId": "40612f56-3bfa-4bc1-a885-fb418c16f7ed"
      },
      "execution_count": 53,
      "outputs": [
        {
          "output_type": "execute_result",
          "data": {
            "text/plain": [
              "5"
            ]
          },
          "metadata": {},
          "execution_count": 53
        }
      ]
    }
  ]
}