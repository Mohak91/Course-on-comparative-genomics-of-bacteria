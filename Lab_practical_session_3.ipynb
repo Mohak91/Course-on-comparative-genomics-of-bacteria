{
  "nbformat": 4,
  "nbformat_minor": 0,
  "metadata": {
    "colab": {
      "provenance": [],
      "authorship_tag": "ABX9TyNIBwRdGIrls11CpzsqgQ69",
      "include_colab_link": true
    },
    "kernelspec": {
      "name": "python3",
      "display_name": "Python 3"
    },
    "language_info": {
      "name": "python"
    }
  },
  "cells": [
    {
      "cell_type": "markdown",
      "metadata": {
        "id": "view-in-github",
        "colab_type": "text"
      },
      "source": [
        "<a href=\"https://colab.research.google.com/github/Mohak91/Course-on-comparative-genomics-of-bacteria/blob/main/Lab_practical_session_3.ipynb\" target=\"_parent\"><img src=\"https://colab.research.google.com/assets/colab-badge.svg\" alt=\"Open In Colab\"/></a>"
      ]
    },
    {
      "cell_type": "code",
      "execution_count": 1,
      "metadata": {
        "colab": {
          "base_uri": "https://localhost:8080/"
        },
        "id": "F-rjtBdLS3QP",
        "outputId": "328471b9-7482-4a7e-edc2-3730b5a075d4"
      },
      "outputs": [
        {
          "output_type": "stream",
          "name": "stdout",
          "text": [
            "Mounted at /content/drive/\n"
          ]
        }
      ],
      "source": [
        "from google.colab import drive\n",
        "drive.mount(\"/content/drive/\")"
      ]
    },
    {
      "cell_type": "markdown",
      "source": [
        "Question 1: Write a python program that takes a DNA sequence as a string and extracts all codons and stores them into a list. Finally it prints the length of the DNA sequence, the DNA sequence itself and the list of codons on the screen."
      ],
      "metadata": {
        "id": "SXlyDOT6x4CY"
      }
    },
    {
      "cell_type": "markdown",
      "source": [
        "Let's hard code the solution first"
      ],
      "metadata": {
        "id": "VmlYWuc9x46R"
      }
    },
    {
      "cell_type": "code",
      "source": [
        "#let's assign some DNA sequence of choice to a variable that we name as \"dna\"\n",
        "dna = \"ATGCGATTG\"\n",
        "#let's see the value of the variable dna. Is it the same?\n",
        "dna"
      ],
      "metadata": {
        "colab": {
          "base_uri": "https://localhost:8080/",
          "height": 35
        },
        "id": "QbWRtmaxwWA-",
        "outputId": "2007c717-1ce7-4949-9712-1ae1c8aa131d"
      },
      "execution_count": 2,
      "outputs": [
        {
          "output_type": "execute_result",
          "data": {
            "text/plain": [
              "'ATGCGATTG'"
            ],
            "application/vnd.google.colaboratory.intrinsic+json": {
              "type": "string"
            }
          },
          "metadata": {},
          "execution_count": 2
        }
      ]
    },
    {
      "cell_type": "code",
      "source": [
        "#let's extract all the three codons using slicing. Remember, the start_index of a slice is always included and the end_index will not be included, but the slice will always be of the length (stop_index - start_index)\n",
        "\n",
        "#let's assign the codons to different variable names - first_codon, second_codon, third_codon\n",
        "first_codon = dna[0:3] #length 3 -0 = 3\n",
        "second_codon = dna[3:6] #length 6-3 = 3\n",
        "third_codon = dna[6:9] #length 9-3 = 3\n",
        "\n",
        "print(first_codon,second_codon,third_codon)"
      ],
      "metadata": {
        "colab": {
          "base_uri": "https://localhost:8080/"
        },
        "id": "yuq_ilp4Tu7m",
        "outputId": "5a730e74-0f8a-4e80-b9b4-025afee3ae8e"
      },
      "execution_count": 3,
      "outputs": [
        {
          "output_type": "stream",
          "name": "stdout",
          "text": [
            "ATG CGA TTG\n"
          ]
        }
      ]
    },
    {
      "cell_type": "code",
      "source": [
        "#let's append these variables that we created into a list\n",
        "\n",
        "#first let's define an empty list that we want to fill in. Let's name it \"codon_list\". You can name it anything else.\n",
        "codon_list=[]"
      ],
      "metadata": {
        "id": "TutR1bFgxOmL"
      },
      "execution_count": 4,
      "outputs": []
    },
    {
      "cell_type": "code",
      "source": [
        "#Let's append all codon values into the list we created\n",
        "codon_list.append(first_codon)\n",
        "codon_list.append(second_codon)\n",
        "codon_list.append(third_codon)"
      ],
      "metadata": {
        "id": "rtjyZFYNxeSS"
      },
      "execution_count": 5,
      "outputs": []
    },
    {
      "cell_type": "code",
      "source": [
        "codon_list"
      ],
      "metadata": {
        "colab": {
          "base_uri": "https://localhost:8080/"
        },
        "id": "uIhfU8RuzMvv",
        "outputId": "e886b4f5-3abc-4b40-d85f-cf56d5bbd73b"
      },
      "execution_count": 6,
      "outputs": [
        {
          "output_type": "execute_result",
          "data": {
            "text/plain": [
              "['ATG', 'CGA', 'TTG']"
            ]
          },
          "metadata": {},
          "execution_count": 6
        }
      ]
    },
    {
      "cell_type": "markdown",
      "source": [
        "Wouldn't it be tiresome to do the above if the dna string was 10000000000 bp long instead of length 9 as above?\n",
        "\n",
        "Can you note that you are executing same code three times or three iterations? It makes it redundant, isn't it?\n",
        "\n",
        "Work-around for the above problem is to use \"for loop\" to iterate through the same code multiple times ( in our case three times)"
      ],
      "metadata": {
        "id": "zoMe6T0vyA1L"
      }
    },
    {
      "cell_type": "code",
      "source": [
        "#Range() is a handy method that we can use here. Let's first see how range functions.\n",
        "\n",
        "for number in range(0,10):\n",
        "  print(number)"
      ],
      "metadata": {
        "colab": {
          "base_uri": "https://localhost:8080/"
        },
        "id": "hjqRi6ACyuKq",
        "outputId": "2f52ea35-48e8-4ea8-cf66-a95a299b5089"
      },
      "execution_count": 7,
      "outputs": [
        {
          "output_type": "stream",
          "name": "stdout",
          "text": [
            "0\n",
            "1\n",
            "2\n",
            "3\n",
            "4\n",
            "5\n",
            "6\n",
            "7\n",
            "8\n",
            "9\n"
          ]
        }
      ]
    },
    {
      "cell_type": "code",
      "source": [
        "for number in range(0,10,1):\n",
        "  print(number)"
      ],
      "metadata": {
        "colab": {
          "base_uri": "https://localhost:8080/"
        },
        "id": "mYJbsl5szRah",
        "outputId": "c5202a47-f185-4b94-d79d-e6d59d967a75"
      },
      "execution_count": 8,
      "outputs": [
        {
          "output_type": "stream",
          "name": "stdout",
          "text": [
            "0\n",
            "1\n",
            "2\n",
            "3\n",
            "4\n",
            "5\n",
            "6\n",
            "7\n",
            "8\n",
            "9\n"
          ]
        }
      ]
    },
    {
      "cell_type": "code",
      "source": [
        "#We can use the above function to just extract the indices of the start of all the three codons in our dna string\n",
        "# i.e 0, 3 and 6\n",
        "\n",
        "#In our case the range would be defined between 0 and the length of our dna string i.e 9\n",
        "for index in range(0,9,3):\n",
        "  print(index)"
      ],
      "metadata": {
        "colab": {
          "base_uri": "https://localhost:8080/"
        },
        "id": "6itiwpnrYJzn",
        "outputId": "0979a4fa-3ea0-4370-93e8-cd297ccceec0"
      },
      "execution_count": 9,
      "outputs": [
        {
          "output_type": "stream",
          "name": "stdout",
          "text": [
            "0\n",
            "3\n",
            "6\n"
          ]
        }
      ]
    },
    {
      "cell_type": "code",
      "source": [
        "#we can replace 9 with the variable dna_length\n",
        "#this reduces hard coding\n",
        "dna_length =len(dna)\n",
        "for index in range(0,dna_length,3):\n",
        "  print(index)"
      ],
      "metadata": {
        "colab": {
          "base_uri": "https://localhost:8080/"
        },
        "id": "9XYOCWAIz6c0",
        "outputId": "509610e3-39c6-40fe-9a80-9449b3c7e656"
      },
      "execution_count": 10,
      "outputs": [
        {
          "output_type": "stream",
          "name": "stdout",
          "text": [
            "0\n",
            "3\n",
            "6\n"
          ]
        }
      ]
    },
    {
      "cell_type": "code",
      "source": [
        "#let's use these extracted indices to slice our string into codons using a for loop.\n",
        "#It automates the same thing that we executed manually in cell 3 above.\n",
        "\n",
        "for index in range(0, dna_length, 3):\n",
        "  print(dna[index:index+3])"
      ],
      "metadata": {
        "colab": {
          "base_uri": "https://localhost:8080/"
        },
        "id": "5yx7NHHowTlt",
        "outputId": "530bfa63-d6b8-4f0a-b3c5-ebd2dea6564a"
      },
      "execution_count": 12,
      "outputs": [
        {
          "output_type": "stream",
          "name": "stdout",
          "text": [
            "ATG\n",
            "CGA\n",
            "TTG\n"
          ]
        }
      ]
    },
    {
      "cell_type": "code",
      "source": [
        "#Let's append them in a list\n",
        "\n",
        "#let's redefine an empty list\n",
        "dna_list=[]\n",
        "for index in range(0, dna_length, 3):\n",
        "  #print(dna[index:index+3]) # uncomment and execute again to print as well\n",
        "  dna_list.append(dna[index:index+3])"
      ],
      "metadata": {
        "id": "pbwO6iNh0NPY"
      },
      "execution_count": 13,
      "outputs": []
    },
    {
      "cell_type": "code",
      "source": [
        "#voila!!!\n",
        "dna_list"
      ],
      "metadata": {
        "colab": {
          "base_uri": "https://localhost:8080/"
        },
        "id": "dEaU1BPM1KNv",
        "outputId": "7e9e31f2-e060-4f3a-cd61-bede97bf06e3"
      },
      "execution_count": 15,
      "outputs": [
        {
          "output_type": "execute_result",
          "data": {
            "text/plain": [
              "['ATG', 'CGA', 'TTG']"
            ]
          },
          "metadata": {},
          "execution_count": 15
        }
      ]
    },
    {
      "cell_type": "code",
      "source": [
        "count = 0\n",
        "for codon in dna_list:\n",
        "  count=count+1\n",
        "  print(count,codon)"
      ],
      "metadata": {
        "colab": {
          "base_uri": "https://localhost:8080/"
        },
        "id": "yWS6aU721tRn",
        "outputId": "6aefc102-72cf-494a-db16-f44f156344a1"
      },
      "execution_count": 16,
      "outputs": [
        {
          "output_type": "stream",
          "name": "stdout",
          "text": [
            "1 ATG\n",
            "2 CGA\n",
            "3 TTG\n"
          ]
        }
      ]
    },
    {
      "cell_type": "code",
      "source": [
        "count=0\n",
        "for codon in ['ATG', 'CGA', 'TTG']:\n",
        "  count=count+1\n",
        "  print(count,codon)"
      ],
      "metadata": {
        "colab": {
          "base_uri": "https://localhost:8080/"
        },
        "id": "I_4upQAu182q",
        "outputId": "8ae0bb49-f98d-43f7-deea-d4e657c05912"
      },
      "execution_count": 17,
      "outputs": [
        {
          "output_type": "stream",
          "name": "stdout",
          "text": [
            "1 ATG\n",
            "2 CGA\n",
            "3 TTG\n"
          ]
        }
      ]
    },
    {
      "cell_type": "code",
      "source": [
        "count=0\n",
        "for codon in ['ATG', 'CGA', 'TTG']:\n",
        "  count=count+1\n",
        "print(count,codon)"
      ],
      "metadata": {
        "colab": {
          "base_uri": "https://localhost:8080/"
        },
        "id": "RmQgOvWa2UmI",
        "outputId": "1276f87b-c12d-41e8-f264-eda701596490"
      },
      "execution_count": 18,
      "outputs": [
        {
          "output_type": "stream",
          "name": "stdout",
          "text": [
            "3 TTG\n"
          ]
        }
      ]
    },
    {
      "cell_type": "markdown",
      "source": [
        "What is the difference in cell 17 and cell 18 results?"
      ],
      "metadata": {
        "id": "AzOU4cWu2YnB"
      }
    }
  ]
}