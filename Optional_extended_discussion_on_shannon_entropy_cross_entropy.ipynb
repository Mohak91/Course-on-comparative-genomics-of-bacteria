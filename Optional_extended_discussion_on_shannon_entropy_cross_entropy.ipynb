{
  "nbformat": 4,
  "nbformat_minor": 0,
  "metadata": {
    "colab": {
      "provenance": [],
      "authorship_tag": "ABX9TyP4edP2imhcoHC68Hh1KnZ+",
      "include_colab_link": true
    },
    "kernelspec": {
      "name": "python3",
      "display_name": "Python 3"
    },
    "language_info": {
      "name": "python"
    }
  },
  "cells": [
    {
      "cell_type": "markdown",
      "metadata": {
        "id": "view-in-github",
        "colab_type": "text"
      },
      "source": [
        "<a href=\"https://colab.research.google.com/github/Mohak91/Course-on-comparative-genomics-of-bacteria/blob/main/Optional_extended_discussion_on_shannon_entropy_cross_entropy.ipynb\" target=\"_parent\"><img src=\"https://colab.research.google.com/assets/colab-badge.svg\" alt=\"Open In Colab\"/></a>"
      ]
    },
    {
      "cell_type": "markdown",
      "source": [
        "We did not discuss aspects of these in the class, so follow this notebook only if you are interested in additional aspects related to shannon-entropy related analysis. (not a part of the syllabus)\n",
        "\n",
        "This notebook talks about two things:\n",
        "a. Finding if the regions (positions) with low shannon entropies as compared to three standard deviations below the average entropy value of the genome are statistically significant, given the base composition of the genome.\n",
        "\n",
        "b. Cross entropy: helps compare the difference in the entropy values of expected distribution with the observed distribution. For example, your expectation is that each window should have 0.25 base frequency of all nucleotides. But you find that the frequencies are actually 0.15, 0.15, 0.35, 0.35 for a given window. How much are they different from the expected frequencies? The more different they are, the higher the cross entropy."
      ],
      "metadata": {
        "id": "FtAabSiuK2vr"
      }
    },
    {
      "cell_type": "code",
      "execution_count": null,
      "metadata": {
        "colab": {
          "base_uri": "https://localhost:8080/"
        },
        "id": "DTV1Iw-0FhGp",
        "outputId": "89bd9d60-5ec1-459a-8329-a19898cbc43b"
      },
      "outputs": [
        {
          "output_type": "stream",
          "name": "stdout",
          "text": [
            "Mounted at /content/drive/\n"
          ]
        }
      ],
      "source": [
        "from google.colab import drive\n",
        "drive.mount(\"/content/drive/\")"
      ]
    },
    {
      "cell_type": "code",
      "source": [
        "%cd /content/drive/MyDrive/comp_gen_bacteria_krea"
      ],
      "metadata": {
        "colab": {
          "base_uri": "https://localhost:8080/"
        },
        "id": "q9YyQ2LgFjZ5",
        "outputId": "d42e5136-2e6e-4b42-c93e-8d667bdd20a3"
      },
      "execution_count": null,
      "outputs": [
        {
          "output_type": "stream",
          "name": "stdout",
          "text": [
            "/content/drive/MyDrive/comp_gen_bacteria_krea\n"
          ]
        }
      ]
    },
    {
      "cell_type": "code",
      "source": [
        "import math\n",
        "import numpy as np\n",
        "\n",
        "fname = \"/content/drive/MyDrive/comp_gen_bacteria_krea/GCF_000027325.1_ASM2732v1_genomic.fna\"\n",
        "w = 10 # window size\n",
        "\n",
        "# start of readUserGenomeSeq #######\n",
        "def readUserGenomeSeq(fname):\n",
        "    fh = open(fname, 'r')\n",
        "    fh.readline() # remove fasta header\n",
        "    seq = \"\"\n",
        "    for line in fh:\n",
        "        seq = seq+line.rstrip(\"\\n\")\n",
        "    fh.close()\n",
        "    return seq\n",
        "# end of readUserGenomeSeq #######\n",
        "\n",
        "def shannonE( seqarr ):\n",
        "    basecount = {\"A\":1, \"T\":1, \"C\":1, \"G\":1} # pseudocount of 1 so that natural log is not 0 if a base is not encountered\n",
        "    for base in seqarr: # get base counts\n",
        "        basecount[base] += 1\n",
        "\n",
        "    total = float(sum(basecount.values()))\n",
        "    basefrac = [basecount[nt]/total for nt in basecount]\n",
        "    SE = 0.0 # shannon's entropy\n",
        "    for bf in basefrac:\n",
        "        SE += bf * math.log(bf,4) # this is log 4, thus entropy is in range 0-1 for alphabet of size 4.\n",
        "    SE = -1.0 * SE\n",
        "    return SE\n",
        "\n",
        "def crossE( seqarr, true_probability_dictionary ):\n",
        "    basecount = {\"A\":1, \"T\":1, \"C\":1, \"G\":1} # pseudocount of 1 so that natural log is not 0 if a base is not encountered\n",
        "    for base in seqarr: # get base counts\n",
        "        basecount[base] += 1\n",
        "\n",
        "    total = float(sum(basecount.values()))\n",
        "    basefrac_dict = { nt:count/total for (nt,count) in basecount.items()} \n",
        "    #basefrac = [basecount[nt]/total for nt in basecount]\n",
        "    CE = 0.0 # shannon's entropy\n",
        "    for nt,bf in basefrac_dict.items():\n",
        "        CE += true_probability_dictionary[nt] * math.log(bf,4) # this is log 4, thus entropy is in range 0-1 for alphabet of size 4.\n",
        "    CE = -1.0 * CE\n",
        "    return CE\n",
        "\n",
        "def global_nt_freq(refseqarr):\n",
        "  a_freq=refseqarr.count(\"A\")/len(refseqarr)\n",
        "  t_freq=refseqarr.count(\"T\")/len(refseqarr)\n",
        "  g_freq=refseqarr.count(\"G\")/len(refseqarr)\n",
        "  c_freq=refseqarr.count(\"C\")/len(refseqarr)\n",
        "  print(a_freq,t_freq,g_freq,c_freq)\n",
        "  return a_freq,t_freq,g_freq,c_freq"
      ],
      "metadata": {
        "id": "okc1Mke3Fj4r"
      },
      "execution_count": null,
      "outputs": []
    },
    {
      "cell_type": "code",
      "source": [
        "def global_nt_freq(refseqarr):\n",
        "  a_freq=refseqarr.count(\"A\")/len(refseqarr)\n",
        "  t_freq=refseqarr.count(\"T\")/len(refseqarr)\n",
        "  g_freq=refseqarr.count(\"G\")/len(refseqarr)\n",
        "  c_freq=refseqarr.count(\"C\")/len(refseqarr)\n",
        "  print(a_freq,t_freq,g_freq,c_freq)\n",
        "  return a_freq,t_freq,g_freq,c_freq"
      ],
      "metadata": {
        "colab": {
          "base_uri": "https://localhost:8080/"
        },
        "id": "RAWxnNStMQtQ",
        "outputId": "9e0a6ac8-457b-4e83-b969-e99c85425494"
      },
      "execution_count": null,
      "outputs": [
        {
          "output_type": "stream",
          "name": "stdout",
          "text": [
            "0.3457202159717003 0.3373885490866714 0.159127424682283 0.15776381025934533\n"
          ]
        }
      ]
    },
    {
      "cell_type": "code",
      "source": [
        "refseq = readUserGenomeSeq(fname)\n",
        "refseqarr = list(refseq)\n",
        "print (\"Genome length: \", len(refseqarr))\n",
        "\n",
        "refseqSE = [] # shannon entropy for all windows\n",
        "refseqCE_eq = []\n",
        "refseqCE_global = []\n",
        "true_probability_dictionary_eq={'A':0.25,'T':0.25,'G':0.25,'C':0.25}\n",
        "a_freq,t_freq,g_freq,c_freq=global_nt_freq(refseqarr)\n",
        "true_probability_dictionary_global={\"A\":a_freq, \"T\":t_freq, \"G\":g_freq,\"C\":c_freq}\n",
        "\n",
        "#overlapping windows\n",
        "#non-overlapping windows\n",
        "for i in range(0,len(refseqarr)-w+1): # from beginning of seq till the pos where the window of size w will exist\n",
        "  wstart = max(0,i-w) # window start #first iteration: 0 ...... 1\n",
        "  wend = min(len(refseqarr),i+w+1) # window end #11 (0+10+1) ...... 11+10+1 = 22\n",
        "  seqregion = refseqarr[wstart:wend] # get seq region from i-w to i+w\n",
        "  #print(i,wstart,wend)\n",
        "  #if i>10:\n",
        "  #if i>(len(refseqarr)-w+2)-10:\n",
        "    #print(i,wstart,wend)\n",
        "    #break\n",
        "  refseqSE.append(shannonE(seqregion))\n",
        "  refseqCE_eq.append(crossE(seqregion, true_probability_dictionary_eq))\n",
        "  refseqCE_global.append(crossE(seqregion, true_probability_dictionary_global))"
      ],
      "metadata": {
        "colab": {
          "base_uri": "https://localhost:8080/"
        },
        "id": "q4Hg1DIsFmsm",
        "outputId": "1cfd4ab9-eaca-416d-f5eb-354667d2b9d1"
      },
      "execution_count": null,
      "outputs": [
        {
          "output_type": "stream",
          "name": "stdout",
          "text": [
            "Genome length:  580076\n"
          ]
        }
      ]
    },
    {
      "cell_type": "code",
      "source": [
        "window_list=[]\n",
        "for i in range(len(refseqSE)):\n",
        "  window_list.append(i+1)"
      ],
      "metadata": {
        "id": "NRXLffakFsk2"
      },
      "execution_count": null,
      "outputs": []
    },
    {
      "cell_type": "code",
      "source": [
        "import matplotlib.pyplot as plt\n",
        "  \n",
        "plt.plot(window_list, refseqSE)\n",
        "plt.title('Shannon Entropy versus window (size 10)')\n",
        "plt.xlabel('Window number (size 10)')\n",
        "plt.ylabel('Shannon Entropy')\n",
        "plt.show()"
      ],
      "metadata": {
        "colab": {
          "base_uri": "https://localhost:8080/",
          "height": 295
        },
        "id": "OJp9bXfiFvPb",
        "outputId": "b34f5221-a877-4e9f-bcc6-c3f2dab918be"
      },
      "execution_count": null,
      "outputs": [
        {
          "output_type": "display_data",
          "data": {
            "text/plain": [
              "<Figure size 432x288 with 1 Axes>"
            ],
            "image/png": "[encoded data removed]"
          },
          "metadata": {
            "needs_background": "light"
          }
        }
      ]
    },
    {
      "cell_type": "code",
      "source": [
        "import matplotlib.pyplot as plt\n",
        "  \n",
        "plt.plot(window_list, refseqCE_eq)\n",
        "plt.title('Cross Entropy versus window (size 10)')\n",
        "plt.xlabel('Window number (size 10)')\n",
        "plt.ylabel('Cross Entropy')\n",
        "plt.show()"
      ],
      "metadata": {
        "colab": {
          "base_uri": "https://localhost:8080/",
          "height": 295
        },
        "id": "JvHmxttvLqtY",
        "outputId": "ca91af90-1662-4419-a88c-b026cce620b8"
      },
      "execution_count": null,
      "outputs": [
        {
          "output_type": "display_data",
          "data": {
            "text/plain": [
              "<Figure size 432x288 with 1 Axes>"
            ],
            "image/png": "[encoded data removed]"
          },
          "metadata": {
            "needs_background": "light"
          }
        }
      ]
    },
    {
      "cell_type": "code",
      "source": [
        "import matplotlib.pyplot as plt\n",
        "  \n",
        "plt.plot(window_list, refseqCE_global)\n",
        "plt.title('Cross Entropy versus window (size 10)')\n",
        "plt.xlabel('Window number (size 10)')\n",
        "plt.ylabel('Cross Entropy')\n",
        "plt.show()"
      ],
      "metadata": {
        "colab": {
          "base_uri": "https://localhost:8080/",
          "height": 295
        },
        "id": "AEXkyOIROSib",
        "outputId": "a9b4cedf-72b0-4cb6-b635-1916678c4f91"
      },
      "execution_count": null,
      "outputs": [
        {
          "output_type": "display_data",
          "data": {
            "text/plain": [
              "<Figure size 432x288 with 1 Axes>"
            ],
            "image/png": "[encoded data removed]"
          },
          "metadata": {
            "needs_background": "light"
          }
        }
      ]
    },
    {
      "cell_type": "code",
      "source": [
        "genome_entropy = shannonE(refseqarr)"
      ],
      "metadata": {
        "id": "n0JN5KGlFxL6"
      },
      "execution_count": null,
      "outputs": []
    },
    {
      "cell_type": "code",
      "source": [
        "genome_entropy"
      ],
      "metadata": {
        "colab": {
          "base_uri": "https://localhost:8080/"
        },
        "id": "8TypaSmvajuh",
        "outputId": "87006c9f-6208-43a3-e9d0-208a263f2ccf"
      },
      "execution_count": null,
      "outputs": [
        {
          "output_type": "execute_result",
          "data": {
            "text/plain": [
              "0.9504462806822842"
            ]
          },
          "metadata": {},
          "execution_count": 15
        }
      ]
    },
    {
      "cell_type": "code",
      "source": [
        "print(shannonE(['T','T','T','T','T','T','T','T','T','T','T','T','T','T','T','T','T','T','T','T']))"
      ],
      "metadata": {
        "colab": {
          "base_uri": "https://localhost:8080/"
        },
        "id": "oqtrEl_oKJKa",
        "outputId": "b23ec786-a30b-4d70-b54d-bd9f2ac09a67"
      },
      "execution_count": null,
      "outputs": [
        {
          "output_type": "stream",
          "name": "stdout",
          "text": [
            "0.3708423778948705\n"
          ]
        }
      ]
    },
    {
      "cell_type": "code",
      "source": [
        "refseqSE_deviation = [pointrefseqSE - genome_entropy for pointrefseqSE in refseqSE]"
      ],
      "metadata": {
        "id": "tpYY3yxmFz3Z"
      },
      "execution_count": null,
      "outputs": []
    },
    {
      "cell_type": "code",
      "source": [
        "import matplotlib.pyplot as plt\n",
        "plt.boxplot(refseqSE_deviation)"
      ],
      "metadata": {
        "colab": {
          "base_uri": "https://localhost:8080/",
          "height": 404
        },
        "id": "fJ7RwJZMF2xH",
        "outputId": "00d29d41-0e53-46b9-b0e7-4c2265a68019"
      },
      "execution_count": null,
      "outputs": [
        {
          "output_type": "execute_result",
          "data": {
            "text/plain": [
              "{'whiskers': [<matplotlib.lines.Line2D at 0x7ffb8335f750>,\n",
              "  <matplotlib.lines.Line2D at 0x7ffb8335fc90>],\n",
              " 'caps': [<matplotlib.lines.Line2D at 0x7ffb7fc86210>,\n",
              "  <matplotlib.lines.Line2D at 0x7ffb7fc86750>],\n",
              " 'boxes': [<matplotlib.lines.Line2D at 0x7ffb8335f1d0>],\n",
              " 'medians': [<matplotlib.lines.Line2D at 0x7ffb7fc86cd0>],\n",
              " 'fliers': [<matplotlib.lines.Line2D at 0x7ffb7fc8b250>],\n",
              " 'means': []}"
            ]
          },
          "metadata": {},
          "execution_count": 18
        },
        {
          "output_type": "display_data",
          "data": {
            "text/plain": [
              "<Figure size 432x288 with 1 Axes>"
            ],
            "image/png": "[encoded data removed]"
          },
          "metadata": {
            "needs_background": "light"
          }
        }
      ]
    },
    {
      "cell_type": "code",
      "source": [
        "import numpy as np\n",
        "import seaborn as sb\n",
        "import matplotlib.pyplot as plt\n",
        " \n",
        "#data = np.random.normal(10,3,300) #Generating data.\n",
        "#plt.figure(figsize = (5,5))\n",
        "sb.kdeplot(refseqSE_deviation , bw = 0.5, fill = True)\n",
        "plt.show()"
      ],
      "metadata": {
        "colab": {
          "base_uri": "https://localhost:8080/",
          "height": 323
        },
        "id": "1_p7TTWKF5Ed",
        "outputId": "e578b5f1-7414-4404-e5c4-88f15d2d9e74"
      },
      "execution_count": null,
      "outputs": [
        {
          "output_type": "stream",
          "name": "stderr",
          "text": [
            "/usr/local/lib/python3.7/dist-packages/seaborn/distributions.py:1699: FutureWarning: The `bw` parameter is deprecated in favor of `bw_method` and `bw_adjust`. Using 0.5 for `bw_method`, but please see the docs for the new parameters and update your code.\n",
            "  warnings.warn(msg, FutureWarning)\n"
          ]
        },
        {
          "output_type": "display_data",
          "data": {
            "text/plain": [
              "<Figure size 432x288 with 1 Axes>"
            ],
            "image/png": "[encoded data removed]"
          },
          "metadata": {
            "needs_background": "light"
          }
        }
      ]
    },
    {
      "cell_type": "code",
      "source": [
        "#POTENTIAL LOW COMPLEXITY REGIONS\n",
        "\n",
        "SEarr = np.array(refseqSE)\n",
        "avgSE = np.mean(SEarr)\n",
        "stdSE = np.std(SEarr)\n",
        "factorSE = 3*stdSE\n",
        "factorSE_list=[]\n",
        "factorSE_list_window=[]\n",
        "for i in range(len(refseqSE)):\n",
        "  if refseqSE[i] < avgSE-factorSE: # if LC and SE score are 2*SD below their respective means => Low complexity\n",
        "    factorSE_list.append(refseqSE[i])\n",
        "    factorSE_list_window.append(i+1)"
      ],
      "metadata": {
        "id": "m2RVXSn8PkJL"
      },
      "execution_count": null,
      "outputs": []
    },
    {
      "cell_type": "code",
      "source": [
        "import matplotlib.pyplot as plt\n",
        "  \n",
        "plt.plot(factorSE_list_window, factorSE_list)\n",
        "plt.title('Shannon Entropy versus window (size 10)\\nfor LCregions')\n",
        "plt.xlabel('Window number (size 10)')\n",
        "plt.ylabel('Shannon Entropy')\n",
        "plt.show()"
      ],
      "metadata": {
        "colab": {
          "base_uri": "https://localhost:8080/",
          "height": 310
        },
        "id": "AzjFrYwFPpxu",
        "outputId": "a28f6f0d-3e14-4659-e86e-b457641d6478"
      },
      "execution_count": null,
      "outputs": [
        {
          "output_type": "display_data",
          "data": {
            "text/plain": [
              "<Figure size 432x288 with 1 Axes>"
            ],
            "image/png": "[encoded data removed]"
          },
          "metadata": {
            "needs_background": "light"
          }
        }
      ]
    },
    {
      "cell_type": "code",
      "source": [
        "len(factorSE_list)"
      ],
      "metadata": {
        "colab": {
          "base_uri": "https://localhost:8080/"
        },
        "id": "M7y_-jdUPtSI",
        "outputId": "b75ff8f5-f071-4a14-a9d3-f2986ba5edbd"
      },
      "execution_count": null,
      "outputs": [
        {
          "output_type": "execute_result",
          "data": {
            "text/plain": [
              "6562"
            ]
          },
          "metadata": {},
          "execution_count": 22
        }
      ]
    },
    {
      "cell_type": "code",
      "source": [
        "len(window_list)"
      ],
      "metadata": {
        "colab": {
          "base_uri": "https://localhost:8080/"
        },
        "id": "nELXEtpUPwqN",
        "outputId": "21257109-9591-43d9-f5b3-fad5f42e7c1c"
      },
      "execution_count": null,
      "outputs": [
        {
          "output_type": "execute_result",
          "data": {
            "text/plain": [
              "580067"
            ]
          },
          "metadata": {},
          "execution_count": 23
        }
      ]
    },
    {
      "cell_type": "code",
      "source": [
        "import random\n",
        "import statistics\n",
        "random_refseqarr = list(refseq)\n",
        "rfactorSE_list_overall=[] #the number of motifs that i find after every iteration of the random shuffling\n",
        "for i in range(0,100):\n",
        "  random.shuffle(random_refseqarr) #in-place shuffling\n",
        "  random_refseqSE=[]\n",
        "  for i in range(0,len(random_refseqarr)-w+1): # from beginning of seq till the pos where the window of size w will exist\n",
        "    wstart = max(0,i-w) # window start\n",
        "    wend = min(len(random_refseqarr),i+w+1) # window end\n",
        "    seqregion = random_refseqarr[wstart:wend] # get seq region from i-w to i+w\n",
        "    random_refseqSE.append(shannonE(seqregion))\n",
        "  rSEarr = np.array(random_refseqSE)\n",
        "  ravgSE = np.mean(rSEarr)\n",
        "  rstdSE = np.std(rSEarr)\n",
        "  rfactorSE = 3*rstdSE\n",
        "  rfactorSE_list=[]\n",
        "  rfactorSE_list_window=[]\n",
        "  for i in range(len(random_refseqSE)):\n",
        "    if random_refseqSE[i] < ravgSE-rfactorSE: # if LC and SE score are 2*SD below their respective means => Low complexity\n",
        "      rfactorSE_list.append(random_refseqSE[i])\n",
        "      rfactorSE_list_window.append(i+1)\n",
        "  rfactorSE_list_overall.append(len(rfactorSE_list))"
      ],
      "metadata": {
        "id": "bc2lggrlbzO0"
      },
      "execution_count": null,
      "outputs": []
    },
    {
      "cell_type": "code",
      "source": [
        "statistics.mean(rfactorSE_list_overall)"
      ],
      "metadata": {
        "colab": {
          "base_uri": "https://localhost:8080/"
        },
        "id": "pYFx8okOgCPd",
        "outputId": "5fe44e75-024a-4170-b12e-9204f55a98aa"
      },
      "execution_count": null,
      "outputs": [
        {
          "output_type": "execute_result",
          "data": {
            "text/plain": [
              "6238.1"
            ]
          },
          "metadata": {},
          "execution_count": 32
        }
      ]
    },
    {
      "cell_type": "code",
      "source": [
        "statistics.stdev(rfactorSE_list_overall)"
      ],
      "metadata": {
        "colab": {
          "base_uri": "https://localhost:8080/"
        },
        "id": "QP767eZxgJqS",
        "outputId": "0923661e-dacf-4c57-ce2e-656a113cc863"
      },
      "execution_count": null,
      "outputs": [
        {
          "output_type": "execute_result",
          "data": {
            "text/plain": [
              "192.32603315802837"
            ]
          },
          "metadata": {},
          "execution_count": 33
        }
      ]
    },
    {
      "cell_type": "code",
      "source": [
        "import numpy as np\n",
        "import seaborn as sb\n",
        "import matplotlib.pyplot as plt\n",
        " \n",
        "#data = np.random.normal(10,3,300) #Generating data.\n",
        "#plt.figure(figsize = (5,5))\n",
        "sb.kdeplot(rfactorSE_list_overall , bw = 0.5, fill = True)\n",
        "plt.axvline(6562)\n",
        "plt.show()\n",
        "\n",
        "count_gt_observed=0\n",
        "for se in rfactorSE_list_overall:\n",
        "  #print(se)\n",
        "  if se > 6562:\n",
        "    count_gt_observed+=1\n",
        "\n",
        "pvalue=count_gt_observed/len(rfactorSE_list_overall)"
      ],
      "metadata": {
        "colab": {
          "base_uri": "https://localhost:8080/",
          "height": 320
        },
        "id": "RshXTgkDO2i1",
        "outputId": "f3cb6e39-44d0-4cc5-a55e-7d34aa157364"
      },
      "execution_count": null,
      "outputs": [
        {
          "output_type": "stream",
          "name": "stderr",
          "text": [
            "/usr/local/lib/python3.7/dist-packages/seaborn/distributions.py:1699: FutureWarning: The `bw` parameter is deprecated in favor of `bw_method` and `bw_adjust`. Using 0.5 for `bw_method`, but please see the docs for the new parameters and update your code.\n",
            "  warnings.warn(msg, FutureWarning)\n"
          ]
        },
        {
          "output_type": "display_data",
          "data": {
            "text/plain": [
              "<Figure size 432x288 with 1 Axes>"
            ],
            "image/png": "[encoded data removed]"
          },
          "metadata": {
            "needs_background": "light"
          }
        }
      ]
    },
    {
      "cell_type": "code",
      "source": [
        "sb.histplot(rfactorSE_list_overall,fill = True)\n",
        "plt.axvline(6562)\n",
        "plt.show()"
      ],
      "metadata": {
        "colab": {
          "base_uri": "https://localhost:8080/",
          "height": 265
        },
        "id": "txPsCrstT2rP",
        "outputId": "a976c7b6-ace7-4d96-9d89-19bf1ea3ac7a"
      },
      "execution_count": null,
      "outputs": [
        {
          "output_type": "display_data",
          "data": {
            "text/plain": [
              "<Figure size 432x288 with 1 Axes>"
            ],
            "image/png": "[encoded data removed]"
          },
          "metadata": {
            "needs_background": "light"
          }
        }
      ]
    },
    {
      "cell_type": "code",
      "source": [
        "print(pvalue)"
      ],
      "metadata": {
        "colab": {
          "base_uri": "https://localhost:8080/"
        },
        "id": "Ny09oyq1Q59f",
        "outputId": "22f4025c-0cd9-4c02-e91f-29777f351795"
      },
      "execution_count": null,
      "outputs": [
        {
          "output_type": "stream",
          "name": "stdout",
          "text": [
            "0.02\n"
          ]
        }
      ]
    }
  ]
}