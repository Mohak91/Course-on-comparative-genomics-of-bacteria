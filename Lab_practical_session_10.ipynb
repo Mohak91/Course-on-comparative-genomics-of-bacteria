{
  "nbformat": 4,
  "nbformat_minor": 0,
  "metadata": {
    "colab": {
      "provenance": [],
      "authorship_tag": "ABX9TyPrucUSxbo4lvICVGKBgXn5",
      "include_colab_link": true
    },
    "kernelspec": {
      "name": "python3",
      "display_name": "Python 3"
    },
    "language_info": {
      "name": "python"
    }
  },
  "cells": [
    {
      "cell_type": "markdown",
      "metadata": {
        "id": "view-in-github",
        "colab_type": "text"
      },
      "source": [
        "<a href=\"https://colab.research.google.com/github/Mohak91/Course-on-comparative-genomics-of-bacteria/blob/main/Lab_practical_session_10.ipynb\" target=\"_parent\"><img src=\"https://colab.research.google.com/assets/colab-badge.svg\" alt=\"Open In Colab\"/></a>"
      ]
    },
    {
      "cell_type": "code",
      "execution_count": null,
      "metadata": {
        "colab": {
          "base_uri": "https://localhost:8080/"
        },
        "id": "Up1hVHF2Pujm",
        "outputId": "80bbeae4-3871-42b2-a45b-49021d9aea51"
      },
      "outputs": [
        {
          "output_type": "stream",
          "name": "stdout",
          "text": [
            "Drive already mounted at /content/drive/; to attempt to forcibly remount, call drive.mount(\"/content/drive/\", force_remount=True).\n"
          ]
        }
      ],
      "source": [
        "from google.colab import drive\n",
        "drive.mount(\"/content/drive/\")"
      ]
    },
    {
      "cell_type": "markdown",
      "source": [],
      "metadata": {
        "id": "pfY3hraEunau"
      }
    },
    {
      "cell_type": "code",
      "source": [
        "%cd /content/drive/MyDrive/comp_gen_bacteria_krea"
      ],
      "metadata": {
        "colab": {
          "base_uri": "https://localhost:8080/"
        },
        "id": "DjVNGJqaP5VJ",
        "outputId": "b6013dd3-56c2-4a6e-d072-6a2a4a62ce79"
      },
      "execution_count": null,
      "outputs": [
        {
          "output_type": "stream",
          "name": "stdout",
          "text": [
            "/content/drive/MyDrive/comp_gen_bacteria_krea\n"
          ]
        }
      ]
    },
    {
      "cell_type": "code",
      "source": [
        "FNA=\"/content/drive/MyDrive/comp_gen_bacteria_krea/GCF_000027325.1_ASM2732v1_genomic.fna\""
      ],
      "metadata": {
        "id": "UXFz3Cnll65e"
      },
      "execution_count": null,
      "outputs": []
    },
    {
      "cell_type": "code",
      "source": [
        "def extract_genome_sequence(FNA):\n",
        "  sequence=\"\"\n",
        "  with open(FNA) as fh:\n",
        "    for line in fh:\n",
        "      if not line.startswith(\">\"):\n",
        "        sequence+=line.rstrip(\"\\n\")\n",
        "  return sequence"
      ],
      "metadata": {
        "id": "_QqICv9nmHw9"
      },
      "execution_count": null,
      "outputs": []
    },
    {
      "cell_type": "code",
      "source": [
        "genome_sequence=extract_genome_sequence(FNA)\n",
        "genome_sequence"
      ],
      "metadata": {
        "id": "mdzgKSn8mqLd"
      },
      "execution_count": null,
      "outputs": []
    },
    {
      "cell_type": "markdown",
      "source": [
        "For nucleotides,\n",
        "\n",
        "Shannon Entropy = Probability(A) * log4(1/ Probability(A)) + Probability(T) * log4(1/ Probability(T)) + Probability(G) * log4(1/ Probability(G)) + Probability(C) * log4(1/ Probability(C))\n",
        "\n",
        "or \n",
        "\n",
        "Shannon Entropy = Probability(A) * Surprise(A) + Probability(T) * Surprise(T) + Probability(G) * Surprise(G) + Probability(C) * Surprise(C)\n",
        "\n"
      ],
      "metadata": {
        "id": "d6YsdJQleNSu"
      }
    },
    {
      "cell_type": "code",
      "source": [
        "#adding the products of all nucleotides for their probability and surprise\n",
        "#base freq = probability \n",
        "#surprise=log4(1/prob(nt))\n",
        "\n",
        "import math\n",
        "\n",
        "def shannon_entropy(sequence_string):\n",
        "\n",
        "  basecount={\"A\":1,\"T\":1,\"G\":1,\"C\":1} #pseudocounts\n",
        "\n",
        "  for base in sequence_string:\n",
        "    basecount[base]+=1\n",
        "\n",
        "  total=float(sum(basecount.values())) #total number of nucleotides = length of the genome\n",
        "  base_freq= [basecount[nt]/total for nt in basecount] #list comprehension\n",
        "\n",
        "  shannon_entropy=0.0\n",
        "  for bf in base_freq:\n",
        "    shannon_entropy += bf * math.log(bf,4)\n",
        "  shannon_entropy = -1.0*shannon_entropy\n",
        "  return shannon_entropy"
      ],
      "metadata": {
        "id": "iiY1NRBYmoty"
      },
      "execution_count": null,
      "outputs": []
    },
    {
      "cell_type": "code",
      "source": [
        "shannon_entropy_global = shannon_entropy(genome_sequence)"
      ],
      "metadata": {
        "id": "E7xHJp0urH9K"
      },
      "execution_count": null,
      "outputs": []
    },
    {
      "cell_type": "code",
      "source": [
        "print(shannon_entropy_global) #shannon entropy for the entire sequence"
      ],
      "metadata": {
        "colab": {
          "base_uri": "https://localhost:8080/"
        },
        "id": "Y8wDPFojroeW",
        "outputId": "26d44674-79c8-4527-ec70-9a6ef00037a6"
      },
      "execution_count": null,
      "outputs": [
        {
          "output_type": "stream",
          "name": "stdout",
          "text": [
            "0.9504455806237782\n"
          ]
        }
      ]
    },
    {
      "cell_type": "markdown",
      "source": [
        "  Let's calculate the Shannon Entropy for all residues across the genome, in a context of 20 bps with overlapping windows.\n",
        "\n",
        "Let's say this is the region:\n",
        "\n",
        "ATGTGCATGCATGCTACGTACGTACGC\n",
        "\n",
        "At 11th position, there is an A, so we take ten nucleotides before it and ten nucleotides after it to call it one region and calculate the entropy for the entire region of 21 bps:\n",
        "\n",
        "*ATGTGCATGC* A *TGCTACGTAC* GTACGC\n",
        "\n",
        "At 12th position, there is an A, so we take A, ten nucleotides before it and ten nucleotides after it to call it one region and calculate the entropy for the entire region of 21 bps:\n",
        "\n",
        "A *TGTGCATGCA* T *GCTACGTACG* TACGC\n",
        "\n",
        "What about regions before the 11th position?\n",
        "And similarly, as you reach the end of the genome, you can only go uptil the point where window size = 10 ( to give a total of 21 bp region) could be accomodated."
      ],
      "metadata": {
        "id": "1hqz6Jt9IHOA"
      }
    },
    {
      "cell_type": "code",
      "source": [
        "genome_sequence_list=list(genome_sequence)\n",
        "#AAAAAAAAA TTTTTTTTTTTGGGGGGGGGGGGGG\n",
        "#list slicing\n",
        "#0123456789.............\n",
        "shannon_entropy_list_local_genome_regions=[]\n",
        "window_size=10 #10 base pair left of a given position and 10 base pairs right of a given position + the nucleotide position around which the windows are extended = 21 length\n",
        "for position in range(0,len(genome_sequence_list)-window_size+1):\n",
        "  wstart=max(0,position-window_size)\n",
        "  wend=min(len(genome_sequence_list),position+window_size+1)\n",
        "  seq_region=genome_sequence_list[wstart:wend]\n",
        "  seq_region_string=\"\".join(seq_region)\n",
        "  #print(seq_region_string)\n",
        "  #print(shannon_entropy(seq_region_string))\n",
        "  shannon_entropy_list_local_genome_regions.append(shannon_entropy(seq_region_string))"
      ],
      "metadata": {
        "id": "S-q1G4GFsid7"
      },
      "execution_count": null,
      "outputs": []
    },
    {
      "cell_type": "code",
      "source": [
        "len(shannon_entropy_list_local_genome_regions) #entropy values for all positions in the genome # remember these are overlapping windows"
      ],
      "metadata": {
        "colab": {
          "base_uri": "https://localhost:8080/"
        },
        "id": "_c7lMKMYwkEl",
        "outputId": "3c636c99-66e1-4700-91b6-49dc8a05af7a"
      },
      "execution_count": null,
      "outputs": [
        {
          "output_type": "execute_result",
          "data": {
            "text/plain": [
              "580067"
            ]
          },
          "metadata": {},
          "execution_count": 22
        }
      ]
    },
    {
      "cell_type": "code",
      "source": [
        "window_list=[]\n",
        "for i in range(len(shannon_entropy_list_local_genome_regions)):\n",
        "  window_list.append(i+1)"
      ],
      "metadata": {
        "id": "hEcUdgVPxDtw"
      },
      "execution_count": null,
      "outputs": []
    },
    {
      "cell_type": "code",
      "source": [
        "import matplotlib.pyplot as plt\n",
        "\n",
        "plt.plot(window_list,shannon_entropy_list_local_genome_regions)\n",
        "plt.title(\"Shannon Entropy versus window size (size 10)\")\n",
        "plt.xlabel(\"Position number\")\n",
        "plt.ylabel(\"Shannon Entropy\")\n",
        "plt.show()"
      ],
      "metadata": {
        "colab": {
          "base_uri": "https://localhost:8080/",
          "height": 295
        },
        "id": "1D3QA5VXyYM4",
        "outputId": "d7824706-599d-4643-f3ff-6bc24ceafe10"
      },
      "execution_count": null,
      "outputs": [
        {
          "output_type": "display_data",
          "data": {
            "text/plain": [
              "<Figure size 432x288 with 1 Axes>"
            ],
            "image/png": "[encoded data removed]"
          },
          "metadata": {
            "needs_background": "light"
          }
        }
      ]
    },
    {
      "cell_type": "markdown",
      "source": [
        "Let's only plot those positions that fall in regions with entropy (average surprise) less than three standard deviations below the average entropy (average of average surprise)."
      ],
      "metadata": {
        "id": "NfCDYhYpGQlE"
      }
    },
    {
      "cell_type": "code",
      "source": [
        "import numpy as np\n",
        "SEarr = np.array(shannon_entropy_list_local_genome_regions)#converting to a numpy array\n",
        "average = np.mean(SEarr) #finding the mean of the numpy array created above, using the command np.mean()\n",
        "std = np.std(SEarr) ##finding the standard deviation of the numpy array created above, using the command np.mean()\n",
        "cutoff = 3*std #setting a cut-off of three standard deviations\n",
        "\n",
        "potential_low_complexity_regions=[]\n",
        "potential_low_complexity_regions_window=[]\n",
        "\n",
        "for i in range(len(shannon_entropy_list_local_genome_regions)):\n",
        "  if shannon_entropy_list_local_genome_regions[i] < average-cutoff:\n",
        "    potential_low_complexity_regions.append(shannon_entropy_list_local_genome_regions[i])\n",
        "    potential_low_complexity_regions_window.append(i+1)"
      ],
      "metadata": {
        "id": "ohbRrvL-zEBU"
      },
      "execution_count": null,
      "outputs": []
    },
    {
      "cell_type": "code",
      "source": [
        "len(potential_low_complexity_regions)"
      ],
      "metadata": {
        "colab": {
          "base_uri": "https://localhost:8080/"
        },
        "id": "gzVi_4C10LaE",
        "outputId": "8d848975-a17c-49f2-d93c-5d9d4ddcc2d6"
      },
      "execution_count": null,
      "outputs": [
        {
          "output_type": "execute_result",
          "data": {
            "text/plain": [
              "6562"
            ]
          },
          "metadata": {},
          "execution_count": 31
        }
      ]
    },
    {
      "cell_type": "code",
      "source": [
        "import matplotlib.pyplot as plt\n",
        "\n",
        "plt.plot(potential_low_complexity_regions_window,potential_low_complexity_regions)\n",
        "plt.title(\"Shannon Entropy versus window size (size 10)\")\n",
        "plt.xlabel(\"Position number\")\n",
        "plt.ylabel(\"Shannon Entropy\")\n",
        "plt.show()"
      ],
      "metadata": {
        "colab": {
          "base_uri": "https://localhost:8080/",
          "height": 295
        },
        "id": "lf8LcQSa0GGs",
        "outputId": "6974d13d-b808-4312-ca74-bfca35e475e4"
      },
      "execution_count": null,
      "outputs": [
        {
          "output_type": "display_data",
          "data": {
            "text/plain": [
              "<Figure size 432x288 with 1 Axes>"
            ],
            "image/png": "[encoded data removed]"
          },
          "metadata": {
            "needs_background": "light"
          }
        }
      ]
    },
    {
      "cell_type": "markdown",
      "source": [
        "Can you calculate the entropy for all non-overlapping regions in the M. genitalium genome? One region should be of length 20 bps.\n",
        "\n",
        "For example,\n",
        "\n",
        "genome= \"ATGTGCATGCATGCTACGTACGTACGC\"\n",
        "\n",
        "If I split the above \"genome\" into non-overlapping regions of size 4 each, I will get the following regions:\n",
        "\n",
        "ATGT GCAT GCAT GCTA CGTA CGTA CGC\n",
        "\n",
        "Note how last region ended up with just three nucleotides."
      ],
      "metadata": {
        "id": "-XIG5_c4HPf_"
      }
    }
  ]
}