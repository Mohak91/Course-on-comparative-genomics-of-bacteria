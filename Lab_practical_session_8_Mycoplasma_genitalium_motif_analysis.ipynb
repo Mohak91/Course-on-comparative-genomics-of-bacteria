{
  "nbformat": 4,
  "nbformat_minor": 0,
  "metadata": {
    "colab": {
      "provenance": [],
      "authorship_tag": "ABX9TyMKe+UhT1FZKq/z4BlWPuJH",
      "include_colab_link": true
    },
    "kernelspec": {
      "name": "python3",
      "display_name": "Python 3"
    },
    "language_info": {
      "name": "python"
    }
  },
  "cells": [
    {
      "cell_type": "markdown",
      "metadata": {
        "id": "view-in-github",
        "colab_type": "text"
      },
      "source": [
        "<a href=\"https://colab.research.google.com/github/Mohak91/Course-on-comparative-genomics-of-bacteria/blob/main/Lab_practical_session_8_Mycoplasma_genitalium_motif_analysis.ipynb\" target=\"_parent\"><img src=\"https://colab.research.google.com/assets/colab-badge.svg\" alt=\"Open In Colab\"/></a>"
      ]
    },
    {
      "cell_type": "markdown",
      "source": [
        "#Vibrio : RCCGGY R: A/G, Y: C/T, CCWGG\n",
        "#Ecoli: CCWGG W:A/T, RCCGGY\n",
        "\n",
        "#Motif avoidance or motif abundance?"
      ],
      "metadata": {
        "id": "xDposErl1lYm"
      }
    },
    {
      "cell_type": "code",
      "execution_count": null,
      "metadata": {
        "colab": {
          "base_uri": "https://localhost:8080/"
        },
        "id": "8b1v4NVNvhiF",
        "outputId": "8c6a2be8-ea64-4cd2-9a2d-0533b0683e5d"
      },
      "outputs": [
        {
          "output_type": "stream",
          "name": "stdout",
          "text": [
            "Mounted at /content/drive/\n"
          ]
        }
      ],
      "source": [
        "from google.colab import drive\n",
        "drive.mount(\"/content/drive/\")"
      ]
    },
    {
      "cell_type": "code",
      "source": [
        "%cd /content/drive/MyDrive/comp_gen_bacteria_krea"
      ],
      "metadata": {
        "colab": {
          "base_uri": "https://localhost:8080/"
        },
        "id": "qGKaWSv4vkbe",
        "outputId": "1fc7f0af-c06a-433c-9865-9d73a28fd85e"
      },
      "execution_count": null,
      "outputs": [
        {
          "output_type": "stream",
          "name": "stdout",
          "text": [
            "/content/drive/MyDrive/comp_gen_bacteria_krea\n"
          ]
        }
      ]
    },
    {
      "cell_type": "code",
      "source": [
        "FNA=\"/content/drive/MyDrive/comp_gen_bacteria_krea/GCF_000027325.1_ASM2732v1_genomic.fna\""
      ],
      "metadata": {
        "id": "cVUPrlPXvzSN"
      },
      "execution_count": null,
      "outputs": []
    },
    {
      "cell_type": "code",
      "source": [
        "#function definition\n",
        "def read_genome_sequence(fna_file):\n",
        "  sequence=\"\"\n",
        "  with open(fna_file) as file_handle:\n",
        "    for line in file_handle:\n",
        "      if not line.startswith(\">\"):\n",
        "        sequence=sequence+line.strip()\n",
        "  return sequence"
      ],
      "metadata": {
        "id": "t0P8gXKev2bN"
      },
      "execution_count": null,
      "outputs": []
    },
    {
      "cell_type": "code",
      "source": [
        "#function call\n",
        "sequence_string=read_genome_sequence(FNA)"
      ],
      "metadata": {
        "id": "TLTQazzXwCdW"
      },
      "execution_count": null,
      "outputs": []
    },
    {
      "cell_type": "code",
      "source": [
        "sequence_string"
      ],
      "metadata": {
        "id": "d87hikFcxixo"
      },
      "execution_count": null,
      "outputs": []
    },
    {
      "cell_type": "markdown",
      "source": [
        "###Observed motif count of RCCGGY in M.genitalium genome"
      ],
      "metadata": {
        "id": "eYQSNzgWc5sB"
      }
    },
    {
      "cell_type": "code",
      "source": [
        "motif=\"RCCGGY\" #ACCGGC, ACCGGT, GCCGGC, GCCGGT"
      ],
      "metadata": {
        "id": "VRWp25JtwDeW"
      },
      "execution_count": null,
      "outputs": []
    },
    {
      "cell_type": "code",
      "source": [
        "count_ACCGGC = sequence_string.count(\"ACCGGC\")\n",
        "count_ACCGGT = sequence_string.count(\"ACCGGT\")\n",
        "count_GCCGGC = sequence_string.count(\"GCCGGC\")\n",
        "count_GCCGGT = sequence_string.count(\"GCCGGT\")\n",
        "total_motif_observed = count_ACCGGC + count_ACCGGT + count_GCCGGC + count_GCCGGT"
      ],
      "metadata": {
        "id": "pMd1-upNxANc"
      },
      "execution_count": null,
      "outputs": []
    },
    {
      "cell_type": "code",
      "source": [
        "total_motif_observed"
      ],
      "metadata": {
        "colab": {
          "base_uri": "https://localhost:8080/"
        },
        "id": "W1l8bcrFxxzE",
        "outputId": "0a17faca-d32a-4eeb-9dd6-d618b89f1a84"
      },
      "execution_count": null,
      "outputs": [
        {
          "output_type": "execute_result",
          "data": {
            "text/plain": [
              "43"
            ]
          },
          "metadata": {},
          "execution_count": 8
        }
      ]
    },
    {
      "cell_type": "markdown",
      "source": [
        "###Expected motif count using random shuffling method"
      ],
      "metadata": {
        "id": "AUXk8iM0c0Ib"
      }
    },
    {
      "cell_type": "code",
      "source": [
        "import random\n",
        "import statistics\n",
        "sequence_list = list(sequence_string)\n",
        "rtotal_list=[] #the number of motifs that i find after every iteration of the random shuffling\n",
        "for i in range(0,100):\n",
        "  random.shuffle(sequence_list) #in-place shuffling\n",
        "  rsequence_string = ''.join(sequence_list) #random genome sequence\n",
        "  rcount_ACCGGC = rsequence_string.count(\"ACCGGC\")\n",
        "  rcount_ACCGGT = rsequence_string.count(\"ACCGGT\")\n",
        "  rcount_GCCGGC = rsequence_string.count(\"GCCGGC\")\n",
        "  rcount_GCCGGT = rsequence_string.count(\"GCCGGT\")\n",
        "  rtotal_motif_observed = rcount_ACCGGC + rcount_ACCGGT + rcount_GCCGGC + rcount_GCCGGT\n",
        "  rtotal_list.append(rtotal_motif_observed)\n",
        "\n",
        "rtotal_list"
      ],
      "metadata": {
        "colab": {
          "base_uri": "https://localhost:8080/"
        },
        "id": "HyWIP4eayBvY",
        "outputId": "09cb8f2a-c18c-47e4-cb54-8a2f97b73396"
      },
      "execution_count": null,
      "outputs": [
        {
          "output_type": "execute_result",
          "data": {
            "text/plain": [
              "[98,\n",
              " 97,\n",
              " 97,\n",
              " 90,\n",
              " 108,\n",
              " 91,\n",
              " 81,\n",
              " 95,\n",
              " 91,\n",
              " 84,\n",
              " 79,\n",
              " 84,\n",
              " 90,\n",
              " 107,\n",
              " 92,\n",
              " 87,\n",
              " 97,\n",
              " 99,\n",
              " 95,\n",
              " 103,\n",
              " 84,\n",
              " 99,\n",
              " 87,\n",
              " 97,\n",
              " 105,\n",
              " 83,\n",
              " 77,\n",
              " 96,\n",
              " 107,\n",
              " 93,\n",
              " 69,\n",
              " 85,\n",
              " 104,\n",
              " 94,\n",
              " 105,\n",
              " 83,\n",
              " 91,\n",
              " 98,\n",
              " 97,\n",
              " 114,\n",
              " 98,\n",
              " 99,\n",
              " 87,\n",
              " 86,\n",
              " 81,\n",
              " 88,\n",
              " 84,\n",
              " 105,\n",
              " 88,\n",
              " 85,\n",
              " 100,\n",
              " 82,\n",
              " 102,\n",
              " 111,\n",
              " 110,\n",
              " 101,\n",
              " 78,\n",
              " 87,\n",
              " 92,\n",
              " 84,\n",
              " 89,\n",
              " 89,\n",
              " 96,\n",
              " 95,\n",
              " 109,\n",
              " 82,\n",
              " 93,\n",
              " 78,\n",
              " 84,\n",
              " 89,\n",
              " 106,\n",
              " 84,\n",
              " 97,\n",
              " 85,\n",
              " 98,\n",
              " 86,\n",
              " 96,\n",
              " 80,\n",
              " 81,\n",
              " 83,\n",
              " 83,\n",
              " 75,\n",
              " 80,\n",
              " 87,\n",
              " 91,\n",
              " 88,\n",
              " 92,\n",
              " 83,\n",
              " 67,\n",
              " 100,\n",
              " 88,\n",
              " 105,\n",
              " 117,\n",
              " 77,\n",
              " 87,\n",
              " 84,\n",
              " 101,\n",
              " 99,\n",
              " 101,\n",
              " 98]"
            ]
          },
          "metadata": {},
          "execution_count": 13
        }
      ]
    },
    {
      "cell_type": "code",
      "source": [
        "mean_random = statistics.mean(rtotal_list)\n",
        "sd_random = statistics.stdev(rtotal_list)"
      ],
      "metadata": {
        "id": "7Q-EUofd07oJ"
      },
      "execution_count": null,
      "outputs": []
    },
    {
      "cell_type": "code",
      "source": [
        "mean_random"
      ],
      "metadata": {
        "colab": {
          "base_uri": "https://localhost:8080/"
        },
        "id": "nAqDBIepzPoS",
        "outputId": "5654428a-83cd-4570-91bc-ee13f1943775"
      },
      "execution_count": null,
      "outputs": [
        {
          "output_type": "execute_result",
          "data": {
            "text/plain": [
              "91.84"
            ]
          },
          "metadata": {},
          "execution_count": 15
        }
      ]
    },
    {
      "cell_type": "code",
      "source": [
        "sd_random"
      ],
      "metadata": {
        "colab": {
          "base_uri": "https://localhost:8080/"
        },
        "id": "MQZwhGdc1DDR",
        "outputId": "df827fae-65d5-48f3-b471-969c2a87fa3e"
      },
      "execution_count": null,
      "outputs": [
        {
          "output_type": "execute_result",
          "data": {
            "text/plain": [
              "9.89614760266526"
            ]
          },
          "metadata": {},
          "execution_count": 16
        }
      ]
    },
    {
      "cell_type": "code",
      "source": [
        "#nucleotide_frequency\n",
        "a_count = sequence_string.count(\"A\")/len(sequence_string)\n",
        "t_count = sequence_string.count(\"T\")/len(sequence_string)\n",
        "g_count = sequence_string.count(\"G\")/len(sequence_string)\n",
        "c_count = sequence_string.count(\"C\")/len(sequence_string)\n",
        "\n",
        "print(a_count)\n",
        "print(t_count)\n",
        "print(g_count)\n",
        "print(c_count)"
      ],
      "metadata": {
        "colab": {
          "base_uri": "https://localhost:8080/"
        },
        "id": "dJQXwaiRzjnL",
        "outputId": "8330b799-a6bf-464f-d2a2-5392ada09a70"
      },
      "execution_count": null,
      "outputs": [
        {
          "output_type": "stream",
          "name": "stdout",
          "text": [
            "0.3457202159717003\n",
            "0.3373885490866714\n",
            "0.159127424682283\n",
            "0.15776381025934533\n"
          ]
        }
      ]
    },
    {
      "cell_type": "code",
      "source": [
        "len(sequence_string)"
      ],
      "metadata": {
        "colab": {
          "base_uri": "https://localhost:8080/"
        },
        "id": "p5K8w33S0j_G",
        "outputId": "077f6810-2ecd-4e4b-a230-a9cc176d1c3c"
      },
      "execution_count": null,
      "outputs": [
        {
          "output_type": "execute_result",
          "data": {
            "text/plain": [
              "580076"
            ]
          },
          "metadata": {},
          "execution_count": 10
        }
      ]
    },
    {
      "cell_type": "markdown",
      "source": [
        "###Expected motif count using First principles"
      ],
      "metadata": {
        "id": "ElSzuBT4bgvN"
      }
    },
    {
      "cell_type": "code",
      "source": [
        "motif_freq = (a_count + g_count)*c_count*c_count*g_count*g_count*(c_count+t_count)"
      ],
      "metadata": {
        "id": "1iF8CLjMyRek"
      },
      "execution_count": null,
      "outputs": []
    },
    {
      "cell_type": "code",
      "source": [
        "expected_motif_count = motif_freq * len(sequence_string)\n",
        "expected_motif_count"
      ],
      "metadata": {
        "colab": {
          "base_uri": "https://localhost:8080/"
        },
        "id": "T4fwtTTKyvT0",
        "outputId": "0a5eb701-f552-43be-dfa8-ff7f60862773"
      },
      "execution_count": null,
      "outputs": [
        {
          "output_type": "execute_result",
          "data": {
            "text/plain": [
              "91.3879473610341"
            ]
          },
          "metadata": {},
          "execution_count": 12
        }
      ]
    },
    {
      "cell_type": "markdown",
      "source": [
        "Therefore, observed motifs RCCGGY = 43\n",
        "expected motifs RCCGGY = 91.38\n",
        "There is an under-representation i.e 43 / 91.38 < 1\n",
        "\n",
        "Can you check the same for Vibrio cholerae genome and  RCCGGY?\n",
        "E. coli genome and CCWGG?\n",
        "\n",
        "Match your results with Figure 1 of the following paper:\n",
        "\n",
        "\"SNP analysis implicates role of cytosine methylation in introducing consequential mutations in Vibrio cholerae genomes\" Sharda et. al. 2016\n",
        "\n",
        "https://www.biorxiv.org/content/10.1101/070839v1.full\n",
        "\n",
        "Note: In this paper, expected counts are reported using the random shuffling method, hence the boxplot showing all the expected values across all random shufflings (1000 random shufflings)."
      ],
      "metadata": {
        "id": "rfEnUTa7bUFb"
      }
    }
  ]
}