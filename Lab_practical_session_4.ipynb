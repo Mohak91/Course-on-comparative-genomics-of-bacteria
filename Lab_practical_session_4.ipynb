{
  "nbformat": 4,
  "nbformat_minor": 0,
  "metadata": {
    "colab": {
      "provenance": [],
      "authorship_tag": "ABX9TyOdn+vL+FqEZimNR1iWnzO+",
      "include_colab_link": true
    },
    "kernelspec": {
      "name": "python3",
      "display_name": "Python 3"
    },
    "language_info": {
      "name": "python"
    }
  },
  "cells": [
    {
      "cell_type": "markdown",
      "metadata": {
        "id": "view-in-github",
        "colab_type": "text"
      },
      "source": [
        "<a href=\"https://colab.research.google.com/github/Mohak91/Course-on-comparative-genomics-of-bacteria/blob/main/Lab_practical_session_4.ipynb\" target=\"_parent\"><img src=\"https://colab.research.google.com/assets/colab-badge.svg\" alt=\"Open In Colab\"/></a>"
      ]
    },
    {
      "cell_type": "code",
      "source": [
        "from google.colab import drive\n",
        "drive.mount(\"/content/drive/\")"
      ],
      "metadata": {
        "colab": {
          "base_uri": "https://localhost:8080/"
        },
        "id": "6XPyG-BmHbvS",
        "outputId": "16e269a5-5ecd-4d58-cfb2-834248746c77"
      },
      "execution_count": 1,
      "outputs": [
        {
          "output_type": "stream",
          "name": "stdout",
          "text": [
            "Drive already mounted at /content/drive/; to attempt to forcibly remount, call drive.mount(\"/content/drive/\", force_remount=True).\n"
          ]
        }
      ]
    },
    {
      "cell_type": "code",
      "source": [
        "%cd /content/drive/MyDrive/comp_gen_bacteria_krea"
      ],
      "metadata": {
        "colab": {
          "base_uri": "https://localhost:8080/"
        },
        "id": "mZDIxMhoJ-HJ",
        "outputId": "006a19ac-d9ca-4b87-8f08-ce9eac42b268"
      },
      "execution_count": 2,
      "outputs": [
        {
          "output_type": "stream",
          "name": "stdout",
          "text": [
            "/content/drive/MyDrive/comp_gen_bacteria_krea\n"
          ]
        }
      ]
    },
    {
      "cell_type": "code",
      "source": [
        "%ls"
      ],
      "metadata": {
        "colab": {
          "base_uri": "https://localhost:8080/"
        },
        "id": "Oj8SiJL9J_G6",
        "outputId": "4876f28f-fbd9-4b8c-e619-4f58c0f44f1f"
      },
      "execution_count": 3,
      "outputs": [
        {
          "output_type": "stream",
          "name": "stdout",
          "text": [
            "dummy_ecoli_sequence.fa              \u001b[0m\u001b[01;34mlab_session_1_linux_basics\u001b[0m/\n",
            "Lab_practical_linux_session_1.ipynb  Linux_practice_session.ipynb\n"
          ]
        }
      ]
    },
    {
      "cell_type": "markdown",
      "source": [
        "In the last session we split the dna string into codons and stored them in a list."
      ],
      "metadata": {
        "id": "hUlwVkeiB1Cy"
      }
    },
    {
      "cell_type": "code",
      "execution_count": 4,
      "metadata": {
        "id": "B-XxtjuXGW6H"
      },
      "outputs": [],
      "source": [
        "dna = \"ATGCGATTG\""
      ]
    },
    {
      "cell_type": "code",
      "source": [
        "dna_length = len(dna)"
      ],
      "metadata": {
        "id": "-7RGRYEPGlJx"
      },
      "execution_count": 5,
      "outputs": []
    },
    {
      "cell_type": "code",
      "source": [
        "dna_list=[]\n",
        "for index in range(0, dna_length, 3):\n",
        "  dna_list.append(dna[index:index+3])"
      ],
      "metadata": {
        "id": "fykxOFntGmzF"
      },
      "execution_count": 6,
      "outputs": []
    },
    {
      "cell_type": "code",
      "source": [
        "dna_list"
      ],
      "metadata": {
        "colab": {
          "base_uri": "https://localhost:8080/"
        },
        "id": "_A8pnVrbSL8k",
        "outputId": "ee9f191a-9295-4e13-8eb0-dbdb4c1f1936"
      },
      "execution_count": 7,
      "outputs": [
        {
          "output_type": "execute_result",
          "data": {
            "text/plain": [
              "['ATG', 'CGA', 'TTG']"
            ]
          },
          "metadata": {},
          "execution_count": 7
        }
      ]
    },
    {
      "cell_type": "markdown",
      "source": [
        "Let's make a new string that can not be evenly divided into three codons as above, with an extra \"A\" nucleotide in the 3' end."
      ],
      "metadata": {
        "id": "x98AT9xJB-TX"
      }
    },
    {
      "cell_type": "code",
      "source": [
        "dna_2 = \"ATGCGATTGA\"\n",
        "dna2_length = len(dna_2)"
      ],
      "metadata": {
        "id": "JuXwUUcqV9dq"
      },
      "execution_count": 8,
      "outputs": []
    },
    {
      "cell_type": "code",
      "source": [
        "dna2_length"
      ],
      "metadata": {
        "colab": {
          "base_uri": "https://localhost:8080/"
        },
        "id": "ilblOW0aWsQ1",
        "outputId": "2d8d1229-bace-4616-8547-b9a2427be37a"
      },
      "execution_count": 9,
      "outputs": [
        {
          "output_type": "execute_result",
          "data": {
            "text/plain": [
              "10"
            ]
          },
          "metadata": {},
          "execution_count": 9
        }
      ]
    },
    {
      "cell_type": "code",
      "source": [
        "dna2_length/3"
      ],
      "metadata": {
        "colab": {
          "base_uri": "https://localhost:8080/"
        },
        "id": "g2x3FVLHW5Qn",
        "outputId": "bd9aae7b-30a9-4a21-f338-78e086d3745d"
      },
      "execution_count": 10,
      "outputs": [
        {
          "output_type": "execute_result",
          "data": {
            "text/plain": [
              "3.3333333333333335"
            ]
          },
          "metadata": {},
          "execution_count": 10
        }
      ]
    },
    {
      "cell_type": "code",
      "source": [
        "dna2_length%3"
      ],
      "metadata": {
        "colab": {
          "base_uri": "https://localhost:8080/"
        },
        "id": "su7sfXREW956",
        "outputId": "1f4c6643-df36-4ed0-bccb-ae79dfabf2b2"
      },
      "execution_count": 11,
      "outputs": [
        {
          "output_type": "execute_result",
          "data": {
            "text/plain": [
              "1"
            ]
          },
          "metadata": {},
          "execution_count": 11
        }
      ]
    },
    {
      "cell_type": "markdown",
      "source": [
        "A single equal to sign is used as an assignment operator."
      ],
      "metadata": {
        "id": "0n3GFNGzCLW3"
      }
    },
    {
      "cell_type": "code",
      "source": [
        "x=0 #assignment\n",
        "x"
      ],
      "metadata": {
        "colab": {
          "base_uri": "https://localhost:8080/"
        },
        "id": "KIpM2ZX_XHp9",
        "outputId": "40ef9b75-8cc3-49c4-ad61-ef346448056e"
      },
      "execution_count": 12,
      "outputs": [
        {
          "output_type": "execute_result",
          "data": {
            "text/plain": [
              "0"
            ]
          },
          "metadata": {},
          "execution_count": 12
        }
      ]
    },
    {
      "cell_type": "markdown",
      "source": [
        "A double equal to sign is used as a relational operator, that returns a boolean answer of either True or False.\n",
        "Other relational operators are as follows:\n",
        "a. >\n",
        "b. <\n",
        "c. >=\n",
        "d. <=\n",
        "e. != (this is read as not equal to)"
      ],
      "metadata": {
        "id": "cMApRbUkCYW9"
      }
    },
    {
      "cell_type": "code",
      "source": [
        "dna2_length == 9 #try playing around with different operational operators instead of =="
      ],
      "metadata": {
        "colab": {
          "base_uri": "https://localhost:8080/"
        },
        "id": "Brdal44CXSrT",
        "outputId": "cdeba61a-f805-4b22-9a22-1f6fe47911cc"
      },
      "execution_count": 14,
      "outputs": [
        {
          "output_type": "execute_result",
          "data": {
            "text/plain": [
              "False"
            ]
          },
          "metadata": {},
          "execution_count": 14
        }
      ]
    },
    {
      "cell_type": "markdown",
      "source": [
        "#Introducing if else conditions to have better control on what we want the program to do.\n",
        "\n",
        "For example, we want to only append to the list if the string can be uniformly broken into codons, otherwise print a message and not proceed with appending to the list.\n",
        "\n",
        "Let's run it on the variable \"dna2\". It should print a message."
      ],
      "metadata": {
        "id": "rkOBYXuyC2hy"
      }
    },
    {
      "cell_type": "code",
      "source": [
        "dna2_list=[]\n",
        "if dna2_length%3 == 0:\n",
        "  for index in range(0, dna2_length, 3):\n",
        "    dna2_list.append(dna[index:index+3])\n",
        "else:\n",
        "  print(\"Warning! This seems like an odd sequence.\")"
      ],
      "metadata": {
        "colab": {
          "base_uri": "https://localhost:8080/"
        },
        "id": "pZRcSxhmWIx2",
        "outputId": "46a18467-1301-4193-aa43-bf3023a9a92d"
      },
      "execution_count": 15,
      "outputs": [
        {
          "output_type": "stream",
          "name": "stdout",
          "text": [
            "Warning! This seems like an odd sequence.\n"
          ]
        }
      ]
    },
    {
      "cell_type": "markdown",
      "source": [
        "Let's run it on the variable \"dna\" that we created above. It should break it into a list and not print the message."
      ],
      "metadata": {
        "id": "HFkDrr09EFSX"
      }
    },
    {
      "cell_type": "code",
      "source": [
        "dna_list=[]\n",
        "if dna_length%3 == 0:\n",
        "  for index in range(0, dna_length, 3):\n",
        "    dna_list.append(dna[index:index+3])\n",
        "else:\n",
        "  print(\"Warning! This seems like an odd sequence.\")"
      ],
      "metadata": {
        "id": "YgaX08_OYU3h"
      },
      "execution_count": 16,
      "outputs": []
    },
    {
      "cell_type": "code",
      "source": [
        "dna_list"
      ],
      "metadata": {
        "colab": {
          "base_uri": "https://localhost:8080/"
        },
        "id": "AZpPd4hZYao_",
        "outputId": "37cad543-21d2-4d70-e637-700146632edf"
      },
      "execution_count": 17,
      "outputs": [
        {
          "output_type": "execute_result",
          "data": {
            "text/plain": [
              "['ATG', 'CGA', 'TTG']"
            ]
          },
          "metadata": {},
          "execution_count": 17
        }
      ]
    },
    {
      "cell_type": "markdown",
      "source": [
        "#So far we have covered two main data structures - string and list.\n",
        "#Let's introduce another data structure called dictionary.\n",
        "\n",
        "#Problem: Find the reverse complement of a given DNA sequence."
      ],
      "metadata": {
        "id": "ss27jfodEfFn"
      }
    },
    {
      "cell_type": "markdown",
      "source": [
        "Dictionaries: key value pair"
      ],
      "metadata": {
        "id": "ktxQFnDsYo6u"
      }
    },
    {
      "cell_type": "code",
      "source": [
        "complement_dictionary = {\"A\":\"T\",\"T\":\"A\",\"G\":\"C\",\"C\":\"G\"} #look up table or dictionary\n",
        "complement_dictionary"
      ],
      "metadata": {
        "colab": {
          "base_uri": "https://localhost:8080/"
        },
        "id": "9nDz3J9RYhbR",
        "outputId": "db95649c-7c79-4369-d2c2-c7164f369d64"
      },
      "execution_count": 18,
      "outputs": [
        {
          "output_type": "execute_result",
          "data": {
            "text/plain": [
              "{'A': 'T', 'T': 'A', 'G': 'C', 'C': 'G'}"
            ]
          },
          "metadata": {},
          "execution_count": 18
        }
      ]
    },
    {
      "cell_type": "code",
      "source": [
        "#fetching the value of the key \"A\" from the dictionary that we created above.\n",
        "complement_dictionary[\"A\"]"
      ],
      "metadata": {
        "colab": {
          "base_uri": "https://localhost:8080/",
          "height": 35
        },
        "id": "w-k5s8PoZSzK",
        "outputId": "80b4b251-83bb-4b9d-df69-072f74f92aae"
      },
      "execution_count": 19,
      "outputs": [
        {
          "output_type": "execute_result",
          "data": {
            "text/plain": [
              "'T'"
            ],
            "application/vnd.google.colaboratory.intrinsic+json": {
              "type": "string"
            }
          },
          "metadata": {},
          "execution_count": 19
        }
      ]
    },
    {
      "cell_type": "code",
      "source": [
        "complement_dictionary.keys()"
      ],
      "metadata": {
        "colab": {
          "base_uri": "https://localhost:8080/"
        },
        "id": "QbHS5iUXZcts",
        "outputId": "e377ed91-e2ac-48b5-b246-afc64de90bce"
      },
      "execution_count": 20,
      "outputs": [
        {
          "output_type": "execute_result",
          "data": {
            "text/plain": [
              "dict_keys(['A', 'T', 'G', 'C'])"
            ]
          },
          "metadata": {},
          "execution_count": 20
        }
      ]
    },
    {
      "cell_type": "code",
      "source": [
        "complement_dictionary.values()"
      ],
      "metadata": {
        "colab": {
          "base_uri": "https://localhost:8080/"
        },
        "id": "ICkt7vFVZgFn",
        "outputId": "7ac4b68e-9de9-49ac-bfae-dbd9c780ca2d"
      },
      "execution_count": 21,
      "outputs": [
        {
          "output_type": "execute_result",
          "data": {
            "text/plain": [
              "dict_values(['T', 'A', 'C', 'G'])"
            ]
          },
          "metadata": {},
          "execution_count": 21
        }
      ]
    },
    {
      "cell_type": "code",
      "source": [
        "dna = \"ATGCGATTG\""
      ],
      "metadata": {
        "id": "G3euF-r0ZrX_"
      },
      "execution_count": 22,
      "outputs": []
    },
    {
      "cell_type": "code",
      "source": [
        "#recall how a for loop works\n",
        "for nucleotide in dna:\n",
        "  print(nucleotide)"
      ],
      "metadata": {
        "colab": {
          "base_uri": "https://localhost:8080/"
        },
        "id": "5hsrhmudZjgo",
        "outputId": "af52cc35-44fa-4f73-ced8-6daf977e5dbe"
      },
      "execution_count": 23,
      "outputs": [
        {
          "output_type": "stream",
          "name": "stdout",
          "text": [
            "A\n",
            "T\n",
            "G\n",
            "C\n",
            "G\n",
            "A\n",
            "T\n",
            "T\n",
            "G\n"
          ]
        }
      ]
    },
    {
      "cell_type": "markdown",
      "source": [
        "Let's first find the complement of the dna variable we created above using for loop and dictionary."
      ],
      "metadata": {
        "id": "XBb8ontHFMW6"
      }
    },
    {
      "cell_type": "code",
      "source": [
        "complement_dna = \"\"\n",
        "for nucleotide in dna:\n",
        "  complement_dna = complement_dna + complement_dictionary[nucleotide]"
      ],
      "metadata": {
        "id": "nfk2nDLgaHXG"
      },
      "execution_count": 24,
      "outputs": []
    },
    {
      "cell_type": "markdown",
      "source": [
        "The above code works like this:\n",
        "\n",
        "iteration 1: complement_dna = \"\", nucleotide = A, comp_dict[nucleotide] = T\n",
        "complement_dna = T\n",
        "\n",
        "iteration 2: T, T, A, T + A = TA\n",
        "\n",
        "iteration 3: TA, G, C, TA + C = TAC\n",
        "\n",
        "iteration 4: TAC..."
      ],
      "metadata": {
        "id": "haEt7zASbQyE"
      }
    },
    {
      "cell_type": "code",
      "source": [
        "complement_dna"
      ],
      "metadata": {
        "colab": {
          "base_uri": "https://localhost:8080/",
          "height": 35
        },
        "id": "IVcFSdh0ab1n",
        "outputId": "65d3deae-f2c5-4c4b-94e9-3c0275d88da4"
      },
      "execution_count": 25,
      "outputs": [
        {
          "output_type": "execute_result",
          "data": {
            "text/plain": [
              "'TACGCTAAC'"
            ],
            "application/vnd.google.colaboratory.intrinsic+json": {
              "type": "string"
            }
          },
          "metadata": {},
          "execution_count": 25
        }
      ]
    },
    {
      "cell_type": "markdown",
      "source": [
        "Once we have the complement, let's reverse the string using something that we had discussed previously."
      ],
      "metadata": {
        "id": "4T5FHicAFZlr"
      }
    },
    {
      "cell_type": "code",
      "source": [
        "reverse_complement_dna = complement_dna[::-1]"
      ],
      "metadata": {
        "id": "fulIl2mDceAZ"
      },
      "execution_count": 26,
      "outputs": []
    },
    {
      "cell_type": "markdown",
      "source": [
        "Tadaaa!!"
      ],
      "metadata": {
        "id": "pTwvEh0lFnAG"
      }
    },
    {
      "cell_type": "code",
      "source": [
        "reverse_complement_dna"
      ],
      "metadata": {
        "colab": {
          "base_uri": "https://localhost:8080/",
          "height": 35
        },
        "id": "LnnEn6tqcrcR",
        "outputId": "f66aee69-9d25-4343-bd03-477e6163402a"
      },
      "execution_count": 27,
      "outputs": [
        {
          "output_type": "execute_result",
          "data": {
            "text/plain": [
              "'CAATCGCAT'"
            ],
            "application/vnd.google.colaboratory.intrinsic+json": {
              "type": "string"
            }
          },
          "metadata": {},
          "execution_count": 27
        }
      ]
    },
    {
      "cell_type": "markdown",
      "source": [
        "What if we want to split the reverse complement into a list of codons? We will have to copy paste the code from above, again."
      ],
      "metadata": {
        "id": "waAvD3PXFuES"
      }
    },
    {
      "cell_type": "code",
      "source": [
        "rdna_length = len(reverse_complement_dna)"
      ],
      "metadata": {
        "id": "JI_Ns_e7c74k"
      },
      "execution_count": 28,
      "outputs": []
    },
    {
      "cell_type": "code",
      "source": [
        "rdna_list=[]\n",
        "if rdna_length%3 == 0:\n",
        "  for index in range(0, rdna_length, 3):\n",
        "    rdna_list.append(reverse_complement_dna[index:index+3])\n",
        "else:\n",
        "  print(\"Warning! This seems like an odd sequence.\")"
      ],
      "metadata": {
        "id": "fiWS3R2qcxbz"
      },
      "execution_count": 29,
      "outputs": []
    },
    {
      "cell_type": "code",
      "source": [
        "rdna_list"
      ],
      "metadata": {
        "colab": {
          "base_uri": "https://localhost:8080/"
        },
        "id": "Tr5Q6v_4dBCC",
        "outputId": "dafbeaf5-3c94-4619-8df6-1346f694259b"
      },
      "execution_count": 30,
      "outputs": [
        {
          "output_type": "execute_result",
          "data": {
            "text/plain": [
              "['CAA', 'TCG', 'CAT']"
            ]
          },
          "metadata": {},
          "execution_count": 30
        }
      ]
    },
    {
      "cell_type": "markdown",
      "source": [
        "#strings are immutable, lists are not. Or in other words, one can change lists in place (without create more variables)."
      ],
      "metadata": {
        "id": "KD-6bciFdzlM"
      }
    },
    {
      "cell_type": "markdown",
      "source": [
        "#Imagine if we want to split 1000000 string variables into their respective list of codons. We will have to write ( or copy/paste) the entire chunk of code again and again. Instead we can package it into a function. This makes it reusable and transferable again and again."
      ],
      "metadata": {
        "id": "MIvUryXvF7Xj"
      }
    },
    {
      "cell_type": "code",
      "source": [
        "#define functions in python\n",
        "#function definition always start with the keyword def.\n",
        "\n",
        "def string_to_list(sequence_string):\n",
        "  rdna_list=[] #local variable\n",
        "  if rdna_length%3 == 0:\n",
        "    for index in range(0, rdna_length, 3):\n",
        "      rdna_list.append(sequence_string[index:index+3])\n",
        "  else:\n",
        "    print(\"Warning! This seems like an odd sequence.\")\n",
        "  return rdna_list"
      ],
      "metadata": {
        "id": "hPg8r1t9eMMP"
      },
      "execution_count": 41,
      "outputs": []
    },
    {
      "cell_type": "code",
      "source": [
        "dna3 = \"ATTGACTAC\"\n",
        "dna4 = \"TTACCCGGG\""
      ],
      "metadata": {
        "id": "WgU4mY5Le4_n"
      },
      "execution_count": 42,
      "outputs": []
    },
    {
      "cell_type": "code",
      "source": [
        "#function call with dna3 string variable that we defined above.\n",
        "string_to_list(dna3)"
      ],
      "metadata": {
        "colab": {
          "base_uri": "https://localhost:8080/"
        },
        "id": "M8OCDjeJef3p",
        "outputId": "21585dcb-fefb-4f82-96d6-690c095d531b"
      },
      "execution_count": 43,
      "outputs": [
        {
          "output_type": "execute_result",
          "data": {
            "text/plain": [
              "['ATT', 'GAC', 'TAC']"
            ]
          },
          "metadata": {},
          "execution_count": 43
        }
      ]
    },
    {
      "cell_type": "code",
      "source": [
        "#another function call but this time with another argument string called dna4 that we defined above.\n",
        "string_to_list(dna4)"
      ],
      "metadata": {
        "colab": {
          "base_uri": "https://localhost:8080/"
        },
        "id": "g2IsLONTeuQF",
        "outputId": "6275aa79-9049-431a-e1e1-158adfb4965c"
      },
      "execution_count": 44,
      "outputs": [
        {
          "output_type": "execute_result",
          "data": {
            "text/plain": [
              "['TTA', 'CCC', 'GGG']"
            ]
          },
          "metadata": {},
          "execution_count": 44
        }
      ]
    },
    {
      "cell_type": "code",
      "source": [],
      "metadata": {
        "id": "_lPnJa07itsU"
      },
      "execution_count": null,
      "outputs": []
    }
  ]
}